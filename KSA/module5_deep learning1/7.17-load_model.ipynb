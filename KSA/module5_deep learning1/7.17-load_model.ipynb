{
 "cells": [
  {
   "cell_type": "code",
   "execution_count": 2,
   "metadata": {},
   "outputs": [
    {
     "name": "stdout",
     "output_type": "stream",
     "text": [
      "Downloading data from https://github.com/fchollet/deep-learning-models/releases/download/v0.1/vgg16_weights_tf_dim_ordering_tf_kernels_notop.h5\n",
      "58892288/58889256 [==============================] - 52s 1us/step\n"
     ]
    }
   ],
   "source": [
    "from keras.applications import VGG16  #VGG16 이란 모델을 가져온다  어디서 우승한 모델임\n",
    "\n",
    "conv_base=VGG16(weights='imagenet',include_top=False,input_shape=(150,150,3))"
   ]
  },
  {
   "cell_type": "code",
   "execution_count": 3,
   "metadata": {},
   "outputs": [
    {
     "name": "stdout",
     "output_type": "stream",
     "text": [
      "_________________________________________________________________\n",
      "Layer (type)                 Output Shape              Param #   \n",
      "=================================================================\n",
      "input_2 (InputLayer)         (None, 150, 150, 3)       0         \n",
      "_________________________________________________________________\n",
      "block1_conv1 (Conv2D)        (None, 150, 150, 64)      1792      \n",
      "_________________________________________________________________\n",
      "block1_conv2 (Conv2D)        (None, 150, 150, 64)      36928     \n",
      "_________________________________________________________________\n",
      "block1_pool (MaxPooling2D)   (None, 75, 75, 64)        0         \n",
      "_________________________________________________________________\n",
      "block2_conv1 (Conv2D)        (None, 75, 75, 128)       73856     \n",
      "_________________________________________________________________\n",
      "block2_conv2 (Conv2D)        (None, 75, 75, 128)       147584    \n",
      "_________________________________________________________________\n",
      "block2_pool (MaxPooling2D)   (None, 37, 37, 128)       0         \n",
      "_________________________________________________________________\n",
      "block3_conv1 (Conv2D)        (None, 37, 37, 256)       295168    \n",
      "_________________________________________________________________\n",
      "block3_conv2 (Conv2D)        (None, 37, 37, 256)       590080    \n",
      "_________________________________________________________________\n",
      "block3_conv3 (Conv2D)        (None, 37, 37, 256)       590080    \n",
      "_________________________________________________________________\n",
      "block3_pool (MaxPooling2D)   (None, 18, 18, 256)       0         \n",
      "_________________________________________________________________\n",
      "block4_conv1 (Conv2D)        (None, 18, 18, 512)       1180160   \n",
      "_________________________________________________________________\n",
      "block4_conv2 (Conv2D)        (None, 18, 18, 512)       2359808   \n",
      "_________________________________________________________________\n",
      "block4_conv3 (Conv2D)        (None, 18, 18, 512)       2359808   \n",
      "_________________________________________________________________\n",
      "block4_pool (MaxPooling2D)   (None, 9, 9, 512)         0         \n",
      "_________________________________________________________________\n",
      "block5_conv1 (Conv2D)        (None, 9, 9, 512)         2359808   \n",
      "_________________________________________________________________\n",
      "block5_conv2 (Conv2D)        (None, 9, 9, 512)         2359808   \n",
      "_________________________________________________________________\n",
      "block5_conv3 (Conv2D)        (None, 9, 9, 512)         2359808   \n",
      "_________________________________________________________________\n",
      "block5_pool (MaxPooling2D)   (None, 4, 4, 512)         0         \n",
      "=================================================================\n",
      "Total params: 14,714,688\n",
      "Trainable params: 14,714,688\n",
      "Non-trainable params: 0\n",
      "_________________________________________________________________\n"
     ]
    }
   ],
   "source": [
    "conv_base.summary()\n",
    "#  이렇게 생겼다."
   ]
  },
  {
   "cell_type": "code",
   "execution_count": 15,
   "metadata": {},
   "outputs": [
    {
     "name": "stdout",
     "output_type": "stream",
     "text": [
      "Found 2000 images belonging to 2 classes.\n",
      "Found 1000 images belonging to 2 classes.\n",
      "Found 1000 images belonging to 2 classes.\n"
     ]
    }
   ],
   "source": [
    "import os \n",
    "import numpy as np\n",
    "from keras.preprocessing.image import ImageDataGenerator\n",
    "\n",
    "base_dir='C:\\\\dogncat\\\\copy'\n",
    "train_dir=os.path.join(base_dir,'train')\n",
    "validation_dir=os.path.join(base_dir,'validation')\n",
    "test_dir=os.path.join(base_dir,'test')\n",
    "\n",
    "datagen=ImageDataGenerator(rescale=1./255)\n",
    "batch_size=20\n",
    "\n",
    "def extract_features(directory,sample_count):\n",
    "    features=np.zeros(shape=(sample_count,4,4,512))\n",
    "    labels=np.zeros(shape=(sample_count))\n",
    "    generator=datagen.flow_from_directory(directory,target_size=(150,150),\n",
    "                                        batch_size=batch_size,class_mode='binary')\n",
    "    \n",
    "    \n",
    "    i=0\n",
    "    for input_batch, labels_batch in generator:\n",
    "        features_batch=conv_base.predict(input_batch)\n",
    "        features[i*batch_size:(i+1)*batch_size]=features_batch\n",
    "        labels[i*batch_size:(i+1)*batch_size]=labels_batch\n",
    "        i+=1\n",
    "        if i*batch_size>=sample_count:\n",
    "            break\n",
    "    return features, labels\n",
    "\n",
    "train_features, train_labels=extract_features(train_dir,2000)\n",
    "validation_features,validation_labels=extract_features(validation_dir,1000)\n",
    "test_features,test_labels=extract_features(test_dir,1000)\n",
    "\n",
    "    "
   ]
  },
  {
   "cell_type": "code",
   "execution_count": 20,
   "metadata": {},
   "outputs": [],
   "source": [
    "train_features=np.reshape(train_features,(2000,4*4*512))\n",
    "validation_features=np.reshape(validation_features,(1000,4*4*512))\n",
    "test_features=np.reshape(test_features,(1000,4*4*512))"
   ]
  },
  {
   "cell_type": "code",
   "execution_count": 21,
   "metadata": {},
   "outputs": [
    {
     "name": "stdout",
     "output_type": "stream",
     "text": [
      "WARNING:tensorflow:From C:\\Users\\Affinity\\Anaconda3\\envs\\keras\\lib\\site-packages\\tensorflow\\python\\ops\\math_ops.py:3066: to_int32 (from tensorflow.python.ops.math_ops) is deprecated and will be removed in a future version.\n",
      "Instructions for updating:\n",
      "Use tf.cast instead.\n",
      "Train on 2000 samples, validate on 1000 samples\n",
      "Epoch 1/30\n",
      "2000/2000 [==============================] - 2s 812us/step - loss: 0.6085 - acc: 0.6765 - val_loss: 0.4443 - val_acc: 0.8380\n",
      "Epoch 2/30\n",
      "2000/2000 [==============================] - 1s 386us/step - loss: 0.4302 - acc: 0.8145 - val_loss: 0.3624 - val_acc: 0.8680\n",
      "Epoch 3/30\n",
      "2000/2000 [==============================] - 1s 381us/step - loss: 0.3603 - acc: 0.8490 - val_loss: 0.3218 - val_acc: 0.8820\n",
      "Epoch 4/30\n",
      "2000/2000 [==============================] - 1s 381us/step - loss: 0.3154 - acc: 0.8690 - val_loss: 0.2966 - val_acc: 0.8820\n",
      "Epoch 5/30\n",
      "2000/2000 [==============================] - 1s 379us/step - loss: 0.2899 - acc: 0.8775 - val_loss: 0.2876 - val_acc: 0.8830\n",
      "Epoch 6/30\n",
      "2000/2000 [==============================] - 1s 379us/step - loss: 0.2684 - acc: 0.8895 - val_loss: 0.2713 - val_acc: 0.9020\n",
      "Epoch 7/30\n",
      "2000/2000 [==============================] - 1s 380us/step - loss: 0.2524 - acc: 0.9020 - val_loss: 0.2621 - val_acc: 0.9020\n",
      "Epoch 8/30\n",
      "2000/2000 [==============================] - 1s 380us/step - loss: 0.2345 - acc: 0.9095 - val_loss: 0.2623 - val_acc: 0.8890\n",
      "Epoch 9/30\n",
      "2000/2000 [==============================] - 1s 386us/step - loss: 0.2257 - acc: 0.9105 - val_loss: 0.2603 - val_acc: 0.8900\n",
      "Epoch 10/30\n",
      "2000/2000 [==============================] - 1s 391us/step - loss: 0.2080 - acc: 0.9235 - val_loss: 0.2463 - val_acc: 0.9110\n",
      "Epoch 11/30\n",
      "2000/2000 [==============================] - 1s 390us/step - loss: 0.1961 - acc: 0.9215 - val_loss: 0.2420 - val_acc: 0.9070\n",
      "Epoch 12/30\n",
      "2000/2000 [==============================] - 1s 380us/step - loss: 0.1893 - acc: 0.9330 - val_loss: 0.2493 - val_acc: 0.8940\n",
      "Epoch 13/30\n",
      "2000/2000 [==============================] - 1s 379us/step - loss: 0.1794 - acc: 0.9370 - val_loss: 0.2469 - val_acc: 0.8970\n",
      "Epoch 14/30\n",
      "2000/2000 [==============================] - 1s 380us/step - loss: 0.1686 - acc: 0.9375 - val_loss: 0.2492 - val_acc: 0.8940\n",
      "Epoch 15/30\n",
      "2000/2000 [==============================] - 1s 384us/step - loss: 0.1615 - acc: 0.9480 - val_loss: 0.2382 - val_acc: 0.9080\n",
      "Epoch 16/30\n",
      "2000/2000 [==============================] - 1s 381us/step - loss: 0.1575 - acc: 0.9495 - val_loss: 0.2369 - val_acc: 0.9060\n",
      "Epoch 17/30\n",
      "2000/2000 [==============================] - 1s 387us/step - loss: 0.1518 - acc: 0.9445 - val_loss: 0.2348 - val_acc: 0.9100\n",
      "Epoch 18/30\n",
      "2000/2000 [==============================] - 1s 378us/step - loss: 0.1426 - acc: 0.9505 - val_loss: 0.2340 - val_acc: 0.9090\n",
      "Epoch 19/30\n",
      "2000/2000 [==============================] - 1s 388us/step - loss: 0.1366 - acc: 0.9490 - val_loss: 0.2326 - val_acc: 0.9060\n",
      "Epoch 20/30\n",
      "2000/2000 [==============================] - 1s 382us/step - loss: 0.1327 - acc: 0.9535 - val_loss: 0.2364 - val_acc: 0.9030\n",
      "Epoch 21/30\n",
      "2000/2000 [==============================] - 1s 391us/step - loss: 0.1277 - acc: 0.9560 - val_loss: 0.2333 - val_acc: 0.9050\n",
      "Epoch 22/30\n",
      "2000/2000 [==============================] - 1s 397us/step - loss: 0.1252 - acc: 0.9600 - val_loss: 0.2321 - val_acc: 0.9050\n",
      "Epoch 23/30\n",
      "2000/2000 [==============================] - 1s 381us/step - loss: 0.1177 - acc: 0.9595 - val_loss: 0.2480 - val_acc: 0.9020\n",
      "Epoch 24/30\n",
      "2000/2000 [==============================] - 1s 383us/step - loss: 0.1140 - acc: 0.9660 - val_loss: 0.2324 - val_acc: 0.9050\n",
      "Epoch 25/30\n",
      "2000/2000 [==============================] - 1s 380us/step - loss: 0.1045 - acc: 0.9685 - val_loss: 0.2393 - val_acc: 0.9010\n",
      "Epoch 26/30\n",
      "2000/2000 [==============================] - 1s 379us/step - loss: 0.1035 - acc: 0.9690 - val_loss: 0.2350 - val_acc: 0.9040\n",
      "Epoch 27/30\n",
      "2000/2000 [==============================] - 1s 382us/step - loss: 0.0990 - acc: 0.9645 - val_loss: 0.2367 - val_acc: 0.9050\n",
      "Epoch 28/30\n",
      "2000/2000 [==============================] - 1s 384us/step - loss: 0.0997 - acc: 0.9680 - val_loss: 0.2350 - val_acc: 0.9040\n",
      "Epoch 29/30\n",
      "2000/2000 [==============================] - 1s 384us/step - loss: 0.0892 - acc: 0.9765 - val_loss: 0.2358 - val_acc: 0.9040\n",
      "Epoch 30/30\n",
      "2000/2000 [==============================] - 1s 381us/step - loss: 0.0872 - acc: 0.9745 - val_loss: 0.2385 - val_acc: 0.9030\n"
     ]
    }
   ],
   "source": [
    "from keras import models\n",
    "from keras import layers\n",
    "from keras import optimizers\n",
    "\n",
    "model=models.Sequential()\n",
    "model.add(layers.Dense(256,activation='relu',input_dim=4*4*512))\n",
    "model.add(layers.Dropout(0.5))\n",
    "model.add(layers.Dense(1,activation='sigmoid'))\n",
    "\n",
    "model.compile(optimizer=optimizers.RMSprop(lr=2e-5),\n",
    "             loss='binary_crossentropy',\n",
    "             metrics=['acc'])\n",
    "\n",
    "history=model.fit(train_features,train_labels,\n",
    "                 epochs=30,\n",
    "                 batch_size=20,\n",
    "                 validation_data=(validation_features,validation_labels))\n"
   ]
  },
  {
   "cell_type": "code",
   "execution_count": 22,
   "metadata": {},
   "outputs": [],
   "source": [
    "import matplotlib.pyplot as plt"
   ]
  },
  {
   "cell_type": "code",
   "execution_count": 28,
   "metadata": {},
   "outputs": [
    {
     "data": {
      "image/png": "[encoded data removed]",
      "text/plain": [
       "<Figure size 432x288 with 1 Axes>"
      ]
     },
     "metadata": {
      "needs_background": "light"
     },
     "output_type": "display_data"
    },
    {
     "data": {
      "image/png": "[encoded data removed]",
      "text/plain": [
       "<Figure size 432x288 with 1 Axes>"
      ]
     },
     "metadata": {
      "needs_background": "light"
     },
     "output_type": "display_data"
    }
   ],
   "source": [
    "acc=history.history['acc']\n",
    "val_acc=history.history['val_acc']\n",
    "loss=history.history['loss']\n",
    "val_loss=history.history['val_loss']\n",
    "\n",
    "epochs=range(len(acc))\n",
    "\n",
    "plt.plot(epochs,acc,'bo',label='Training acc')\n",
    "plt.plot(epochs,val_acc,'b',label='Vallidation acc')\n",
    "plt.title('Training and Validation accuracy')\n",
    "\n",
    "plt.legend()\n",
    "plt.figure()\n",
    "\n",
    "plt.plot(epochs,loss,'bo',label='Training loss')\n",
    "plt.plot(epochs, val_loss, 'b', label='Validation loss')\n",
    "plt.legend()\n",
    "plt.show()"
   ]
  },
  {
   "cell_type": "code",
   "execution_count": 30,
   "metadata": {},
   "outputs": [],
   "source": [
    "from keras import models\n",
    "from keras import layers\n",
    "\n",
    "model=models.Sequential()\n",
    "model.add(conv_base)\n",
    "model.add(layers.Flatten())\n",
    "model.add(layers.Dense(256,activation='relu'))\n",
    "model.add(layers.Dense(1,activation='sigmoid'))"
   ]
  },
  {
   "cell_type": "code",
   "execution_count": 31,
   "metadata": {},
   "outputs": [
    {
     "name": "stdout",
     "output_type": "stream",
     "text": [
      "_________________________________________________________________\n",
      "Layer (type)                 Output Shape              Param #   \n",
      "=================================================================\n",
      "vgg16 (Model)                (None, 4, 4, 512)         14714688  \n",
      "_________________________________________________________________\n",
      "flatten_2 (Flatten)          (None, 8192)              0         \n",
      "_________________________________________________________________\n",
      "dense_10 (Dense)             (None, 256)               2097408   \n",
      "_________________________________________________________________\n",
      "dense_11 (Dense)             (None, 1)                 257       \n",
      "=================================================================\n",
      "Total params: 16,812,353\n",
      "Trainable params: 16,812,353\n",
      "Non-trainable params: 0\n",
      "_________________________________________________________________\n"
     ]
    }
   ],
   "source": [
    "model.summary()"
   ]
  },
  {
   "cell_type": "code",
   "execution_count": null,
   "metadata": {},
   "outputs": [],
   "source": []
  },
  {
   "cell_type": "code",
   "execution_count": null,
   "metadata": {},
   "outputs": [],
   "source": []
  },
  {
   "cell_type": "code",
   "execution_count": 32,
   "metadata": {},
   "outputs": [],
   "source": [
    "conv_base.trainable=False"
   ]
  },
  {
   "cell_type": "code",
   "execution_count": null,
   "metadata": {},
   "outputs": [],
   "source": [
    "from keras.preprocessing.image import ImageDataGenerator\n",
    "\n",
    "train_data"
   ]
  }
 ],
 "metadata": {
  "kernelspec": {
   "display_name": "keras",
   "language": "python",
   "name": "mypython"
  },
  "language_info": {
   "codemirror_mode": {
    "name": "ipython",
    "version": 3
   },
   "file_extension": ".py",
   "mimetype": "text/x-python",
   "name": "python",
   "nbconvert_exporter": "python",
   "pygments_lexer": "ipython3",
   "version": "3.6.8"
  }
 },
 "nbformat": 4,
 "nbformat_minor": 2
}
