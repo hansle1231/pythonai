{
 "cells": [
  {
   "cell_type": "code",
   "execution_count": 32,
   "metadata": {},
   "outputs": [],
   "source": [
    "import os\n",
    "import numpy as np\n",
    "import pandas as pd"
   ]
  },
  {
   "cell_type": "code",
   "execution_count": 146,
   "metadata": {},
   "outputs": [],
   "source": [
    "path_test='C:/Users\\Affinity/수행평가1/digits/testDigits/'\n",
    "path_train='C:/Users\\Affinity/수행평가1/digits/trainingDigits/'\n",
    "\n",
    "test_file_list=os.listdir(path_test)\n",
    "train_file_list=os.listdir(path_train)\n",
    "\n",
    "\n",
    "test_data=np.array(np.array(pd.read_csv(path_test+test_file_list[0])).T)  #초기데이터를 첫번째데이터로 설정\n",
    "\n"
   ]
  },
  {
   "cell_type": "code",
   "execution_count": 147,
   "metadata": {},
   "outputs": [],
   "source": [
    "#테스트 데이터 생성\n",
    "\n",
    "for i in range(1,len(test_file_list)):\n",
    "    test_data=np.vstack([test_data,np.array(pd.read_csv(path_test+test_file_list[i])).T])"
   ]
  },
  {
   "cell_type": "code",
   "execution_count": 142,
   "metadata": {},
   "outputs": [],
   "source": [
    "#테스트 라벨 생성\n",
    "\n",
    "test_label=np.array(test_file_list[0][0])\n",
    "\n",
    "for i in range(1,len(test_file_list)):\n",
    "    test_label=np.vstack([test_label,test_file_list[i][0]])"
   ]
  },
  {
   "cell_type": "code",
   "execution_count": 144,
   "metadata": {},
   "outputs": [
    {
     "data": {
      "text/plain": [
       "(946, 1)"
      ]
     },
     "execution_count": 144,
     "metadata": {},
     "output_type": "execute_result"
    }
   ],
   "source": [
    "test_label.shape"
   ]
  },
  {
   "cell_type": "code",
   "execution_count": 57,
   "metadata": {},
   "outputs": [],
   "source": [
    "#학습 데이터 생성\n",
    "train_data=np.array(np.array(pd.read_csv(path_train+train_file_list[0])).T)\n",
    "for i in range(1,len(train_file_list)):\n",
    "    train_data=np.vstack([train_data,np.array(pd.read_csv(path_train+train_file_list[i])).T])\n",
    "\n",
    "# 학습라벨 생성\n",
    "\n",
    "train_label=np.array((train_file_list[0][0]))\n",
    "\n",
    "for i in range(1,len(train_file_list)):\n",
    "    train_label=np.vstack([train_label,train_file_list[i][0]])"
   ]
  },
  {
   "cell_type": "code",
   "execution_count": 75,
   "metadata": {},
   "outputs": [
    {
     "data": {
      "text/plain": [
       "32"
      ]
     },
     "execution_count": 75,
     "metadata": {},
     "output_type": "execute_result"
    }
   ],
   "source": [
    "len(train_data[0][0])"
   ]
  },
  {
   "cell_type": "code",
   "execution_count": 71,
   "metadata": {},
   "outputs": [
    {
     "data": {
      "text/plain": [
       "'00000000000011111110000000000000'"
      ]
     },
     "execution_count": 71,
     "metadata": {},
     "output_type": "execute_result"
    }
   ],
   "source": [
    "train_data[0][0]"
   ]
  },
  {
   "cell_type": "code",
   "execution_count": 64,
   "metadata": {},
   "outputs": [
    {
     "data": {
      "text/plain": [
       "(1934, 1)"
      ]
     },
     "execution_count": 64,
     "metadata": {},
     "output_type": "execute_result"
    }
   ],
   "source": [
    "train_label.shape"
   ]
  },
  {
   "cell_type": "code",
   "execution_count": 148,
   "metadata": {},
   "outputs": [
    {
     "data": {
      "text/plain": [
       "(946, 31)"
      ]
     },
     "execution_count": 148,
     "metadata": {},
     "output_type": "execute_result"
    }
   ],
   "source": [
    "test_data.shape"
   ]
  },
  {
   "cell_type": "code",
   "execution_count": 149,
   "metadata": {},
   "outputs": [],
   "source": [
    "td=np.array([])\n",
    "sep_test_data=np.array([])\n",
    "for j in range(len(test_data)):\n",
    "    for i in range(len(test_data[0])):\n",
    "        for k in range(len(test_data[0][0])):\n",
    "            td=np.append(td,int(test_data[j][i][k]))\n",
    "    if j==0:\n",
    "        sep_test_data=np.append(sep_test_data,td)\n",
    "        td=np.array([])\n",
    "    else:\n",
    "        sep_test_data=np.vstack([sep_test_data,td])\n",
    "        td=np.array([])"
   ]
  },
  {
   "cell_type": "code",
   "execution_count": 88,
   "metadata": {},
   "outputs": [
    {
     "data": {
      "text/plain": [
       "array([['00000000000011111100000000000000',\n",
       "        '00000000000111111111000000000000',\n",
       "        '00000000011111111111000000000000', ...,\n",
       "        '00000000000111111111111100000000',\n",
       "        '00000000000011111111110000000000',\n",
       "        '00000000000000111110000000000000'],\n",
       "       ['00000000000111111110000000000000',\n",
       "        '00000000001111111111100000000000',\n",
       "        '00000000001111111111110000000000', ...,\n",
       "        '00000000001111111000000000000000',\n",
       "        '00000000001111100000000000000000',\n",
       "        '00000000000100000000000000000000'],\n",
       "       ['00000000001111000000000000000000',\n",
       "        '00000000001111000000000000000000',\n",
       "        '00000000011111100000000000000000', ...,\n",
       "        '00000000001111111111110000000000',\n",
       "        '00000000000111111111100000000000',\n",
       "        '00000000000011111100000000000000'],\n",
       "       ...,\n",
       "       ['00000000111111111000000000000000',\n",
       "        '00000001111111111100000000000000',\n",
       "        '00000011111111111111100000000000', ...,\n",
       "        '00000001111111111111111100000000',\n",
       "        '00000000000111111111110000000000',\n",
       "        '00000000000011111111000000000000'],\n",
       "       ['00000000011111111111000000000000',\n",
       "        '00000000111111111111000000000000',\n",
       "        '00000000011111111111100000000000', ...,\n",
       "        '00000000111111111111111111000000',\n",
       "        '00000000001111111111111111000000',\n",
       "        '00000000000111111111111110000000'],\n",
       "       ['00000000000000001111111111000000',\n",
       "        '00000000000000111111111111000000',\n",
       "        '00000000000011111111111111100000', ...,\n",
       "        '00000000000000111111000000000000',\n",
       "        '00000000000000011111000000000000',\n",
       "        '00000000000000001111000000000000']], dtype=object)"
      ]
     },
     "execution_count": 88,
     "metadata": {},
     "output_type": "execute_result"
    }
   ],
   "source": [
    "test_data"
   ]
  },
  {
   "cell_type": "code",
   "execution_count": 89,
   "metadata": {},
   "outputs": [
    {
     "data": {
      "text/plain": [
       "array([[1, 1],\n",
       "       [1, 1]])"
      ]
     },
     "execution_count": 89,
     "metadata": {},
     "output_type": "execute_result"
    }
   ],
   "source": [
    "np.tile([1,1],(2,1))"
   ]
  },
  {
   "cell_type": "code",
   "execution_count": null,
   "metadata": {},
   "outputs": [],
   "source": []
  },
  {
   "cell_type": "code",
   "execution_count": 119,
   "metadata": {},
   "outputs": [
    {
     "data": {
      "text/plain": [
       "0"
      ]
     },
     "execution_count": 119,
     "metadata": {},
     "output_type": "execute_result"
    }
   ],
   "source": [
    "int(train_data[0][0][0])"
   ]
  },
  {
   "cell_type": "code",
   "execution_count": 121,
   "metadata": {},
   "outputs": [],
   "source": [
    "td=np.array([])\n",
    "sep_train_data=np.array([])\n",
    "for j in range(len(train_data)):\n",
    "    for i in range(len(train_data[0])):\n",
    "        for k in range(len(train_data[0][0])):\n",
    "            td=np.append(td,int(train_data[j][i][k]))\n",
    "    if j==0:\n",
    "        sep_train_data=np.append(sep_train_data,td)\n",
    "        td=np.array([])\n",
    "    else:\n",
    "        sep_train_data=np.vstack([sep_train_data,td])\n",
    "        td=np.array([])"
   ]
  },
  {
   "cell_type": "code",
   "execution_count": 133,
   "metadata": {},
   "outputs": [
    {
     "data": {
      "text/plain": [
       "1934"
      ]
     },
     "execution_count": 133,
     "metadata": {},
     "output_type": "execute_result"
    }
   ],
   "source": [
    "len(train_data)"
   ]
  },
  {
   "cell_type": "code",
   "execution_count": 152,
   "metadata": {},
   "outputs": [
    {
     "data": {
      "text/plain": [
       "array([[0., 0., 0., ..., 0., 0., 0.],\n",
       "       [0., 0., 0., ..., 0., 0., 0.],\n",
       "       [0., 0., 0., ..., 0., 0., 0.],\n",
       "       ...,\n",
       "       [0., 0., 0., ..., 0., 0., 0.],\n",
       "       [0., 0., 0., ..., 0., 0., 0.],\n",
       "       [0., 0., 0., ..., 0., 0., 0.]])"
      ]
     },
     "execution_count": 152,
     "metadata": {},
     "output_type": "execute_result"
    }
   ],
   "source": [
    "sep_test_data"
   ]
  },
  {
   "cell_type": "code",
   "execution_count": 135,
   "metadata": {},
   "outputs": [
    {
     "data": {
      "text/plain": [
       "(1934, 1)"
      ]
     },
     "execution_count": 135,
     "metadata": {},
     "output_type": "execute_result"
    }
   ],
   "source": [
    "train_label.shape\n"
   ]
  },
  {
   "cell_type": "code",
   "execution_count": 150,
   "metadata": {},
   "outputs": [
    {
     "data": {
      "text/plain": [
       "(1934, 992)"
      ]
     },
     "execution_count": 150,
     "metadata": {},
     "output_type": "execute_result"
    }
   ],
   "source": [
    "sep_train_data.shape"
   ]
  },
  {
   "cell_type": "code",
   "execution_count": 137,
   "metadata": {},
   "outputs": [
    {
     "data": {
      "text/plain": [
       "(946, 1)"
      ]
     },
     "execution_count": 137,
     "metadata": {},
     "output_type": "execute_result"
    }
   ],
   "source": [
    "test_label.shape"
   ]
  },
  {
   "cell_type": "code",
   "execution_count": 198,
   "metadata": {},
   "outputs": [
    {
     "ename": "NameError",
     "evalue": "name 'iteritems' is not defined",
     "output_type": "error",
     "traceback": [
      "\u001b[1;31m---------------------------------------------------------------------------\u001b[0m",
      "\u001b[1;31mNameError\u001b[0m                                 Traceback (most recent call last)",
      "\u001b[1;32m<ipython-input-198-bb6e1de55ae3>\u001b[0m in \u001b[0;36m<module>\u001b[1;34m\u001b[0m\n\u001b[1;32m----> 1\u001b[1;33m \u001b[0miteritems\u001b[0m\u001b[1;33m\u001b[0m\u001b[1;33m\u001b[0m\u001b[0m\n\u001b[0m",
      "\u001b[1;31mNameError\u001b[0m: name 'iteritems' is not defined"
     ]
    }
   ],
   "source": []
  },
  {
   "cell_type": "code",
   "execution_count": 286,
   "metadata": {},
   "outputs": [],
   "source": [
    "def clsfy(inx,dataset,label,k):\n",
    "    m=len(dataset)   #데이티셋의 행크기 추출\n",
    "    print(m)\n",
    "    dffMat=np.tile(inx,(m,1))-dataset   #인풋데이터를  m행으로 만들어주고 dataset을빼준다.\n",
    "    print('dffMat=',dffMat)\n",
    "    sqDiffMat=dffMat**2  #거리를 구하기위해 제곱\n",
    "    print('sqDiffMat=',sqDiffMat)\n",
    "    sqDistance=sqDiffMat.sum(axis=1)  # (x1-x1')^2 + (x2-x2')^2 ......\n",
    "    print('sqDistance=',sqDistance)\n",
    "    Distance=np.array(sqDistance**0.5) #루트해준다\n",
    "    print('Distance=',Distance)\n",
    "    sortedDistance=Distance.argsort()  #몇번째로 가까운지 알려준다\n",
    "    print(sortedDistance)               \n",
    "    classCount={}\n",
    "    \n",
    "    for i in range(k):\n",
    "        for j in sortedDistance:\n",
    "                   if sortedDistance==i:    #  0번째,1번쨰,...k번쨰 인 인덱스알려준다.\n",
    "                        votelabel=label[j]\n",
    "                        classCount[votelabel]=classCount.get(votelabel,0)+1 #라벨 나올때마다 +1씩 (투표)\n",
    "    print(classCount)\n",
    "    sortedClasscount=sorted(classCount.items(),key=classCount.values(),reverse=True) #가장높은득표받은놈 위로\n",
    "                        \n",
    "                       \n",
    "    return sortedClasscount[0][0]                    \n",
    "    \n",
    "        \n",
    "    \n",
    "                   \n",
    "    \n",
    "    "
   ]
  },
  {
   "cell_type": "code",
   "execution_count": 287,
   "metadata": {},
   "outputs": [],
   "source": [
    "a=np.array([1,2])\n",
    "b=np.array([[2,3],[4,5],[6,7],[3,2]])\n",
    "c=np.array(['a','a','b','b'])"
   ]
  },
  {
   "cell_type": "code",
   "execution_count": 283,
   "metadata": {},
   "outputs": [],
   "source": [
    "q=np.array([1,2,11,3])"
   ]
  },
  {
   "cell_type": "code",
   "execution_count": 293,
   "metadata": {},
   "outputs": [],
   "source": [
    "def clsfy2(inx,dataset,label,k):\n",
    "    m=len(dataset)   #데이티셋의 행크기 추출\n",
    "    print(m)\n",
    "    dffMat=np.tile(inx,(m,1))-dataset"
   ]
  },
  {
   "cell_type": "code",
   "execution_count": null,
   "metadata": {},
   "outputs": [],
   "source": []
  },
  {
   "cell_type": "code",
   "execution_count": 290,
   "metadata": {},
   "outputs": [
    {
     "name": "stdout",
     "output_type": "stream",
     "text": [
      "4\n",
      "dffMat= [[-1 -1]\n",
      " [-3 -3]\n",
      " [-5 -5]\n",
      " [-2  0]]\n",
      "sqDiffMat= [[ 1  1]\n",
      " [ 9  9]\n",
      " [25 25]\n",
      " [ 4  0]]\n",
      "sqDistance= [ 2 18 50  4]\n",
      "Distance= [1.41421356 4.24264069 7.07106781 2.        ]\n",
      "[0 3 1 2]\n"
     ]
    },
    {
     "ename": "ValueError",
     "evalue": "The truth value of an array with more than one element is ambiguous. Use a.any() or a.all()",
     "output_type": "error",
     "traceback": [
      "\u001b[1;31m---------------------------------------------------------------------------\u001b[0m",
      "\u001b[1;31mValueError\u001b[0m                                Traceback (most recent call last)",
      "\u001b[1;32m<ipython-input-290-5d0ffa11996d>\u001b[0m in \u001b[0;36m<module>\u001b[1;34m\u001b[0m\n\u001b[1;32m----> 1\u001b[1;33m \u001b[0mclsfy\u001b[0m\u001b[1;33m(\u001b[0m\u001b[0ma\u001b[0m\u001b[1;33m,\u001b[0m\u001b[0mb\u001b[0m\u001b[1;33m,\u001b[0m\u001b[0mc\u001b[0m\u001b[1;33m,\u001b[0m\u001b[1;36m3\u001b[0m\u001b[1;33m)\u001b[0m\u001b[1;33m\u001b[0m\u001b[1;33m\u001b[0m\u001b[0m\n\u001b[0m",
      "\u001b[1;32m<ipython-input-286-34050ab9a5d9>\u001b[0m in \u001b[0;36mclsfy\u001b[1;34m(inx, dataset, label, k)\u001b[0m\n\u001b[0;32m     16\u001b[0m     \u001b[1;32mfor\u001b[0m \u001b[0mi\u001b[0m \u001b[1;32min\u001b[0m \u001b[0mrange\u001b[0m\u001b[1;33m(\u001b[0m\u001b[0mk\u001b[0m\u001b[1;33m)\u001b[0m\u001b[1;33m:\u001b[0m\u001b[1;33m\u001b[0m\u001b[1;33m\u001b[0m\u001b[0m\n\u001b[0;32m     17\u001b[0m         \u001b[1;32mfor\u001b[0m \u001b[0mj\u001b[0m \u001b[1;32min\u001b[0m \u001b[0msortedDistance\u001b[0m\u001b[1;33m:\u001b[0m\u001b[1;33m\u001b[0m\u001b[1;33m\u001b[0m\u001b[0m\n\u001b[1;32m---> 18\u001b[1;33m                    \u001b[1;32mif\u001b[0m \u001b[0msortedDistance\u001b[0m\u001b[1;33m==\u001b[0m\u001b[0mi\u001b[0m\u001b[1;33m:\u001b[0m    \u001b[1;31m#  0번째,1번쨰,...k번쨰 인 인덱스알려준다.\u001b[0m\u001b[1;33m\u001b[0m\u001b[1;33m\u001b[0m\u001b[0m\n\u001b[0m\u001b[0;32m     19\u001b[0m                         \u001b[0mvotelabel\u001b[0m\u001b[1;33m=\u001b[0m\u001b[0mlabel\u001b[0m\u001b[1;33m[\u001b[0m\u001b[0mj\u001b[0m\u001b[1;33m]\u001b[0m\u001b[1;33m\u001b[0m\u001b[1;33m\u001b[0m\u001b[0m\n\u001b[0;32m     20\u001b[0m                         \u001b[0mclassCount\u001b[0m\u001b[1;33m[\u001b[0m\u001b[0mvotelabel\u001b[0m\u001b[1;33m]\u001b[0m\u001b[1;33m=\u001b[0m\u001b[0mclassCount\u001b[0m\u001b[1;33m.\u001b[0m\u001b[0mget\u001b[0m\u001b[1;33m(\u001b[0m\u001b[0mvotelabel\u001b[0m\u001b[1;33m,\u001b[0m\u001b[1;36m0\u001b[0m\u001b[1;33m)\u001b[0m\u001b[1;33m+\u001b[0m\u001b[1;36m1\u001b[0m \u001b[1;31m#라벨 나올때마다 +1씩 (투표)\u001b[0m\u001b[1;33m\u001b[0m\u001b[1;33m\u001b[0m\u001b[0m\n",
      "\u001b[1;31mValueError\u001b[0m: The truth value of an array with more than one element is ambiguous. Use a.any() or a.all()"
     ]
    }
   ],
   "source": [
    "clsfy(a,b,c,3)"
   ]
  },
  {
   "cell_type": "code",
   "execution_count": 291,
   "metadata": {},
   "outputs": [
    {
     "data": {
      "text/plain": [
       "(992,)"
      ]
     },
     "execution_count": 291,
     "metadata": {},
     "output_type": "execute_result"
    }
   ],
   "source": [
    "sep_test_data[0].shape"
   ]
  },
  {
   "cell_type": "code",
   "execution_count": 292,
   "metadata": {},
   "outputs": [
    {
     "data": {
      "text/plain": [
       "(946, 1)"
      ]
     },
     "execution_count": 292,
     "metadata": {},
     "output_type": "execute_result"
    }
   ],
   "source": [
    "test_label.shape"
   ]
  },
  {
   "cell_type": "code",
   "execution_count": 249,
   "metadata": {},
   "outputs": [],
   "source": [
    "def handwritingtest(k):\n",
    "    errorcount=0\n",
    "    for i in range(0,946,30):  #30씩 시험\n",
    "        classfierresult=clsfy(sep_test_data[i].T,sep_train_data,train_label,k)\n",
    "        print('the predict is {}, the real answer is {}'.format(classfierresult,test_label))\n",
    "        if classfierresult!=test_label: errorcount+=1\n",
    "    print('total error is {}'.format(errorcount))\n",
    "    print('the error rate is{}'.format(errorcount/31))   #946/30 =31.53333..."
   ]
  },
  {
   "cell_type": "code",
   "execution_count": 237,
   "metadata": {},
   "outputs": [
    {
     "ename": "ValueError",
     "evalue": "The truth value of an array with more than one element is ambiguous. Use a.any() or a.all()",
     "output_type": "error",
     "traceback": [
      "\u001b[1;31m---------------------------------------------------------------------------\u001b[0m",
      "\u001b[1;31mValueError\u001b[0m                                Traceback (most recent call last)",
      "\u001b[1;32m<ipython-input-237-20af9e29a101>\u001b[0m in \u001b[0;36m<module>\u001b[1;34m\u001b[0m\n\u001b[1;32m----> 1\u001b[1;33m \u001b[0mhandwritingtest\u001b[0m\u001b[1;33m(\u001b[0m\u001b[1;36m3\u001b[0m\u001b[1;33m)\u001b[0m\u001b[1;33m\u001b[0m\u001b[1;33m\u001b[0m\u001b[0m\n\u001b[0m",
      "\u001b[1;32m<ipython-input-236-e07f1fce1833>\u001b[0m in \u001b[0;36mhandwritingtest\u001b[1;34m(k)\u001b[0m\n\u001b[0;32m      2\u001b[0m     \u001b[0merrorcount\u001b[0m\u001b[1;33m=\u001b[0m\u001b[1;36m0\u001b[0m\u001b[1;33m\u001b[0m\u001b[1;33m\u001b[0m\u001b[0m\n\u001b[0;32m      3\u001b[0m     \u001b[1;32mfor\u001b[0m \u001b[0mi\u001b[0m \u001b[1;32min\u001b[0m \u001b[0mrange\u001b[0m\u001b[1;33m(\u001b[0m\u001b[1;36m0\u001b[0m\u001b[1;33m,\u001b[0m\u001b[1;36m946\u001b[0m\u001b[1;33m,\u001b[0m\u001b[1;36m30\u001b[0m\u001b[1;33m)\u001b[0m\u001b[1;33m:\u001b[0m  \u001b[1;31m#30씩 시험\u001b[0m\u001b[1;33m\u001b[0m\u001b[1;33m\u001b[0m\u001b[0m\n\u001b[1;32m----> 4\u001b[1;33m         \u001b[0mclassfierresult\u001b[0m\u001b[1;33m=\u001b[0m\u001b[0mclsfy\u001b[0m\u001b[1;33m(\u001b[0m\u001b[0msep_test_data\u001b[0m\u001b[1;33m[\u001b[0m\u001b[0mi\u001b[0m\u001b[1;33m,\u001b[0m\u001b[1;33m:\u001b[0m\u001b[1;33m]\u001b[0m\u001b[1;33m,\u001b[0m\u001b[0msep_train_data\u001b[0m\u001b[1;33m,\u001b[0m\u001b[0mtrain_label\u001b[0m\u001b[1;33m,\u001b[0m\u001b[0mk\u001b[0m\u001b[1;33m)\u001b[0m\u001b[1;33m\u001b[0m\u001b[1;33m\u001b[0m\u001b[0m\n\u001b[0m\u001b[0;32m      5\u001b[0m         \u001b[0mprint\u001b[0m\u001b[1;33m(\u001b[0m\u001b[1;34m'the predict is {}, the real answer is {}'\u001b[0m\u001b[1;33m.\u001b[0m\u001b[0mformat\u001b[0m\u001b[1;33m(\u001b[0m\u001b[0mclassfierresult\u001b[0m\u001b[1;33m,\u001b[0m\u001b[0mtest_label\u001b[0m\u001b[1;33m)\u001b[0m\u001b[1;33m)\u001b[0m\u001b[1;33m\u001b[0m\u001b[1;33m\u001b[0m\u001b[0m\n\u001b[0;32m      6\u001b[0m         \u001b[1;32mif\u001b[0m \u001b[0mclassfierresult\u001b[0m\u001b[1;33m!=\u001b[0m\u001b[0mtest_label\u001b[0m\u001b[1;33m:\u001b[0m \u001b[0merrorcount\u001b[0m\u001b[1;33m+=\u001b[0m\u001b[1;36m1\u001b[0m\u001b[1;33m\u001b[0m\u001b[1;33m\u001b[0m\u001b[0m\n",
      "\u001b[1;32m<ipython-input-230-4b2c8eb951e7>\u001b[0m in \u001b[0;36mclsfy\u001b[1;34m(inx, dataset, label, k)\u001b[0m\n\u001b[0;32m     11\u001b[0m     \u001b[1;32mfor\u001b[0m \u001b[0mi\u001b[0m \u001b[1;32min\u001b[0m \u001b[0mrange\u001b[0m\u001b[1;33m(\u001b[0m\u001b[0mk\u001b[0m\u001b[1;33m)\u001b[0m\u001b[1;33m:\u001b[0m\u001b[1;33m\u001b[0m\u001b[1;33m\u001b[0m\u001b[0m\n\u001b[0;32m     12\u001b[0m         \u001b[1;32mfor\u001b[0m \u001b[0mj\u001b[0m \u001b[1;32min\u001b[0m \u001b[0msortedDistance\u001b[0m\u001b[1;33m:\u001b[0m\u001b[1;33m\u001b[0m\u001b[1;33m\u001b[0m\u001b[0m\n\u001b[1;32m---> 13\u001b[1;33m                    \u001b[1;32mif\u001b[0m \u001b[0msortedDistance\u001b[0m\u001b[1;33m==\u001b[0m\u001b[0mi\u001b[0m\u001b[1;33m:\u001b[0m    \u001b[1;31m#  0번째,1번쨰,...k번쨰 인 인덱스알려준다.\u001b[0m\u001b[1;33m\u001b[0m\u001b[1;33m\u001b[0m\u001b[0m\n\u001b[0m\u001b[0;32m     14\u001b[0m                         \u001b[0mvotelabel\u001b[0m\u001b[1;33m=\u001b[0m\u001b[0mlabel\u001b[0m\u001b[1;33m[\u001b[0m\u001b[0mj\u001b[0m\u001b[1;33m]\u001b[0m\u001b[1;33m\u001b[0m\u001b[1;33m\u001b[0m\u001b[0m\n\u001b[0;32m     15\u001b[0m                         \u001b[0mclassCount\u001b[0m\u001b[1;33m[\u001b[0m\u001b[0mvotelabel\u001b[0m\u001b[1;33m]\u001b[0m\u001b[1;33m=\u001b[0m\u001b[0mclassCount\u001b[0m\u001b[1;33m.\u001b[0m\u001b[0mget\u001b[0m\u001b[1;33m(\u001b[0m\u001b[0mvotelabel\u001b[0m\u001b[1;33m,\u001b[0m\u001b[1;36m0\u001b[0m\u001b[1;33m)\u001b[0m\u001b[1;33m+\u001b[0m\u001b[1;36m1\u001b[0m \u001b[1;31m#라벨 나올때마다 +1씩 (투표)\u001b[0m\u001b[1;33m\u001b[0m\u001b[1;33m\u001b[0m\u001b[0m\n",
      "\u001b[1;31mValueError\u001b[0m: The truth value of an array with more than one element is ambiguous. Use a.any() or a.all()"
     ]
    }
   ],
   "source": [
    "handwritingtest(3)"
   ]
  },
  {
   "cell_type": "code",
   "execution_count": null,
   "metadata": {},
   "outputs": [],
   "source": []
  }
 ],
 "metadata": {
  "kernelspec": {
   "display_name": "MP",
   "language": "python",
   "name": "mp"
  },
  "language_info": {
   "codemirror_mode": {
    "name": "ipython",
    "version": 3
   },
   "file_extension": ".py",
   "mimetype": "text/x-python",
   "name": "python",
   "nbconvert_exporter": "python",
   "pygments_lexer": "ipython3",
   "version": "3.6.8"
  },
  "widgets": {
   "state": {},
   "version": "1.1.2"
  }
 },
 "nbformat": 4,
 "nbformat_minor": 2
}
