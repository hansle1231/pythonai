{
 "cells": [
  {
   "cell_type": "code",
   "execution_count": 1,
   "metadata": {},
   "outputs": [],
   "source": [
    "import nltk\n",
    "from nltk.tokenize import word_tokenize"
   ]
  },
  {
   "cell_type": "markdown",
   "metadata": {},
   "source": [
    "^x  문자열의 시작을 표현하며 x 문자로 시작됨을 의미한다.\n",
    "\n",
    "x$  문자열의 종료를 표현하며 x 문자로 종료됨을 의미한다.\n",
    "\n",
    ".x 임의의 한 문자의 자리수를 표현하며 문자열이 x 로 끝난다는 것을 의미한다.\n",
    "\n",
    "x+  반복을 표현하며 x 문자가 한번 이상 반복됨을 의미한다.\n",
    "\n",
    "x?  존재여부를 표현하며 x 문자가 존재할 수도, 존재하지 않을 수도 있음을 의미한다.\n",
    "\n",
    "x*  반복여부를 표현하며 x 문자가 0번 또는 그 이상 반복됨을 의미한다.\n",
    "\n",
    "x|y or 를 표현하며 x 또는 y 문자가 존재함을 의미한다.\n",
    "\n",
    "(x) 그룹을 표현하며 x 를 그룹으로 처리함을 의미한다.\n",
    "\n",
    "(x)(y) 그룹들의 집합을 표현하며 앞에서 부터 순서대로 번호를 부여하여 관리하고 x, y 는 각 그룹의 데이터로 관리된다.\n",
    "\n",
    "(x)(?:y) 그룹들의 집합에 대한 예외를 표현하며 그룹 집합으로 관리되지 않음을 의미한다. \n",
    "\n",
    "x{n}  반복을 표현하며 x 문자가 n번 반복됨을 의미한다.\n",
    "\n",
    "x{n,}  반복을 표현하며 x 문자가 n번 이상 반복됨을 의미한다.\n",
    " \n",
    "x{n,m} 반복을 표현하며 x 문자가 최소 n번 이상 최대 m 번 이하로 반복됨을 의미한다.\n",
    "\n",
    "\n"
   ]
  },
  {
   "cell_type": "markdown",
   "metadata": {},
   "source": [
    "[xy] 문자 선택을 표현하며 x 와 y 중에 하나를 의미한다.\n",
    "[^xy] not 을 표현하며  x 및 y 를 제외한 문자를 의미한다.\n",
    "[x-z] range를 표현하며 x ~ z 사이의 문자를 의미한다. \n",
    " \\^ escape 를 표현하며 ^ 를 문자로 사용함을 의미한다.\n",
    " \\b word boundary를 표현하며 문자와 공백사이의 문자를 의미한다.\n",
    " \\B non word boundary를 표현하며 문자와 공백사이가 아닌 문자를 의미한다.\n",
    " \\d digit 를 표현하며 숫자를 의미한다. \n",
    " \\D non digit 를 표현하며 숫자가 아닌 것을 의미한다. \n",
    " \\s space 를 표현하며 공백 문자를 의미한다. \n",
    " \\S non space를 표현하며 공백 문자가 아닌 것을 의미한다.\n",
    " \\t tab 을 표현하며 탭 문자를 의미한다.\n",
    " \\v vertical tab을 표현하며 수직 탭(?) 문자를 의미한다.\n",
    " \\w\n",
    "word 를 표현하며 알파벳 + 숫자 + _ 중의 한 문자임을 의미한다. \n",
    " \\W\n",
    "\n",
    "non word를 표현하며 알파벳 + 숫자 + _ 가 아닌 문자를 의미한다.\n",
    "\n"
   ]
  },
  {
   "cell_type": "code",
   "execution_count": 2,
   "metadata": {},
   "outputs": [
    {
     "name": "stderr",
     "output_type": "stream",
     "text": [
      "[nltk_data] Downloading package punkt to\n",
      "[nltk_data]     C:\\Users\\Affinity\\AppData\\Roaming\\nltk_data...\n",
      "[nltk_data]   Package punkt is already up-to-date!\n"
     ]
    },
    {
     "data": {
      "text/plain": [
       "True"
      ]
     },
     "execution_count": 2,
     "metadata": {},
     "output_type": "execute_result"
    }
   ],
   "source": [
    "nltk.download('punkt')"
   ]
  },
  {
   "cell_type": "code",
   "execution_count": 3,
   "metadata": {},
   "outputs": [
    {
     "name": "stdout",
     "output_type": "stream",
     "text": [
      "['Do', \"n't\", 'be', 'fooled', 'by', 'the', 'dark', 'sounding', 'name', ',', 'Mr.Jone', \"'s\", 'Orphanage', 'is', 'as', 'cheery', 'as', 'cheery', 'goes', 'for', 'a', 'pastry', 'shop']\n"
     ]
    }
   ],
   "source": [
    "print(word_tokenize(\"Don't be fooled by the dark sounding name, Mr.Jone's Orphanage is as cheery as cheery goes for a pastry shop\"))"
   ]
  },
  {
   "cell_type": "code",
   "execution_count": 4,
   "metadata": {},
   "outputs": [],
   "source": [
    "from nltk.tokenize import WordPunctTokenizer"
   ]
  },
  {
   "cell_type": "code",
   "execution_count": 5,
   "metadata": {},
   "outputs": [
    {
     "data": {
      "text/plain": [
       "['Don',\n",
       " \"'\",\n",
       " 't',\n",
       " 'be',\n",
       " 'fooled',\n",
       " 'by',\n",
       " 'the',\n",
       " 'dark',\n",
       " 'sounding',\n",
       " 'name',\n",
       " ',',\n",
       " 'Mr',\n",
       " '.',\n",
       " 'Jone',\n",
       " \"'\",\n",
       " 's',\n",
       " 'Orphanage',\n",
       " 'is',\n",
       " 'as',\n",
       " 'cheery',\n",
       " 'as',\n",
       " 'cheery',\n",
       " 'goes',\n",
       " 'for',\n",
       " 'a',\n",
       " 'pastry',\n",
       " 'shop']"
      ]
     },
     "execution_count": 5,
     "metadata": {},
     "output_type": "execute_result"
    }
   ],
   "source": [
    "WordPunctTokenizer().tokenize(\"Don't be fooled by the dark sounding name, Mr.Jone's Orphanage is as cheery as cheery goes for a pastry shop\")"
   ]
  },
  {
   "cell_type": "code",
   "execution_count": 6,
   "metadata": {},
   "outputs": [
    {
     "data": {
      "text/plain": [
       "['starting',\n",
       " 'a',\n",
       " 'home-based',\n",
       " 'restaurant',\n",
       " 'may',\n",
       " 'be',\n",
       " 'an',\n",
       " 'ideal.',\n",
       " 'it',\n",
       " 'does',\n",
       " \"n't\",\n",
       " 'have',\n",
       " 'a',\n",
       " 'food',\n",
       " 'chain',\n",
       " 'or',\n",
       " 'restaurant',\n",
       " 'of',\n",
       " 'their',\n",
       " 'own']"
      ]
     },
     "execution_count": 6,
     "metadata": {},
     "output_type": "execute_result"
    }
   ],
   "source": [
    "import nltk\n",
    "from nltk.tokenize import TreebankWordTokenizer\n",
    "tokenizer=TreebankWordTokenizer()\n",
    "text=\"starting a  home-based restaurant may be an ideal. it  doesn't have a food chain or restaurant of their own\"\n",
    "\n",
    "\n",
    "tokenizer.tokenize(text)"
   ]
  },
  {
   "cell_type": "markdown",
   "metadata": {},
   "source": [
    "* NLTK 토큰화\n"
   ]
  },
  {
   "cell_type": "code",
   "execution_count": 7,
   "metadata": {},
   "outputs": [
    {
     "name": "stdout",
     "output_type": "stream",
     "text": [
      "['i', 'am', 'actively', 'looking', 'for', 'Ph.D.', 'students', '.', 'and', 'you', 'are', 'a', 'Ph.D.', 'student', '.']\n"
     ]
    }
   ],
   "source": [
    "import nltk\n",
    "from nltk.tokenize import word_tokenize\n",
    "\n",
    "text=\"i am actively looking for Ph.D. students. and you are a Ph.D. student.\"\n",
    "print(word_tokenize(text))"
   ]
  },
  {
   "cell_type": "code",
   "execution_count": null,
   "metadata": {},
   "outputs": [],
   "source": []
  },
  {
   "cell_type": "markdown",
   "metadata": {},
   "source": [
    "* 품사태깅"
   ]
  },
  {
   "cell_type": "code",
   "execution_count": 8,
   "metadata": {},
   "outputs": [
    {
     "name": "stderr",
     "output_type": "stream",
     "text": [
      "[nltk_data] Downloading package averaged_perceptron_tagger to\n",
      "[nltk_data]     C:\\Users\\Affinity\\AppData\\Roaming\\nltk_data...\n",
      "[nltk_data]   Package averaged_perceptron_tagger is already up-to-\n",
      "[nltk_data]       date!\n"
     ]
    },
    {
     "data": {
      "text/plain": [
       "[('i', 'NN'),\n",
       " ('am', 'VBP'),\n",
       " ('actively', 'RB'),\n",
       " ('looking', 'VBG'),\n",
       " ('for', 'IN'),\n",
       " ('Ph.D.', 'NNP'),\n",
       " ('students', 'NNS'),\n",
       " ('.', '.'),\n",
       " ('and', 'CC'),\n",
       " ('you', 'PRP'),\n",
       " ('are', 'VBP'),\n",
       " ('a', 'DT'),\n",
       " ('Ph.D.', 'NNP'),\n",
       " ('student', 'NN'),\n",
       " ('.', '.')]"
      ]
     },
     "execution_count": 8,
     "metadata": {},
     "output_type": "execute_result"
    }
   ],
   "source": [
    "from nltk.tag import pos_tag\n",
    "nltk.download('averaged_perceptron_tagger')\n",
    "x=word_tokenize(text)\n",
    "pos_tag(x)"
   ]
  },
  {
   "cell_type": "code",
   "execution_count": null,
   "metadata": {},
   "outputs": [],
   "source": []
  },
  {
   "cell_type": "markdown",
   "metadata": {},
   "source": [
    "* okt 형태소 단위로 분해"
   ]
  },
  {
   "cell_type": "code",
   "execution_count": 9,
   "metadata": {},
   "outputs": [],
   "source": [
    "import konlpy"
   ]
  },
  {
   "cell_type": "code",
   "execution_count": 10,
   "metadata": {},
   "outputs": [
    {
     "name": "stderr",
     "output_type": "stream",
     "text": [
      "C:\\Users\\Affinity\\Anaconda3\\envs\\keras\\lib\\site-packages\\jpype\\_core.py:210: UserWarning: \n",
      "-------------------------------------------------------------------------------\n",
      "Deprecated: convertStrings was not specified when starting the JVM. The default\n",
      "behavior in JPype will be False starting in JPype 0.8. The recommended setting\n",
      "for new code is convertStrings=False.  The legacy value of True was assumed for\n",
      "this session. If you are a user of an application that reported this warning,\n",
      "please file a ticket with the developer.\n",
      "-------------------------------------------------------------------------------\n",
      "\n",
      "  \"\"\")\n"
     ]
    },
    {
     "name": "stdout",
     "output_type": "stream",
     "text": [
      "['열심히', '코딩', '한', '당신', ',', '연휴', '에는', '여행', '을', '가봐요']\n"
     ]
    }
   ],
   "source": [
    "from konlpy.tag import Okt\n",
    "okt=Okt()\n",
    "\n",
    "print(okt.morphs(\"열심히 코딩한당신, 연휴에는 여행을 가봐요\"))"
   ]
  },
  {
   "cell_type": "code",
   "execution_count": 11,
   "metadata": {},
   "outputs": [
    {
     "name": "stdout",
     "output_type": "stream",
     "text": [
      "[('열심히', 'Adverb'), ('코딩', 'Noun'), ('한', 'Josa'), ('당신', 'Noun'), (',', 'Punctuation'), ('연휴', 'Noun'), ('에는', 'Josa'), ('여행', 'Noun'), ('을', 'Josa'), ('가봐요', 'Verb')]\n"
     ]
    }
   ],
   "source": [
    "print(okt.pos(\"열심히 코딩한 당신, 연휴에는 여행을 가봐요\"))"
   ]
  },
  {
   "cell_type": "code",
   "execution_count": 12,
   "metadata": {},
   "outputs": [
    {
     "name": "stdout",
     "output_type": "stream",
     "text": [
      "['코딩', '당신', '연휴', '여행']\n"
     ]
    }
   ],
   "source": [
    "print(okt.nouns(\"열심히 코딩한 당신, 연휴에는 여행을 가봐요\"))"
   ]
  },
  {
   "cell_type": "markdown",
   "metadata": {},
   "source": [
    "* 한나눔 분석기"
   ]
  },
  {
   "cell_type": "code",
   "execution_count": 13,
   "metadata": {},
   "outputs": [
    {
     "name": "stdout",
     "output_type": "stream",
     "text": [
      "['형태소', '분석']\n"
     ]
    }
   ],
   "source": [
    "from konlpy.tag import Hannanum\n",
    "\n",
    "han=Hannanum()\n",
    "\n",
    "print(han.nouns(\"형태소 분석을 해봅시다. 어렵지않아요\"))  #명사"
   ]
  },
  {
   "cell_type": "code",
   "execution_count": 14,
   "metadata": {},
   "outputs": [
    {
     "name": "stdout",
     "output_type": "stream",
     "text": [
      "['형태소', '분석', '을', '하', '어', '보', 'ㅂ시다', '.', '어렵', '지', '않', '아요']\n"
     ]
    }
   ],
   "source": [
    "print(han.morphs(\"형태소 분석을 해봅시다. 어렵지않아요\"))  #형태소"
   ]
  },
  {
   "cell_type": "code",
   "execution_count": 15,
   "metadata": {},
   "outputs": [
    {
     "name": "stdout",
     "output_type": "stream",
     "text": [
      "[('형태소', 'N'), ('분석', 'N'), ('을', 'J'), ('하', 'P'), ('어', 'E'), ('보', 'P'), ('ㅂ시다', 'E'), ('.', 'S'), ('어렵', 'P'), ('지', 'E'), ('않', 'P'), ('아요', 'E')]\n"
     ]
    }
   ],
   "source": [
    "print(han.pos(\"형태소 분석을 해봅시다. 어렵지않아요\"))"
   ]
  },
  {
   "cell_type": "code",
   "execution_count": 16,
   "metadata": {},
   "outputs": [
    {
     "name": "stdout",
     "output_type": "stream",
     "text": [
      "분석할 텍스트를 입력하세요안녕하세요 대한민국입니다.\n",
      "안녕   N\n",
      "하   X\n",
      "세   E\n",
      "요   J\n",
      "대한민국   N\n",
      "이   J\n",
      "ㅂ니다   E\n",
      ".   S\n"
     ]
    }
   ],
   "source": [
    "from konlpy.tag import Hannanum\n",
    "\n",
    "han=Hannanum()\n",
    "\n",
    "text=input(\"분석할 텍스트를 입력하세요\")\n",
    "result=han.pos(text)\n",
    "\n",
    "\n",
    "for tex,pos in result:\n",
    "    print(\"{}   {}\".format(tex,pos))"
   ]
  },
  {
   "cell_type": "code",
   "execution_count": 20,
   "metadata": {},
   "outputs": [
    {
     "name": "stdout",
     "output_type": "stream",
     "text": [
      "분석할 텍스트를 입력하세요분석해 봐라\n",
      "분석   Noun\n",
      "해   Verb\n",
      "봐라   Verb\n"
     ]
    }
   ],
   "source": [
    "from konlpy.tag import Okt\n",
    "\n",
    "han=Okt()\n",
    "\n",
    "text=input(\"분석할 텍스트를 입력하세요\")\n",
    "result=han.pos(text)\n",
    "\n",
    "\n",
    "for tex,pos in result:\n",
    "    print(\"{}   {}\".format(tex,pos))"
   ]
  },
  {
   "cell_type": "markdown",
   "metadata": {},
   "source": [
    "# 정제\n"
   ]
  },
  {
   "cell_type": "code",
   "execution_count": 17,
   "metadata": {},
   "outputs": [
    {
     "name": "stderr",
     "output_type": "stream",
     "text": [
      "[nltk_data] Downloading package stopwords to\n",
      "[nltk_data]     C:\\Users\\Affinity\\AppData\\Roaming\\nltk_data...\n",
      "[nltk_data]   Package stopwords is already up-to-date!\n"
     ]
    },
    {
     "data": {
      "text/plain": [
       "['i', 'me', 'my', 'myself', 'we', 'our', 'ours', 'ourselves', 'you', \"you're\"]"
      ]
     },
     "execution_count": 17,
     "metadata": {},
     "output_type": "execute_result"
    }
   ],
   "source": [
    "from nltk.corpus import stopwords\n",
    "nltk.download('stopwords')\n",
    "\n",
    "stopwords.words('english')[:10]"
   ]
  },
  {
   "cell_type": "code",
   "execution_count": 18,
   "metadata": {},
   "outputs": [],
   "source": [
    "from nltk.corpus import stopwords\n",
    "from nltk.tokenize import word_tokenize"
   ]
  },
  {
   "cell_type": "code",
   "execution_count": 19,
   "metadata": {},
   "outputs": [
    {
     "name": "stdout",
     "output_type": "stream",
     "text": [
      "['famly', 'is', 'not', 'an', 'important', 'thing', '.', 'it', \"'s\", 'everything']\n",
      "['famly', 'important', 'thing', '.', \"'s\", 'everything']\n"
     ]
    }
   ],
   "source": [
    "example=\"famly is not an important thing. it's everything\"\n",
    "stop_words=set(stopwords.words(\"english\"))\n",
    "\n",
    "word_tokes=word_tokenize(example)\n",
    "result=[]\n",
    "\n",
    "for w in word_tokes:\n",
    "    if w not in stop_words:\n",
    "        result.append(w)\n",
    "        \n",
    "print(word_tokes)\n",
    "print(result)"
   ]
  },
  {
   "cell_type": "code",
   "execution_count": 20,
   "metadata": {},
   "outputs": [],
   "source": [
    "example=\"고기는 아무렇게나 구우려고 하면 안돼. 고기라고 다 같은 게 아니거든. 예컨대 삽겹살을 구울 때는 중요한 게 있지.\"\n",
    "stop_words=\"아무거나 아무렇게나 어찧든지 같다 비슷하다 예컨대 이럴정도로 하면 아니거든 \""
   ]
  },
  {
   "cell_type": "code",
   "execution_count": 21,
   "metadata": {},
   "outputs": [
    {
     "name": "stdout",
     "output_type": "stream",
     "text": [
      "['고기는', '아무렇게나', '구우려고', '하면', '안돼', '.', '고기라고', '다', '같은', '게', '아니거든', '.', '예컨대', '삽겹살을', '구울', '때는', '중요한', '게', '있지', '.']\n",
      "['고기는', '구우려고', '안돼', '.', '고기라고', '다', '같은', '게', '.', '삽겹살을', '구울', '때는', '중요한', '게', '있지', '.']\n"
     ]
    }
   ],
   "source": [
    "from nltk.corpus import stopwords\n",
    "from nltk.tokenize import word_tokenize\n",
    "\n",
    "\n",
    "stop_words=stop_words.split(' ')\n",
    "\n",
    "word_tokens=word_tokenize(example)\n",
    "result=[]\n",
    "\n",
    "for w in word_tokens:\n",
    "    if w not in stop_words:\n",
    "        result.append(w)\n",
    "        \n",
    "        \n",
    "print(word_tokens)\n",
    "print(result)"
   ]
  },
  {
   "cell_type": "code",
   "execution_count": 22,
   "metadata": {},
   "outputs": [
    {
     "data": {
      "text/plain": [
       "['1809890.txt',\n",
       " '1809891.txt',\n",
       " '1809892.txt',\n",
       " '1809893.txt',\n",
       " '1809894.txt',\n",
       " '1809895.txt',\n",
       " '1809896.txt',\n",
       " '1809897.txt',\n",
       " '1809898.txt',\n",
       " '1809899.txt']"
      ]
     },
     "execution_count": 22,
     "metadata": {},
     "output_type": "execute_result"
    }
   ],
   "source": [
    "from konlpy.corpus import kobill  # 법률안 읽어오는 함수\n",
    "\n",
    "files_ko=kobill.fileids()\n",
    "\n",
    "files_ko"
   ]
  },
  {
   "cell_type": "code",
   "execution_count": 23,
   "metadata": {},
   "outputs": [
    {
     "data": {
      "text/plain": [
       "'지방공무원법 일부개정법률안\\n\\n(정의화의원 대표발의 )\\n\\n 의 안\\n 번 호\\n\\n9890\\n\\n발의연월일 : 2010.  11.  12.  \\n\\n발  의  자 : 정의화․이명수․김을동 \\n\\n이사철․여상규․안규백\\n\\n황영철․박영아․김정훈\\n\\n김학송 의원(10인)\\n\\n제안이유 및 주요내용\\n\\n  초등학교 저학년의 경우에도 부모의 따뜻한 사랑과 보살핌이 필요\\n\\n한 나이이나, 현재 공무원이 자녀를 양육하기 위하여 육아휴직을 할 \\n\\n수 있는 자녀의 나이는 만 6세 이하로 되어 있어 초등학교 저학년인 \\n\\n자녀를 돌보기 위해서는 해당 부모님은 일자리를 그만 두어야 하고 \\n\\n이는 곧 출산의욕을 저하시키는 문제로 이어질 수 있을 것임.\\n\\n  따라서 육아휴직이 가능한 자녀의 연령을 만 8세 이하로 개정하려\\n\\n는 것임(안 제63조제2항제4호).\\n\\n- 1 -\\n\\n\\x0c법률  제        호\\n\\n지방공무원법 일부개정법률안\\n\\n지방공무원법 일부를 다음과 같이 개정한다.\\n\\n제63조제2항제4호 중 “만 6세 이하의 초등학교 취학 전 자녀를”을 “만 \\n\\n8세 이하(취학 중인 경우에는 초등학교 2학년 이하를 말한다)의 자녀를”\\n\\n로 한다.\\n\\n부      칙\\n\\n이 법은 공포한 날부터 시행한다.\\n\\n- 3 -\\n\\n\\x0c신 ·구조문대비표\\n\\n현      행\\n\\n개   정   안\\n\\n제63조(휴직) ① (생  략)\\n\\n제63조(휴직) ① (현행과 같음)\\n\\n  ② 공무원이 다음 각 호의 어\\n\\n  ② -------------------------\\n\\n느 하나에 해당하는 사유로 휴\\n\\n----------------------------\\n\\n직을 원하면 임용권자는 휴직\\n\\n----------------------------\\n\\n을 명할 수 있다. 다만, 제4호\\n\\n-------------.---------------\\n\\n의 경우에는 대통령령으로 정\\n\\n----------------------------\\n\\n하는 특별한 사정이 없으면 휴\\n\\n----------------------------\\n\\n직을 명하여야 한다.\\n\\n--------------.\\n\\n  1. ∼ 3. (생  략)\\n\\n  1. ∼ 3. (현행과 같음)\\n\\n  4. 만 6세 이하의 초등학교 취\\n\\n  4. 만 8세 이하(취학 중인 경우\\n\\n학 전 자녀를 양육하기 위하\\n\\n에는 초등학교 2학년 이하를 \\n\\n여 필요하거나 여자공무원이 \\n\\n말한다)의 자녀를 ----------\\n\\n임신 또는 출산하게 되었을 \\n\\n---------------------------\\n\\n때\\n\\n---------------------------\\n\\n  5.⋅6. (생  략)\\n\\n  ③⋅④ (생  략)\\n\\n--------\\n\\n  5.⋅6. (현행과 같음)\\n\\n  ③⋅④ (현행과 같음)\\n\\n- 5 -\\n\\n\\x0c지방공무원법 일부개정법률안 등 비용추계서 미첨부사유서\\n1.  재정수반요인\\n\\n개정안에서 ｢국가공무원법｣  제71조제2항제4호 중 국가공무원의 육아\\n\\n휴직 가능 자녀의 연령을 만6세 이하에서 만8세 이하로 하고, ｢지방공\\n\\n무원법｣ 제63조제2항제4호 중 지방공무원의 육아휴직 가능 자녀의 연\\n\\n령을 만6세 이하에서 만8세 이하로 하고, ｢교육공무원법｣ 제44조제1항\\n\\n제7조 중 교육공무원의 육아휴직 가능 자녀의 연령을 만6세 이하에서 \\n\\n만8세 이하로 하고, ｢남녀고용평등과 일․가정 양립지원에 관한 법률｣ \\n\\n제19조제1항 중 근로자 육아휴직 가능 자녀연령을 만6세 이하에서 만\\n\\n8세 이하로 조정함에 따라 추가 재정소요가 예상됨.\\n\\n2.  미첨부  근거  규정\\n｢의안의 비용추계에 관한 규칙｣ 제3조제1항 단서 중 제1호(예상되는 비용이 연평균  10억원 미만\\n이거나  한시적인  경비로서  총  30억원  미만인  경우)에  해당함.\\n\\n3.  미첨부  사유\\n\\n개정안에서 국가․지방․교육공무원 및 근로자가 육아휴직을 신청할 \\n\\n수 있는 자녀의 연령을 만6세 이하에서 만8세 이하로 상향조정함에 \\n\\n따라 추가 재정소요가 예상된다. 동 법률 개정안이 2011년에 시행된다\\n\\n고 가정한 경우, 2010년 현재 자녀의 연령이 7세이고 육아휴직을 신청\\n\\n- 7 -\\n\\n\\x0c- 8 -\\n\\n하지 않은 국가․지방․교육공무원 및 근로자가 대상이 된다.\\n\\n대상연령의 확대됨에 따라 육아휴직신청자의 수가 어느 정도 늘어날 \\n\\n것으로 예상된다. 이 경우 발생하는 비용은 현행법에 따르면 월50만원\\n\\n이나 현재 관련법령 개정이 추진되고 있으며, 이에 따라 2011년에는 \\n\\n육아휴직자가 지급받는 월급여액에 비례하여 육아휴직급여가 지급되\\n\\n기 때문에 법령개정을 가정하고 추계한다. 이러한 경우 육아휴직급여\\n\\n액은 육아휴직자가 지급받는 월급여의 40%에 해당한다. 육아휴직자가 \\n\\n발생한 경우 발생하는 비용은 대체인력 고용인건비와 육아휴직자가 \\n\\n받는 월급여액의 40%이다. 이와 대비하여 육아휴직자에게 지급하던 \\n\\n임금은 더 이상 발생하지 않는다. 따라서 실제 발생하는 순비용은 육\\n\\n아휴직자에게 지급하던 월 급여액과 연령 확대에 따라 발생하는 비용\\n\\n인 육아휴직자가 받던 월급여액의 40%와 대체인력 고용인건비의 차\\n\\n액인데 이 값이 0보다 크면 추가 재정소요는 발생하지 않는다고 볼 \\n\\n수 있다.\\n\\n추가비용 발생여부를 정확하게 알아보기 위하여 비용에 대한 수리모\\n\\n델을 만들고 이에 따라 비용발생 여부를 알아보기로 하자. 모델에 사\\n\\n용되는 변수를 다음과 같이 정의한다.\\n\\n발생비용 : N×p×X + N×육아휴직급여액 - N×P\\n\\nN\\n\\nP\\n\\n: 육아휴직대상자의 수\\n\\n: 육아휴직대상자의 월급여액\\n\\n\\x0cp\\n\\nX\\n\\n: 육아휴직자가 발생한 경우 대체 고용할 확률\\n\\n: 대체 고용한 인력에게 지급하는 월급여액\\n\\n위의 수식에서 육아휴직급여액은 육아휴직자 월급여액의 40%까지 지\\n\\n급할 예정이므로 육아휴직급여액은 P×40%이다. 육아휴직자가 발생한 \\n\\n경우 대체 고용할 확률 p는 고용노동부의 육아휴직 관련 자료를 이용\\n\\n한다. 고용노동부에 따르면 2011년의 경우 육아휴직급여 대상자는 \\n\\n40,923명이며, 육아휴직에 따른 대체인력 고용 예상인원은 2,836명이\\n\\n다. 2007년부터 2011년까지의 현황을 정리하면 다음의 [표]와 같다.\\n\\n[표]  육아휴직급여  수급자의  수  및  대체인력  고용  현황:  2007~2011년\\n\\n(단위:  명,  % )\\n\\n2007\\n\\n2008\\n\\n2009\\n\\n2010\\n\\n2011\\n\\n평균\\n\\n육아휴직급여  수급자(A)\\n\\n21,185\\n\\n29,145\\n\\n35,400\\n\\n41,291\\n\\n43,899\\n\\n34,184\\n\\n대체인력  채용(B)\\n\\n796\\n\\n1,658\\n\\n1,957\\n\\n2,396\\n\\n2,836\\n\\n1,929\\n\\n비  율(B/A)\\n\\n3.8\\n\\n5.7\\n\\n5.5\\n\\n5.8\\n\\n6.5\\n\\n5.6\\n\\n자료: 고용노동부  자료를  바탕으로  국회예산정책처  작성\\n\\n위의 [표]의 자료에 따라 육아휴직자가 발생한 경우 대체 고용할 확률 \\n\\np의 값은 5.6%라고 가정한다. 그리고 비용이 발생한다고 가정하여 위\\n\\n의 수식을 다시 작성하면 다음의 수식과 같다.\\n\\nN×p×X + N×육아휴직급여액 - N×P > 0\\n\\n(1)\\n\\n- 9 -\\n\\n\\x0c- 10 -\\n\\nN×5.6%×X + N×P×40% - N×P > 0\\n\\n0.056×X > 0.6P\\n\\nX > 10.7×P\\n\\n(2)\\n\\n(3)\\n\\n(5)\\n\\n위의 수식에 육아휴직자가 받는 월 급여액을 대입하여 대체고용인력\\n\\n자에게 지급하는 월 급여액을 추정하여 보자. 육아휴직자가 월 200만\\n\\n원을 받는다고 가정하면, 대체고용인력자에게 육아휴직자가 받는 월 \\n\\n급여액의 10.7배에 달하는 월 21,428,571원 이상을 지급해야 추가 비용\\n\\n이 발생한다. 대체고용인력자에게 육아휴직자보다 더 많은 월급여액을 \\n\\n주지는 않을 것이고 그리고 10여배 이상 월급을 주지도 않을 것이기 \\n\\n때문에 추가 비용이 발생한다고 보기 힘들다. 위의 수식에서 대체인력 \\n\\n고용확률 p를 20%로 가정하더라도(이 경우 X > 3×P) 200만원 받는 \\n\\n육아휴직자 대체인력에게 월 600만원 이상을 지급해야 추가 비용이 \\n\\n발생한다.\\n\\n행정안전부의 통계자료(행정안전부 통계연감)에서는 지방공무원의 육\\n\\n아휴직 현황자료를 보여주고 있다. 여기서 육아휴직자가 발생한 경우 \\n\\n대체인력을 주로 임용대기자 또는 일용직을 활용하는 것으로 보인다. \\n\\n따라서 공무원의 경우에도 [표]에서 보여주는 일반기업체의 대체인력 \\n\\n고용확률과 차이는 크지 않을 것으로 보인다.\\n\\n이상의 논의를 바탕으로 육아휴직기간을 만6에서 만8세로 연장하더라\\n\\n도 법률 개정에 따른 추가 비용은 발생하지 않을 것으로 예상된다.\\n\\n\\x0c4.  작성자\\n\\n국회예산정책처 법안비용추계1팀\\n\\n팀      장   정 문 종\\n\\n예산분석관   김 태 완\\n\\n(02-788-4649, tanzania@assembly.go.kr)\\n\\n- 11 -\\n\\n\\x0c'"
      ]
     },
     "execution_count": 23,
     "metadata": {},
     "output_type": "execute_result"
    }
   ],
   "source": [
    "doc_ko=kobill.open('1809890.txt').read()\n",
    "doc_ko"
   ]
  },
  {
   "cell_type": "code",
   "execution_count": 24,
   "metadata": {},
   "outputs": [
    {
     "data": {
      "text/plain": [
       "['지방공무원법',\n",
       " '일부',\n",
       " '개정',\n",
       " '법률',\n",
       " '안',\n",
       " '정의화',\n",
       " '의원',\n",
       " '대표',\n",
       " '발의',\n",
       " '의',\n",
       " '안',\n",
       " '번',\n",
       " '호',\n",
       " '발의',\n",
       " '연월일',\n",
       " '발',\n",
       " '의',\n",
       " '자',\n",
       " '정의화',\n",
       " '이명수',\n",
       " '김을동',\n",
       " '이사철',\n",
       " '여상규',\n",
       " '안규백',\n",
       " '황영철',\n",
       " '박영아',\n",
       " '김정훈',\n",
       " '김학송',\n",
       " '의원',\n",
       " '인',\n",
       " '제안',\n",
       " '이유',\n",
       " '및',\n",
       " '내용',\n",
       " '초등학교',\n",
       " '저학년',\n",
       " '경우',\n",
       " '부모',\n",
       " '사랑',\n",
       " '필요',\n",
       " '나이',\n",
       " '현재',\n",
       " '공무원',\n",
       " '자녀',\n",
       " '양육',\n",
       " '위',\n",
       " '육아휴직',\n",
       " '수',\n",
       " '자녀',\n",
       " '나이',\n",
       " '만',\n",
       " '세',\n",
       " '이하',\n",
       " '초등학교',\n",
       " '저학년',\n",
       " '자녀',\n",
       " '위',\n",
       " '해당',\n",
       " '부모님',\n",
       " '일자리',\n",
       " '곧',\n",
       " '출산',\n",
       " '의욕',\n",
       " '저하',\n",
       " '문제',\n",
       " '수',\n",
       " '것임',\n",
       " '따라서',\n",
       " '육아휴직',\n",
       " '자녀',\n",
       " '연령',\n",
       " '만',\n",
       " '세',\n",
       " '이하',\n",
       " '개정',\n",
       " '것임',\n",
       " '안',\n",
       " '제',\n",
       " '항제',\n",
       " '호',\n",
       " '법률',\n",
       " '제',\n",
       " '호',\n",
       " '지방공무원법',\n",
       " '일부',\n",
       " '개정',\n",
       " '법률',\n",
       " '안',\n",
       " '지방공무원법',\n",
       " '일부',\n",
       " '다음',\n",
       " '개정',\n",
       " '제',\n",
       " '항제',\n",
       " '호',\n",
       " '중',\n",
       " '만',\n",
       " '세',\n",
       " '이하',\n",
       " '초등학교',\n",
       " '취학',\n",
       " '전',\n",
       " '자녀',\n",
       " '만',\n",
       " '세',\n",
       " '이하',\n",
       " '취학',\n",
       " '중인',\n",
       " '경우',\n",
       " '초등학교',\n",
       " '학년',\n",
       " '이하',\n",
       " '말',\n",
       " '의',\n",
       " '자녀',\n",
       " '로',\n",
       " '부',\n",
       " '칙',\n",
       " '이',\n",
       " '법',\n",
       " '공포',\n",
       " '날',\n",
       " '시행',\n",
       " '신',\n",
       " '구조',\n",
       " '문대비',\n",
       " '표',\n",
       " '현',\n",
       " '행',\n",
       " '개',\n",
       " '정',\n",
       " '안',\n",
       " '제',\n",
       " '휴직',\n",
       " '생',\n",
       " '략',\n",
       " '제',\n",
       " '휴직',\n",
       " '현행',\n",
       " '공무원',\n",
       " '다음',\n",
       " '각',\n",
       " '호의',\n",
       " '느',\n",
       " '하나',\n",
       " '해당',\n",
       " '사유',\n",
       " '직',\n",
       " '임용',\n",
       " '휴직',\n",
       " '명',\n",
       " '수',\n",
       " '다만',\n",
       " '제',\n",
       " '호',\n",
       " '의',\n",
       " '경우',\n",
       " '대통령령',\n",
       " '정',\n",
       " '사정',\n",
       " '직',\n",
       " '명',\n",
       " '생',\n",
       " '략',\n",
       " '현행',\n",
       " '만',\n",
       " '세',\n",
       " '이하',\n",
       " '초등학교',\n",
       " '취',\n",
       " '만',\n",
       " '세',\n",
       " '이하',\n",
       " '취학',\n",
       " '중인',\n",
       " '경우',\n",
       " '학',\n",
       " '전',\n",
       " '자녀',\n",
       " '양육',\n",
       " '위',\n",
       " '초등학교',\n",
       " '학년',\n",
       " '이하',\n",
       " '여',\n",
       " '여자',\n",
       " '공무원',\n",
       " '말',\n",
       " '의',\n",
       " '자녀',\n",
       " '임신',\n",
       " '출산',\n",
       " '때',\n",
       " '생',\n",
       " '략',\n",
       " '생',\n",
       " '략',\n",
       " '현행',\n",
       " '현행',\n",
       " '지방공무원법',\n",
       " '일부',\n",
       " '개정',\n",
       " '법률',\n",
       " '안',\n",
       " '등',\n",
       " '비용',\n",
       " '추계',\n",
       " '첨부',\n",
       " '사유',\n",
       " '재정',\n",
       " '요인',\n",
       " '개정안',\n",
       " '국가공무원',\n",
       " '법',\n",
       " '제',\n",
       " '항제',\n",
       " '호',\n",
       " '중',\n",
       " '국가공무원',\n",
       " '육아',\n",
       " '휴직',\n",
       " '가능',\n",
       " '자녀',\n",
       " '연령',\n",
       " '만',\n",
       " '세',\n",
       " '이하',\n",
       " '만',\n",
       " '세',\n",
       " '이하',\n",
       " '방공',\n",
       " '무',\n",
       " '법',\n",
       " '제',\n",
       " '항제',\n",
       " '호',\n",
       " '중',\n",
       " '지방',\n",
       " '공무원',\n",
       " '육아휴직',\n",
       " '가능',\n",
       " '자녀',\n",
       " '연',\n",
       " '령',\n",
       " '만',\n",
       " '세',\n",
       " '이하',\n",
       " '만',\n",
       " '세',\n",
       " '이하',\n",
       " '교육',\n",
       " '공무원',\n",
       " '법',\n",
       " '제',\n",
       " '항',\n",
       " '제',\n",
       " '중',\n",
       " '교육',\n",
       " '공무원',\n",
       " '육아휴직',\n",
       " '가능',\n",
       " '자녀',\n",
       " '연령',\n",
       " '만',\n",
       " '세',\n",
       " '이하',\n",
       " '만',\n",
       " '세',\n",
       " '이하',\n",
       " '남녀',\n",
       " '고용',\n",
       " '평등',\n",
       " '일',\n",
       " '가정',\n",
       " '양립',\n",
       " '지원',\n",
       " '관',\n",
       " '법률',\n",
       " '제',\n",
       " '항',\n",
       " '중',\n",
       " '근로자',\n",
       " '육아휴직',\n",
       " '가능',\n",
       " '자녀',\n",
       " '연령',\n",
       " '만',\n",
       " '세',\n",
       " '이하',\n",
       " '만',\n",
       " '세',\n",
       " '이하',\n",
       " '조정',\n",
       " '함',\n",
       " '추가',\n",
       " '재정',\n",
       " '요가',\n",
       " '예상',\n",
       " '첨부',\n",
       " '근거',\n",
       " '규정',\n",
       " '의안',\n",
       " '비용',\n",
       " '추계',\n",
       " '관',\n",
       " '규칙',\n",
       " '제',\n",
       " '항',\n",
       " '단서',\n",
       " '중',\n",
       " '제',\n",
       " '호',\n",
       " '예상',\n",
       " '비용',\n",
       " '평균',\n",
       " '미만',\n",
       " '거나',\n",
       " '한시',\n",
       " '경비',\n",
       " '로서',\n",
       " '총',\n",
       " '미만',\n",
       " '경우',\n",
       " '해당',\n",
       " '함',\n",
       " '첨부',\n",
       " '사유',\n",
       " '개정안',\n",
       " '국가',\n",
       " '지방',\n",
       " '교육',\n",
       " '공무원',\n",
       " '및',\n",
       " '근로자',\n",
       " '육아휴직',\n",
       " '신청',\n",
       " '수',\n",
       " '자녀',\n",
       " '연령',\n",
       " '만',\n",
       " '세',\n",
       " '이하',\n",
       " '만',\n",
       " '세',\n",
       " '이하',\n",
       " '상향',\n",
       " '조정',\n",
       " '함',\n",
       " '추가',\n",
       " '재정',\n",
       " '요가',\n",
       " '예상',\n",
       " '법률',\n",
       " '개정안',\n",
       " '시행',\n",
       " '고',\n",
       " '가정',\n",
       " '경우',\n",
       " '현재',\n",
       " '자녀',\n",
       " '연령',\n",
       " '세이',\n",
       " '육아휴직',\n",
       " '신청',\n",
       " '국가',\n",
       " '지방',\n",
       " '교육',\n",
       " '공무원',\n",
       " '및',\n",
       " '근로자',\n",
       " '대상',\n",
       " '대상',\n",
       " '연령',\n",
       " '확대',\n",
       " '육아휴직',\n",
       " '신청',\n",
       " '수가',\n",
       " '정도',\n",
       " '것',\n",
       " '예상',\n",
       " '이',\n",
       " '경우',\n",
       " '발생',\n",
       " '비용',\n",
       " '현행법',\n",
       " '월',\n",
       " '이나',\n",
       " '현재',\n",
       " '관련',\n",
       " '법령',\n",
       " '개정',\n",
       " '추진',\n",
       " '이',\n",
       " '육아휴직',\n",
       " '지급',\n",
       " '월급',\n",
       " '액',\n",
       " '비례',\n",
       " '육아휴직',\n",
       " '여가',\n",
       " '지급',\n",
       " '기',\n",
       " '때문',\n",
       " '법령',\n",
       " '개정',\n",
       " '가정',\n",
       " '추계',\n",
       " '경우',\n",
       " '육아휴직',\n",
       " '급여',\n",
       " '액',\n",
       " '육아휴직',\n",
       " '지급',\n",
       " '월급',\n",
       " '여의',\n",
       " '해당',\n",
       " '육아휴직',\n",
       " '발생',\n",
       " '경우',\n",
       " '발생',\n",
       " '비용',\n",
       " '체인',\n",
       " '고용',\n",
       " '인건비',\n",
       " '육아휴직',\n",
       " '월급',\n",
       " '액',\n",
       " '이',\n",
       " '대비',\n",
       " '육아휴직',\n",
       " '지급',\n",
       " '임금',\n",
       " '더',\n",
       " '이상',\n",
       " '발생',\n",
       " '따라서',\n",
       " '실제',\n",
       " '발생',\n",
       " '비용',\n",
       " '육',\n",
       " '휴직',\n",
       " '지급',\n",
       " '월',\n",
       " '급여',\n",
       " '액',\n",
       " '연령',\n",
       " '확대',\n",
       " '발생',\n",
       " '비용',\n",
       " '인',\n",
       " '육아휴직',\n",
       " '월급',\n",
       " '액',\n",
       " '체인',\n",
       " '고용',\n",
       " '인건비',\n",
       " '차',\n",
       " '액',\n",
       " '이',\n",
       " '값',\n",
       " '추가',\n",
       " '재정',\n",
       " '소요',\n",
       " '발생',\n",
       " '볼',\n",
       " '수',\n",
       " '추가',\n",
       " '비용',\n",
       " '발생',\n",
       " '여부',\n",
       " '위',\n",
       " '비용',\n",
       " '대한',\n",
       " '리모',\n",
       " '델',\n",
       " '이',\n",
       " '비용',\n",
       " '발생',\n",
       " '여부',\n",
       " '하자',\n",
       " '모델',\n",
       " '사',\n",
       " '용',\n",
       " '변수',\n",
       " '다음',\n",
       " '정의',\n",
       " '발생',\n",
       " '비용',\n",
       " '육아휴직',\n",
       " '액',\n",
       " '육아휴직',\n",
       " '대상자',\n",
       " '수',\n",
       " '육아휴직',\n",
       " '대상자',\n",
       " '월급',\n",
       " '액',\n",
       " '육아휴직',\n",
       " '발생',\n",
       " '경우',\n",
       " '대체',\n",
       " '고용',\n",
       " '확률',\n",
       " '대체',\n",
       " '고용',\n",
       " '인력',\n",
       " '지급',\n",
       " '월급',\n",
       " '액',\n",
       " '위',\n",
       " '수식',\n",
       " '육아휴직',\n",
       " '액',\n",
       " '육아휴직',\n",
       " '월급',\n",
       " '액',\n",
       " '예정',\n",
       " '므',\n",
       " '육아휴직',\n",
       " '액',\n",
       " '육아휴직',\n",
       " '발생',\n",
       " '경우',\n",
       " '대체',\n",
       " '고용',\n",
       " '확률',\n",
       " '고용노동부',\n",
       " '육아휴직',\n",
       " '관련',\n",
       " '자료',\n",
       " '이용',\n",
       " '고용노동부',\n",
       " '경우',\n",
       " '육아휴직',\n",
       " '급여',\n",
       " '대상자',\n",
       " '명',\n",
       " '육아휴직',\n",
       " '체인',\n",
       " '고용',\n",
       " '상인',\n",
       " '명',\n",
       " '현황',\n",
       " '정리',\n",
       " '다음',\n",
       " '표',\n",
       " '표',\n",
       " '육아휴직',\n",
       " '급여',\n",
       " '수급',\n",
       " '수',\n",
       " '및',\n",
       " '체인',\n",
       " '고용',\n",
       " '현황',\n",
       " '단위',\n",
       " '명',\n",
       " '평균',\n",
       " '육아휴직',\n",
       " '급여',\n",
       " '수급',\n",
       " '체인',\n",
       " '채용',\n",
       " '비',\n",
       " '율',\n",
       " '자료',\n",
       " '고용노동부',\n",
       " '자료',\n",
       " '바탕',\n",
       " '국회예산정책처',\n",
       " '작성',\n",
       " '위',\n",
       " '표',\n",
       " '의',\n",
       " '자료',\n",
       " '육아휴직',\n",
       " '발생',\n",
       " '경우',\n",
       " '대체',\n",
       " '고용',\n",
       " '확률',\n",
       " '의',\n",
       " '값',\n",
       " '가정',\n",
       " '비용',\n",
       " '발생',\n",
       " '가정',\n",
       " '위',\n",
       " '의',\n",
       " '수식',\n",
       " '다시',\n",
       " '작성',\n",
       " '다음',\n",
       " '수식',\n",
       " '육아휴직',\n",
       " '액',\n",
       " '위',\n",
       " '수식',\n",
       " '육아휴직',\n",
       " '월',\n",
       " '급여',\n",
       " '액',\n",
       " '대입',\n",
       " '대체',\n",
       " '고용',\n",
       " '인력',\n",
       " '자',\n",
       " '지급',\n",
       " '월',\n",
       " '급여',\n",
       " '액',\n",
       " '추정',\n",
       " '육아휴직',\n",
       " '월',\n",
       " '원',\n",
       " '가정',\n",
       " '대체',\n",
       " '고용',\n",
       " '인력',\n",
       " '육아휴직',\n",
       " '월',\n",
       " '급여',\n",
       " '액',\n",
       " '배',\n",
       " '달',\n",
       " '월',\n",
       " '이상',\n",
       " '지급',\n",
       " '추가',\n",
       " '비용',\n",
       " '이',\n",
       " '발생',\n",
       " '대체',\n",
       " '고용',\n",
       " '인력',\n",
       " '육아휴직',\n",
       " '더',\n",
       " '월급',\n",
       " '액',\n",
       " '주지',\n",
       " '것',\n",
       " '배',\n",
       " '이상',\n",
       " '월급',\n",
       " '주지',\n",
       " '것',\n",
       " '이기',\n",
       " '때문',\n",
       " '추가',\n",
       " '비용',\n",
       " '발생',\n",
       " '보기',\n",
       " '위',\n",
       " '수식',\n",
       " '체인',\n",
       " '고용',\n",
       " '확률',\n",
       " '를',\n",
       " '로',\n",
       " '가정',\n",
       " '이',\n",
       " '경우',\n",
       " '육아휴직',\n",
       " '체인',\n",
       " '월',\n",
       " '이상',\n",
       " '지급',\n",
       " '추가',\n",
       " '비용',\n",
       " '발생',\n",
       " '행정안전부',\n",
       " '통계',\n",
       " '자료',\n",
       " '행정안전부',\n",
       " '통계',\n",
       " '연감',\n",
       " '지방',\n",
       " '공무원',\n",
       " '육',\n",
       " '휴직',\n",
       " '현황',\n",
       " '자료',\n",
       " '여기',\n",
       " '육아휴직',\n",
       " '발생',\n",
       " '경우',\n",
       " '체인',\n",
       " '주로',\n",
       " '임용',\n",
       " '기자',\n",
       " '일용직',\n",
       " '활용',\n",
       " '것',\n",
       " '따라서',\n",
       " '공무원',\n",
       " '경우',\n",
       " '표',\n",
       " '기업체',\n",
       " '체인',\n",
       " '고용',\n",
       " '확률',\n",
       " '것',\n",
       " '이상',\n",
       " '논의',\n",
       " '바탕',\n",
       " '육아휴직',\n",
       " '기간',\n",
       " '만',\n",
       " '만',\n",
       " '세로',\n",
       " '연장',\n",
       " '도',\n",
       " '법률',\n",
       " '개정',\n",
       " '추가',\n",
       " '비용',\n",
       " '발생',\n",
       " '것',\n",
       " '예상',\n",
       " '작성자',\n",
       " '국회예산정책처',\n",
       " '법안',\n",
       " '비용',\n",
       " '추계',\n",
       " '팀',\n",
       " '팀',\n",
       " '장',\n",
       " '정',\n",
       " '문',\n",
       " '종',\n",
       " '예산',\n",
       " '분석관',\n",
       " '김',\n",
       " '태',\n",
       " '완']"
      ]
     },
     "execution_count": 24,
     "metadata": {},
     "output_type": "execute_result"
    }
   ],
   "source": [
    "okt=Okt()\n",
    "nouns=okt.nouns(doc_ko)\n",
    "nouns"
   ]
  },
  {
   "cell_type": "code",
   "execution_count": 25,
   "metadata": {},
   "outputs": [
    {
     "name": "stdout",
     "output_type": "stream",
     "text": [
      "735\n"
     ]
    }
   ],
   "source": [
    "ko=nltk.Text(nouns,name='의안 제1809894호')\n",
    "print(len(ko.tokens))\n"
   ]
  },
  {
   "cell_type": "code",
   "execution_count": 26,
   "metadata": {},
   "outputs": [
    {
     "ename": "NameError",
     "evalue": "name 'path' is not defined",
     "output_type": "error",
     "traceback": [
      "\u001b[1;31m---------------------------------------------------------------------------\u001b[0m",
      "\u001b[1;31mNameError\u001b[0m                                 Traceback (most recent call last)",
      "\u001b[1;32m<ipython-input-26-58f1c57e44a2>\u001b[0m in \u001b[0;36m<module>\u001b[1;34m\u001b[0m\n\u001b[0;32m      7\u001b[0m \u001b[1;33m\u001b[0m\u001b[0m\n\u001b[0;32m      8\u001b[0m \u001b[1;33m\u001b[0m\u001b[0m\n\u001b[1;32m----> 9\u001b[1;33m \u001b[0mfont_name\u001b[0m\u001b[1;33m=\u001b[0m\u001b[0mfont_manager\u001b[0m\u001b[1;33m.\u001b[0m\u001b[0mFontProperties\u001b[0m\u001b[1;33m(\u001b[0m\u001b[0mfname\u001b[0m\u001b[1;33m=\u001b[0m\u001b[0mpath\u001b[0m\u001b[1;33m)\u001b[0m\u001b[1;33m.\u001b[0m\u001b[0mget_name\u001b[0m\u001b[1;33m(\u001b[0m\u001b[1;33m)\u001b[0m\u001b[1;33m\u001b[0m\u001b[1;33m\u001b[0m\u001b[0m\n\u001b[0m\u001b[0;32m     10\u001b[0m \u001b[0mrc\u001b[0m\u001b[1;33m(\u001b[0m\u001b[1;34m''\u001b[0m\u001b[1;33m)\u001b[0m\u001b[1;33m\u001b[0m\u001b[1;33m\u001b[0m\u001b[0m\n\u001b[0;32m     11\u001b[0m \u001b[1;33m\u001b[0m\u001b[0m\n",
      "\u001b[1;31mNameError\u001b[0m: name 'path' is not defined"
     ]
    }
   ],
   "source": [
    "import matplotlib.pyplot as plt\n",
    "\n",
    "\n",
    "import platform\n",
    "\n",
    "from matplotlib import font_manager,rc\n",
    "\n",
    "\n",
    "font_name=font_manager.FontProperties(fname=path).get_name()\n",
    "rc('')\n",
    "\n"
   ]
  },
  {
   "cell_type": "code",
   "execution_count": null,
   "metadata": {},
   "outputs": [],
   "source": []
  },
  {
   "cell_type": "code",
   "execution_count": 29,
   "metadata": {},
   "outputs": [
    {
     "ename": "ModuleNotFoundError",
     "evalue": "No module named 'WordCloud'",
     "output_type": "error",
     "traceback": [
      "\u001b[1;31m---------------------------------------------------------------------------\u001b[0m",
      "\u001b[1;31mModuleNotFoundError\u001b[0m                       Traceback (most recent call last)",
      "\u001b[1;32m<ipython-input-29-a488808175b6>\u001b[0m in \u001b[0;36m<module>\u001b[1;34m\u001b[0m\n\u001b[1;32m----> 1\u001b[1;33m \u001b[1;32mfrom\u001b[0m \u001b[0mWordCloud\u001b[0m \u001b[1;32mimport\u001b[0m \u001b[0mWordCloud\u001b[0m\u001b[1;33m,\u001b[0m \u001b[0mSTOPWORDS\u001b[0m\u001b[1;33m\u001b[0m\u001b[1;33m\u001b[0m\u001b[0m\n\u001b[0m\u001b[0;32m      2\u001b[0m \u001b[1;33m\u001b[0m\u001b[0m\n\u001b[0;32m      3\u001b[0m \u001b[0mstopwords\u001b[0m\u001b[1;33m=\u001b[0m\u001b[1;33m[\u001b[0m\u001b[1;34m'정'\u001b[0m\u001b[1;33m,\u001b[0m\u001b[1;34m'제'\u001b[0m\u001b[1;33m,\u001b[0m\u001b[1;34m'및'\u001b[0m\u001b[1;33m,\u001b[0m\u001b[1;34m'안'\u001b[0m\u001b[1;33m,\u001b[0m\u001b[1;34m'자'\u001b[0m\u001b[1;33m,\u001b[0m\u001b[1;34m'과'\u001b[0m\u001b[1;33m,\u001b[0m\u001b[1;34m'수'\u001b[0m\u001b[1;33m,\u001b[0m\u001b[1;34m'의'\u001b[0m\u001b[1;33m,\u001b[0m\u001b[1;34m'이'\u001b[0m\u001b[1;33m,\u001b[0m\u001b[1;34m'발'\u001b[0m\u001b[1;33m]\u001b[0m\u001b[1;33m\u001b[0m\u001b[1;33m\u001b[0m\u001b[0m\n\u001b[0;32m      4\u001b[0m \u001b[1;33m\u001b[0m\u001b[0m\n",
      "\u001b[1;31mModuleNotFoundError\u001b[0m: No module named 'WordCloud'"
     ]
    }
   ],
   "source": [
    "from WordCloud import WordCloud, STOPWORDS\n",
    "\n",
    "stopwords=['정','제','및','안','자','과','수','의','이','발']\n",
    "\n"
   ]
  },
  {
   "cell_type": "markdown",
   "metadata": {},
   "source": [
    "## 정규표현식"
   ]
  },
  {
   "cell_type": "code",
   "execution_count": 1,
   "metadata": {},
   "outputs": [],
   "source": [
    "import re \n",
    "r=re.compile(\"ab?c\")\n",
    "r.search('kkk')"
   ]
  },
  {
   "cell_type": "code",
   "execution_count": 9,
   "metadata": {},
   "outputs": [
    {
     "data": {
      "text/plain": [
       "<_sre.SRE_Match object; span=(0, 3), match='abc'>"
      ]
     },
     "execution_count": 9,
     "metadata": {},
     "output_type": "execute_result"
    }
   ],
   "source": [
    "r.search('abc')"
   ]
  },
  {
   "cell_type": "code",
   "execution_count": 10,
   "metadata": {},
   "outputs": [
    {
     "data": {
      "text/plain": [
       "<_sre.SRE_Match object; span=(0, 2), match='ac'>"
      ]
     },
     "execution_count": 10,
     "metadata": {},
     "output_type": "execute_result"
    }
   ],
   "source": [
    "r.search('ac')"
   ]
  },
  {
   "cell_type": "code",
   "execution_count": 11,
   "metadata": {},
   "outputs": [
    {
     "data": {
      "text/plain": [
       "<_sre.SRE_Match object; span=(0, 2), match='ac'>"
      ]
     },
     "execution_count": 11,
     "metadata": {},
     "output_type": "execute_result"
    }
   ],
   "source": [
    "r=re.compile('ab*c')\n",
    "r.search('a')\n",
    "r.search('ac')"
   ]
  },
  {
   "cell_type": "code",
   "execution_count": 12,
   "metadata": {},
   "outputs": [
    {
     "data": {
      "text/plain": [
       "<_sre.SRE_Match object; span=(0, 3), match='abc'>"
      ]
     },
     "execution_count": 12,
     "metadata": {},
     "output_type": "execute_result"
    }
   ],
   "source": [
    "r.search('abc')"
   ]
  },
  {
   "cell_type": "code",
   "execution_count": 13,
   "metadata": {},
   "outputs": [
    {
     "data": {
      "text/plain": [
       "<_sre.SRE_Match object; span=(0, 6), match='abbbbc'>"
      ]
     },
     "execution_count": 13,
     "metadata": {},
     "output_type": "execute_result"
    }
   ],
   "source": [
    "r.search('abbbbccccc')"
   ]
  },
  {
   "cell_type": "code",
   "execution_count": 14,
   "metadata": {},
   "outputs": [
    {
     "data": {
      "text/plain": [
       "<_sre.SRE_Match object; span=(0, 1), match='a'>"
      ]
     },
     "execution_count": 14,
     "metadata": {},
     "output_type": "execute_result"
    }
   ],
   "source": [
    "r=re.compile(\"^a\")   #a로시작하는 문자열\n",
    "r.search(\"abbc\")"
   ]
  },
  {
   "cell_type": "code",
   "execution_count": 17,
   "metadata": {},
   "outputs": [
    {
     "data": {
      "text/plain": [
       "<_sre.SRE_Match object; span=(0, 1), match='a'>"
      ]
     },
     "execution_count": 17,
     "metadata": {},
     "output_type": "execute_result"
    }
   ],
   "source": [
    "r.search('abcaaaa')"
   ]
  },
  {
   "cell_type": "code",
   "execution_count": 19,
   "metadata": {},
   "outputs": [
    {
     "ename": "TypeError",
     "evalue": "search() missing 1 required positional argument: 'string'",
     "output_type": "error",
     "traceback": [
      "\u001b[1;31m---------------------------------------------------------------------------\u001b[0m",
      "\u001b[1;31mTypeError\u001b[0m                                 Traceback (most recent call last)",
      "\u001b[1;32m<ipython-input-19-3614900857c5>\u001b[0m in \u001b[0;36m<module>\u001b[1;34m\u001b[0m\n\u001b[0;32m      4\u001b[0m \u001b[0mr\u001b[0m\u001b[1;33m.\u001b[0m\u001b[0msearch\u001b[0m\u001b[1;33m(\u001b[0m\u001b[1;34m\"abbc\"\u001b[0m\u001b[1;33m)\u001b[0m\u001b[1;33m\u001b[0m\u001b[1;33m\u001b[0m\u001b[0m\n\u001b[0;32m      5\u001b[0m \u001b[1;33m\u001b[0m\u001b[0m\n\u001b[1;32m----> 6\u001b[1;33m \u001b[0mre\u001b[0m\u001b[1;33m.\u001b[0m\u001b[0msearch\u001b[0m\u001b[1;33m(\u001b[0m\u001b[1;34m\"abbbbccccc\"\u001b[0m\u001b[1;33m)\u001b[0m\u001b[1;33m\u001b[0m\u001b[1;33m\u001b[0m\u001b[0m\n\u001b[0m",
      "\u001b[1;31mTypeError\u001b[0m: search() missing 1 required positional argument: 'string'"
     ]
    }
   ],
   "source": [
    "r=re.compile(\"ab{2}c\")\n",
    "r.search(\"ac\")\n",
    "\n",
    "r.search(\"abbc\")\n",
    "\n",
    "\n"
   ]
  },
  {
   "cell_type": "code",
   "execution_count": 24,
   "metadata": {},
   "outputs": [],
   "source": [
    "\n",
    "r.search(\"qwewqewqaaaa\")"
   ]
  },
  {
   "cell_type": "code",
   "execution_count": 25,
   "metadata": {},
   "outputs": [],
   "source": [
    "r=re.compile(\"ab{2,8}c\")"
   ]
  },
  {
   "cell_type": "code",
   "execution_count": 27,
   "metadata": {},
   "outputs": [],
   "source": [
    "r.search(\"abbbbbbbbbbccc\")#10개넘어가면 출력안됌"
   ]
  },
  {
   "cell_type": "code",
   "execution_count": 33,
   "metadata": {},
   "outputs": [],
   "source": [
    "r=re.compile(\"[abc]\")  #[abc]=[a-c]  괄호안 문자중 한개의 문자와 매치\n"
   ]
  },
  {
   "cell_type": "code",
   "execution_count": 31,
   "metadata": {},
   "outputs": [],
   "source": [
    "r.search(\"zzz\")"
   ]
  },
  {
   "cell_type": "code",
   "execution_count": 32,
   "metadata": {},
   "outputs": [
    {
     "data": {
      "text/plain": [
       "<_sre.SRE_Match object; span=(0, 1), match='a'>"
      ]
     },
     "execution_count": 32,
     "metadata": {},
     "output_type": "execute_result"
    }
   ],
   "source": [
    "r.search(\"aaaaaaa\")"
   ]
  },
  {
   "cell_type": "code",
   "execution_count": 35,
   "metadata": {},
   "outputs": [],
   "source": [
    "r=re.compile(\"[a-z]\")  #소문자에 대해서만 매칭"
   ]
  },
  {
   "cell_type": "code",
   "execution_count": 36,
   "metadata": {},
   "outputs": [
    {
     "data": {
      "text/plain": [
       "<_sre.SRE_Match object; span=(0, 1), match='a'>"
      ]
     },
     "execution_count": 36,
     "metadata": {},
     "output_type": "execute_result"
    }
   ],
   "source": [
    "r.search(\"aBC\")"
   ]
  },
  {
   "cell_type": "code",
   "execution_count": 38,
   "metadata": {},
   "outputs": [],
   "source": [
    "r.search(\"QWAA\")  #대문자는 매핑되지않는다"
   ]
  },
  {
   "cell_type": "code",
   "execution_count": 39,
   "metadata": {},
   "outputs": [
    {
     "data": {
      "text/plain": [
       "<_sre.SRE_Match object; span=(0, 1), match='q'>"
      ]
     },
     "execution_count": 39,
     "metadata": {},
     "output_type": "execute_result"
    }
   ],
   "source": [
    "r=re.compile(\"[^abc]\")  #abc를 제외한 모든문자열\n",
    "\n",
    "r.search(\"qwe\")"
   ]
  },
  {
   "cell_type": "code",
   "execution_count": 40,
   "metadata": {},
   "outputs": [
    {
     "data": {
      "text/plain": [
       "<_sre.SRE_Match object; span=(1, 2), match='v'>"
      ]
     },
     "execution_count": 40,
     "metadata": {},
     "output_type": "execute_result"
    }
   ],
   "source": [
    "r.search(\"avc\")"
   ]
  },
  {
   "cell_type": "code",
   "execution_count": 41,
   "metadata": {},
   "outputs": [],
   "source": [
    "r.search(\"abc\")"
   ]
  },
  {
   "cell_type": "code",
   "execution_count": 42,
   "metadata": {},
   "outputs": [
    {
     "data": {
      "text/plain": [
       "<_sre.SRE_Match object; span=(4, 7), match='abc'>"
      ]
     },
     "execution_count": 42,
     "metadata": {},
     "output_type": "execute_result"
    }
   ],
   "source": [
    "r=re.compile('ab.')\n",
    "r.search(\"kkkkabc\")"
   ]
  },
  {
   "cell_type": "code",
   "execution_count": 44,
   "metadata": {},
   "outputs": [
    {
     "data": {
      "text/plain": [
       "['사과', '딸기', '바나나', '수박', '메론']"
      ]
     },
     "execution_count": 44,
     "metadata": {},
     "output_type": "execute_result"
    }
   ],
   "source": [
    "text=\"사과 딸기 바나나 수박 메론\"\n",
    "re.split(\" \",text)"
   ]
  },
  {
   "cell_type": "code",
   "execution_count": 45,
   "metadata": {},
   "outputs": [
    {
     "data": {
      "text/plain": [
       "['', '딸기', '바나나', '사과', '메론', '바나나']"
      ]
     },
     "execution_count": 45,
     "metadata": {},
     "output_type": "execute_result"
    }
   ],
   "source": [
    "text='''\n",
    "딸기\n",
    "바나나\n",
    "사과\n",
    "메론\n",
    "바나나'''\n",
    "\n",
    "\n",
    "re.split('\\n',text)"
   ]
  },
  {
   "cell_type": "code",
   "execution_count": 46,
   "metadata": {},
   "outputs": [
    {
     "data": {
      "text/plain": [
       "['수박', '딸기', '바나나', '메론', '사과']"
      ]
     },
     "execution_count": 46,
     "metadata": {},
     "output_type": "execute_result"
    }
   ],
   "source": [
    "text=\"수박+딸기+바나나+메론+사과\"\n",
    "re.split('\\+',text)"
   ]
  },
  {
   "cell_type": "code",
   "execution_count": 47,
   "metadata": {},
   "outputs": [
    {
     "data": {
      "text/plain": [
       "['010', '1234', '1234', '30']"
      ]
     },
     "execution_count": 47,
     "metadata": {},
     "output_type": "execute_result"
    }
   ],
   "source": [
    "text='''이름:김철수\n",
    "전화번호 : 010-1234-1234\n",
    "나이;30\n",
    "성별:남'''\n",
    "re.findall('\\d+',text)"
   ]
  },
  {
   "cell_type": "code",
   "execution_count": 48,
   "metadata": {},
   "outputs": [
    {
     "data": {
      "text/plain": [
       "'Regular expression   A regural expression  regex or regexp     somtimes called a rational expression         is   iin theoretical ocmputer science and formal language theory a sequence of chararters that define a search pattern '"
      ]
     },
     "execution_count": 48,
     "metadata": {},
     "output_type": "execute_result"
    }
   ],
   "source": [
    "text='''Regular expression:  A regural expression, regex or regexp[1] (somtimes called a rational expression)\n",
    "[2][3] is , iin theoretical ocmputer science and formal language theory,a sequence of chararters that define a search pattern '''\n",
    "\n",
    "re.sub('[^a-zA-Z]',' ',text)"
   ]
  },
  {
   "cell_type": "code",
   "execution_count": 49,
   "metadata": {},
   "outputs": [
    {
     "name": "stdout",
     "output_type": "stream",
     "text": [
      "i was wondering if anyone out there could enlighten me on this car.\n"
     ]
    }
   ],
   "source": [
    "text=\"i was wondering if anyone out there could enlighten me on this car.\"\n",
    "\n",
    "shortword=re.compile(r'\\\\+\\b\\w[1,2]\\b')\n",
    "\n",
    "print(shortword.sub('',text))\n"
   ]
  },
  {
   "cell_type": "markdown",
   "metadata": {},
   "source": [
    "\n",
    "정규표현식 매커니즘 시각화해주는 사이트\n",
    "\n",
    "\n",
    "https://regexper.com/\n",
    "\n",
    "https://regexr.com/"
   ]
  },
  {
   "cell_type": "code",
   "execution_count": 14,
   "metadata": {},
   "outputs": [],
   "source": [
    "ko_bill=kobill.open('1809890.txt').read()"
   ]
  },
  {
   "cell_type": "code",
   "execution_count": 52,
   "metadata": {},
   "outputs": [
    {
     "data": {
      "text/plain": [
       "'지방공무원법 일부개정법률안\\n\\n(정의화의원 대표발의 )\\n\\n 의 안\\n 번 호\\n\\n9890\\n\\n발의연월일 : 2010.  11.  12.  \\n\\n발  의  자 : 정의화․이명수․김을동 \\n\\n이사철․여상규․안규백\\n\\n황영철․박영아․김정훈\\n\\n김학송 의원(10인)\\n\\n제안이유 및 주요내용\\n\\n  초등학교 저학년의 경우에도 부모의 따뜻한 사랑과 보살핌이 필요\\n\\n한 나이이나, 현재 공무원이 자녀를 양육하기 위하여 육아휴직을 할 \\n\\n수 있는 자녀의 나이는 만 6세 이하로 되어 있어 초등학교 저학년인 \\n\\n자녀를 돌보기 위해서는 해당 부모님은 일자리를 그만 두어야 하고 \\n\\n이는 곧 출산의욕을 저하시키는 문제로 이어질 수 있을 것임.\\n\\n  따라서 육아휴직이 가능한 자녀의 연령을 만 8세 이하로 개정하려\\n\\n는 것임(안 제63조제2항제4호).\\n\\n- 1 -\\n\\n\\x0c법률  제        호\\n\\n지방공무원법 일부개정법률안\\n\\n지방공무원법 일부를 다음과 같이 개정한다.\\n\\n제63조제2항제4호 중 “만 6세 이하의 초등학교 취학 전 자녀를”을 “만 \\n\\n8세 이하(취학 중인 경우에는 초등학교 2학년 이하를 말한다)의 자녀를”\\n\\n로 한다.\\n\\n부      칙\\n\\n이 법은 공포한 날부터 시행한다.\\n\\n- 3 -\\n\\n\\x0c신 ·구조문대비표\\n\\n현      행\\n\\n개   정   안\\n\\n제63조(휴직) ① (생  략)\\n\\n제63조(휴직) ① (현행과 같음)\\n\\n  ② 공무원이 다음 각 호의 어\\n\\n  ② -------------------------\\n\\n느 하나에 해당하는 사유로 휴\\n\\n----------------------------\\n\\n직을 원하면 임용권자는 휴직\\n\\n----------------------------\\n\\n을 명할 수 있다. 다만, 제4호\\n\\n-------------.---------------\\n\\n의 경우에는 대통령령으로 정\\n\\n----------------------------\\n\\n하는 특별한 사정이 없으면 휴\\n\\n----------------------------\\n\\n직을 명하여야 한다.\\n\\n--------------.\\n\\n  1. ∼ 3. (생  략)\\n\\n  1. ∼ 3. (현행과 같음)\\n\\n  4. 만 6세 이하의 초등학교 취\\n\\n  4. 만 8세 이하(취학 중인 경우\\n\\n학 전 자녀를 양육하기 위하\\n\\n에는 초등학교 2학년 이하를 \\n\\n여 필요하거나 여자공무원이 \\n\\n말한다)의 자녀를 ----------\\n\\n임신 또는 출산하게 되었을 \\n\\n---------------------------\\n\\n때\\n\\n---------------------------\\n\\n  5.⋅6. (생  략)\\n\\n  ③⋅④ (생  략)\\n\\n--------\\n\\n  5.⋅6. (현행과 같음)\\n\\n  ③⋅④ (현행과 같음)\\n\\n- 5 -\\n\\n\\x0c지방공무원법 일부개정법률안 등 비용추계서 미첨부사유서\\n1.  재정수반요인\\n\\n개정안에서 ｢국가공무원법｣  제71조제2항제4호 중 국가공무원의 육아\\n\\n휴직 가능 자녀의 연령을 만6세 이하에서 만8세 이하로 하고, ｢지방공\\n\\n무원법｣ 제63조제2항제4호 중 지방공무원의 육아휴직 가능 자녀의 연\\n\\n령을 만6세 이하에서 만8세 이하로 하고, ｢교육공무원법｣ 제44조제1항\\n\\n제7조 중 교육공무원의 육아휴직 가능 자녀의 연령을 만6세 이하에서 \\n\\n만8세 이하로 하고, ｢남녀고용평등과 일․가정 양립지원에 관한 법률｣ \\n\\n제19조제1항 중 근로자 육아휴직 가능 자녀연령을 만6세 이하에서 만\\n\\n8세 이하로 조정함에 따라 추가 재정소요가 예상됨.\\n\\n2.  미첨부  근거  규정\\n｢의안의 비용추계에 관한 규칙｣ 제3조제1항 단서 중 제1호(예상되는 비용이 연평균  10억원 미만\\n이거나  한시적인  경비로서  총  30억원  미만인  경우)에  해당함.\\n\\n3.  미첨부  사유\\n\\n개정안에서 국가․지방․교육공무원 및 근로자가 육아휴직을 신청할 \\n\\n수 있는 자녀의 연령을 만6세 이하에서 만8세 이하로 상향조정함에 \\n\\n따라 추가 재정소요가 예상된다. 동 법률 개정안이 2011년에 시행된다\\n\\n고 가정한 경우, 2010년 현재 자녀의 연령이 7세이고 육아휴직을 신청\\n\\n- 7 -\\n\\n\\x0c- 8 -\\n\\n하지 않은 국가․지방․교육공무원 및 근로자가 대상이 된다.\\n\\n대상연령의 확대됨에 따라 육아휴직신청자의 수가 어느 정도 늘어날 \\n\\n것으로 예상된다. 이 경우 발생하는 비용은 현행법에 따르면 월50만원\\n\\n이나 현재 관련법령 개정이 추진되고 있으며, 이에 따라 2011년에는 \\n\\n육아휴직자가 지급받는 월급여액에 비례하여 육아휴직급여가 지급되\\n\\n기 때문에 법령개정을 가정하고 추계한다. 이러한 경우 육아휴직급여\\n\\n액은 육아휴직자가 지급받는 월급여의 40%에 해당한다. 육아휴직자가 \\n\\n발생한 경우 발생하는 비용은 대체인력 고용인건비와 육아휴직자가 \\n\\n받는 월급여액의 40%이다. 이와 대비하여 육아휴직자에게 지급하던 \\n\\n임금은 더 이상 발생하지 않는다. 따라서 실제 발생하는 순비용은 육\\n\\n아휴직자에게 지급하던 월 급여액과 연령 확대에 따라 발생하는 비용\\n\\n인 육아휴직자가 받던 월급여액의 40%와 대체인력 고용인건비의 차\\n\\n액인데 이 값이 0보다 크면 추가 재정소요는 발생하지 않는다고 볼 \\n\\n수 있다.\\n\\n추가비용 발생여부를 정확하게 알아보기 위하여 비용에 대한 수리모\\n\\n델을 만들고 이에 따라 비용발생 여부를 알아보기로 하자. 모델에 사\\n\\n용되는 변수를 다음과 같이 정의한다.\\n\\n발생비용 : N×p×X + N×육아휴직급여액 - N×P\\n\\nN\\n\\nP\\n\\n: 육아휴직대상자의 수\\n\\n: 육아휴직대상자의 월급여액\\n\\n\\x0cp\\n\\nX\\n\\n: 육아휴직자가 발생한 경우 대체 고용할 확률\\n\\n: 대체 고용한 인력에게 지급하는 월급여액\\n\\n위의 수식에서 육아휴직급여액은 육아휴직자 월급여액의 40%까지 지\\n\\n급할 예정이므로 육아휴직급여액은 P×40%이다. 육아휴직자가 발생한 \\n\\n경우 대체 고용할 확률 p는 고용노동부의 육아휴직 관련 자료를 이용\\n\\n한다. 고용노동부에 따르면 2011년의 경우 육아휴직급여 대상자는 \\n\\n40,923명이며, 육아휴직에 따른 대체인력 고용 예상인원은 2,836명이\\n\\n다. 2007년부터 2011년까지의 현황을 정리하면 다음의 [표]와 같다.\\n\\n[표]  육아휴직급여  수급자의  수  및  대체인력  고용  현황:  2007~2011년\\n\\n(단위:  명,  % )\\n\\n2007\\n\\n2008\\n\\n2009\\n\\n2010\\n\\n2011\\n\\n평균\\n\\n육아휴직급여  수급자(A)\\n\\n21,185\\n\\n29,145\\n\\n35,400\\n\\n41,291\\n\\n43,899\\n\\n34,184\\n\\n대체인력  채용(B)\\n\\n796\\n\\n1,658\\n\\n1,957\\n\\n2,396\\n\\n2,836\\n\\n1,929\\n\\n비  율(B/A)\\n\\n3.8\\n\\n5.7\\n\\n5.5\\n\\n5.8\\n\\n6.5\\n\\n5.6\\n\\n자료: 고용노동부  자료를  바탕으로  국회예산정책처  작성\\n\\n위의 [표]의 자료에 따라 육아휴직자가 발생한 경우 대체 고용할 확률 \\n\\np의 값은 5.6%라고 가정한다. 그리고 비용이 발생한다고 가정하여 위\\n\\n의 수식을 다시 작성하면 다음의 수식과 같다.\\n\\nN×p×X + N×육아휴직급여액 - N×P > 0\\n\\n(1)\\n\\n- 9 -\\n\\n\\x0c- 10 -\\n\\nN×5.6%×X + N×P×40% - N×P > 0\\n\\n0.056×X > 0.6P\\n\\nX > 10.7×P\\n\\n(2)\\n\\n(3)\\n\\n(5)\\n\\n위의 수식에 육아휴직자가 받는 월 급여액을 대입하여 대체고용인력\\n\\n자에게 지급하는 월 급여액을 추정하여 보자. 육아휴직자가 월 200만\\n\\n원을 받는다고 가정하면, 대체고용인력자에게 육아휴직자가 받는 월 \\n\\n급여액의 10.7배에 달하는 월 21,428,571원 이상을 지급해야 추가 비용\\n\\n이 발생한다. 대체고용인력자에게 육아휴직자보다 더 많은 월급여액을 \\n\\n주지는 않을 것이고 그리고 10여배 이상 월급을 주지도 않을 것이기 \\n\\n때문에 추가 비용이 발생한다고 보기 힘들다. 위의 수식에서 대체인력 \\n\\n고용확률 p를 20%로 가정하더라도(이 경우 X > 3×P) 200만원 받는 \\n\\n육아휴직자 대체인력에게 월 600만원 이상을 지급해야 추가 비용이 \\n\\n발생한다.\\n\\n행정안전부의 통계자료(행정안전부 통계연감)에서는 지방공무원의 육\\n\\n아휴직 현황자료를 보여주고 있다. 여기서 육아휴직자가 발생한 경우 \\n\\n대체인력을 주로 임용대기자 또는 일용직을 활용하는 것으로 보인다. \\n\\n따라서 공무원의 경우에도 [표]에서 보여주는 일반기업체의 대체인력 \\n\\n고용확률과 차이는 크지 않을 것으로 보인다.\\n\\n이상의 논의를 바탕으로 육아휴직기간을 만6에서 만8세로 연장하더라\\n\\n도 법률 개정에 따른 추가 비용은 발생하지 않을 것으로 예상된다.\\n\\n\\x0c4.  작성자\\n\\n국회예산정책처 법안비용추계1팀\\n\\n팀      장   정 문 종\\n\\n예산분석관   김 태 완\\n\\n(02-788-4649, tanzania@assembly.go.kr)\\n\\n- 11 -\\n\\n\\x0c'"
      ]
     },
     "execution_count": 52,
     "metadata": {},
     "output_type": "execute_result"
    }
   ],
   "source": [
    "ko_bill"
   ]
  },
  {
   "cell_type": "code",
   "execution_count": 2,
   "metadata": {},
   "outputs": [],
   "source": [
    "from konlpy.tag import Hannanum"
   ]
  },
  {
   "cell_type": "code",
   "execution_count": 4,
   "metadata": {},
   "outputs": [],
   "source": [
    "from konlpy.tag import Okt"
   ]
  },
  {
   "cell_type": "code",
   "execution_count": 7,
   "metadata": {},
   "outputs": [],
   "source": [
    "import nltk"
   ]
  },
  {
   "cell_type": "code",
   "execution_count": 5,
   "metadata": {},
   "outputs": [
    {
     "name": "stderr",
     "output_type": "stream",
     "text": [
      "C:\\Users\\Affinity\\Anaconda3\\envs\\keras\\lib\\site-packages\\jpype\\_core.py:210: UserWarning: \n",
      "-------------------------------------------------------------------------------\n",
      "Deprecated: convertStrings was not specified when starting the JVM. The default\n",
      "behavior in JPype will be False starting in JPype 0.8. The recommended setting\n",
      "for new code is convertStrings=False.  The legacy value of True was assumed for\n",
      "this session. If you are a user of an application that reported this warning,\n",
      "please file a ticket with the developer.\n",
      "-------------------------------------------------------------------------------\n",
      "\n",
      "  \"\"\")\n"
     ]
    },
    {
     "data": {
      "text/plain": [
       "['지방공무원법',\n",
       " '일부',\n",
       " '개정',\n",
       " '법률',\n",
       " '안',\n",
       " '정의화',\n",
       " '의원',\n",
       " '대표',\n",
       " '발의',\n",
       " '의',\n",
       " '안',\n",
       " '번',\n",
       " '호',\n",
       " '발의',\n",
       " '연월일',\n",
       " '발',\n",
       " '의',\n",
       " '자',\n",
       " '정의화',\n",
       " '이명수',\n",
       " '김을동',\n",
       " '이사철',\n",
       " '여상규',\n",
       " '안규백',\n",
       " '황영철',\n",
       " '박영아',\n",
       " '김정훈',\n",
       " '김학송',\n",
       " '의원',\n",
       " '인',\n",
       " '제안',\n",
       " '이유',\n",
       " '및',\n",
       " '내용',\n",
       " '초등학교',\n",
       " '저학년',\n",
       " '경우',\n",
       " '부모',\n",
       " '사랑',\n",
       " '필요',\n",
       " '나이',\n",
       " '현재',\n",
       " '공무원',\n",
       " '자녀',\n",
       " '양육',\n",
       " '위',\n",
       " '육아휴직',\n",
       " '수',\n",
       " '자녀',\n",
       " '나이',\n",
       " '만',\n",
       " '세',\n",
       " '이하',\n",
       " '초등학교',\n",
       " '저학년',\n",
       " '자녀',\n",
       " '위',\n",
       " '해당',\n",
       " '부모님',\n",
       " '일자리',\n",
       " '곧',\n",
       " '출산',\n",
       " '의욕',\n",
       " '저하',\n",
       " '문제',\n",
       " '수',\n",
       " '것임',\n",
       " '따라서',\n",
       " '육아휴직',\n",
       " '자녀',\n",
       " '연령',\n",
       " '만',\n",
       " '세',\n",
       " '이하',\n",
       " '개정',\n",
       " '것임',\n",
       " '안',\n",
       " '제',\n",
       " '항제',\n",
       " '호',\n",
       " '법률',\n",
       " '제',\n",
       " '호',\n",
       " '지방공무원법',\n",
       " '일부',\n",
       " '개정',\n",
       " '법률',\n",
       " '안',\n",
       " '지방공무원법',\n",
       " '일부',\n",
       " '다음',\n",
       " '개정',\n",
       " '제',\n",
       " '항제',\n",
       " '호',\n",
       " '중',\n",
       " '만',\n",
       " '세',\n",
       " '이하',\n",
       " '초등학교',\n",
       " '취학',\n",
       " '전',\n",
       " '자녀',\n",
       " '만',\n",
       " '세',\n",
       " '이하',\n",
       " '취학',\n",
       " '중인',\n",
       " '경우',\n",
       " '초등학교',\n",
       " '학년',\n",
       " '이하',\n",
       " '말',\n",
       " '의',\n",
       " '자녀',\n",
       " '로',\n",
       " '부',\n",
       " '칙',\n",
       " '이',\n",
       " '법',\n",
       " '공포',\n",
       " '날',\n",
       " '시행',\n",
       " '신',\n",
       " '구조',\n",
       " '문대비',\n",
       " '표',\n",
       " '현',\n",
       " '행',\n",
       " '개',\n",
       " '정',\n",
       " '안',\n",
       " '제',\n",
       " '휴직',\n",
       " '생',\n",
       " '략',\n",
       " '제',\n",
       " '휴직',\n",
       " '현행',\n",
       " '공무원',\n",
       " '다음',\n",
       " '각',\n",
       " '호의',\n",
       " '느',\n",
       " '하나',\n",
       " '해당',\n",
       " '사유',\n",
       " '직',\n",
       " '임용',\n",
       " '휴직',\n",
       " '명',\n",
       " '수',\n",
       " '다만',\n",
       " '제',\n",
       " '호',\n",
       " '의',\n",
       " '경우',\n",
       " '대통령령',\n",
       " '정',\n",
       " '사정',\n",
       " '직',\n",
       " '명',\n",
       " '생',\n",
       " '략',\n",
       " '현행',\n",
       " '만',\n",
       " '세',\n",
       " '이하',\n",
       " '초등학교',\n",
       " '취',\n",
       " '만',\n",
       " '세',\n",
       " '이하',\n",
       " '취학',\n",
       " '중인',\n",
       " '경우',\n",
       " '학',\n",
       " '전',\n",
       " '자녀',\n",
       " '양육',\n",
       " '위',\n",
       " '초등학교',\n",
       " '학년',\n",
       " '이하',\n",
       " '여',\n",
       " '여자',\n",
       " '공무원',\n",
       " '말',\n",
       " '의',\n",
       " '자녀',\n",
       " '임신',\n",
       " '출산',\n",
       " '때',\n",
       " '생',\n",
       " '략',\n",
       " '생',\n",
       " '략',\n",
       " '현행',\n",
       " '현행',\n",
       " '지방공무원법',\n",
       " '일부',\n",
       " '개정',\n",
       " '법률',\n",
       " '안',\n",
       " '등',\n",
       " '비용',\n",
       " '추계',\n",
       " '첨부',\n",
       " '사유',\n",
       " '재정',\n",
       " '요인',\n",
       " '개정안',\n",
       " '국가공무원',\n",
       " '법',\n",
       " '제',\n",
       " '항제',\n",
       " '호',\n",
       " '중',\n",
       " '국가공무원',\n",
       " '육아',\n",
       " '휴직',\n",
       " '가능',\n",
       " '자녀',\n",
       " '연령',\n",
       " '만',\n",
       " '세',\n",
       " '이하',\n",
       " '만',\n",
       " '세',\n",
       " '이하',\n",
       " '방공',\n",
       " '무',\n",
       " '법',\n",
       " '제',\n",
       " '항제',\n",
       " '호',\n",
       " '중',\n",
       " '지방',\n",
       " '공무원',\n",
       " '육아휴직',\n",
       " '가능',\n",
       " '자녀',\n",
       " '연',\n",
       " '령',\n",
       " '만',\n",
       " '세',\n",
       " '이하',\n",
       " '만',\n",
       " '세',\n",
       " '이하',\n",
       " '교육',\n",
       " '공무원',\n",
       " '법',\n",
       " '제',\n",
       " '항',\n",
       " '제',\n",
       " '중',\n",
       " '교육',\n",
       " '공무원',\n",
       " '육아휴직',\n",
       " '가능',\n",
       " '자녀',\n",
       " '연령',\n",
       " '만',\n",
       " '세',\n",
       " '이하',\n",
       " '만',\n",
       " '세',\n",
       " '이하',\n",
       " '남녀',\n",
       " '고용',\n",
       " '평등',\n",
       " '일',\n",
       " '가정',\n",
       " '양립',\n",
       " '지원',\n",
       " '관',\n",
       " '법률',\n",
       " '제',\n",
       " '항',\n",
       " '중',\n",
       " '근로자',\n",
       " '육아휴직',\n",
       " '가능',\n",
       " '자녀',\n",
       " '연령',\n",
       " '만',\n",
       " '세',\n",
       " '이하',\n",
       " '만',\n",
       " '세',\n",
       " '이하',\n",
       " '조정',\n",
       " '함',\n",
       " '추가',\n",
       " '재정',\n",
       " '요가',\n",
       " '예상',\n",
       " '첨부',\n",
       " '근거',\n",
       " '규정',\n",
       " '의안',\n",
       " '비용',\n",
       " '추계',\n",
       " '관',\n",
       " '규칙',\n",
       " '제',\n",
       " '항',\n",
       " '단서',\n",
       " '중',\n",
       " '제',\n",
       " '호',\n",
       " '예상',\n",
       " '비용',\n",
       " '평균',\n",
       " '미만',\n",
       " '거나',\n",
       " '한시',\n",
       " '경비',\n",
       " '로서',\n",
       " '총',\n",
       " '미만',\n",
       " '경우',\n",
       " '해당',\n",
       " '함',\n",
       " '첨부',\n",
       " '사유',\n",
       " '개정안',\n",
       " '국가',\n",
       " '지방',\n",
       " '교육',\n",
       " '공무원',\n",
       " '및',\n",
       " '근로자',\n",
       " '육아휴직',\n",
       " '신청',\n",
       " '수',\n",
       " '자녀',\n",
       " '연령',\n",
       " '만',\n",
       " '세',\n",
       " '이하',\n",
       " '만',\n",
       " '세',\n",
       " '이하',\n",
       " '상향',\n",
       " '조정',\n",
       " '함',\n",
       " '추가',\n",
       " '재정',\n",
       " '요가',\n",
       " '예상',\n",
       " '법률',\n",
       " '개정안',\n",
       " '시행',\n",
       " '고',\n",
       " '가정',\n",
       " '경우',\n",
       " '현재',\n",
       " '자녀',\n",
       " '연령',\n",
       " '세이',\n",
       " '육아휴직',\n",
       " '신청',\n",
       " '국가',\n",
       " '지방',\n",
       " '교육',\n",
       " '공무원',\n",
       " '및',\n",
       " '근로자',\n",
       " '대상',\n",
       " '대상',\n",
       " '연령',\n",
       " '확대',\n",
       " '육아휴직',\n",
       " '신청',\n",
       " '수가',\n",
       " '정도',\n",
       " '것',\n",
       " '예상',\n",
       " '이',\n",
       " '경우',\n",
       " '발생',\n",
       " '비용',\n",
       " '현행법',\n",
       " '월',\n",
       " '이나',\n",
       " '현재',\n",
       " '관련',\n",
       " '법령',\n",
       " '개정',\n",
       " '추진',\n",
       " '이',\n",
       " '육아휴직',\n",
       " '지급',\n",
       " '월급',\n",
       " '액',\n",
       " '비례',\n",
       " '육아휴직',\n",
       " '여가',\n",
       " '지급',\n",
       " '기',\n",
       " '때문',\n",
       " '법령',\n",
       " '개정',\n",
       " '가정',\n",
       " '추계',\n",
       " '경우',\n",
       " '육아휴직',\n",
       " '급여',\n",
       " '액',\n",
       " '육아휴직',\n",
       " '지급',\n",
       " '월급',\n",
       " '여의',\n",
       " '해당',\n",
       " '육아휴직',\n",
       " '발생',\n",
       " '경우',\n",
       " '발생',\n",
       " '비용',\n",
       " '체인',\n",
       " '고용',\n",
       " '인건비',\n",
       " '육아휴직',\n",
       " '월급',\n",
       " '액',\n",
       " '이',\n",
       " '대비',\n",
       " '육아휴직',\n",
       " '지급',\n",
       " '임금',\n",
       " '더',\n",
       " '이상',\n",
       " '발생',\n",
       " '따라서',\n",
       " '실제',\n",
       " '발생',\n",
       " '비용',\n",
       " '육',\n",
       " '휴직',\n",
       " '지급',\n",
       " '월',\n",
       " '급여',\n",
       " '액',\n",
       " '연령',\n",
       " '확대',\n",
       " '발생',\n",
       " '비용',\n",
       " '인',\n",
       " '육아휴직',\n",
       " '월급',\n",
       " '액',\n",
       " '체인',\n",
       " '고용',\n",
       " '인건비',\n",
       " '차',\n",
       " '액',\n",
       " '이',\n",
       " '값',\n",
       " '추가',\n",
       " '재정',\n",
       " '소요',\n",
       " '발생',\n",
       " '볼',\n",
       " '수',\n",
       " '추가',\n",
       " '비용',\n",
       " '발생',\n",
       " '여부',\n",
       " '위',\n",
       " '비용',\n",
       " '대한',\n",
       " '리모',\n",
       " '델',\n",
       " '이',\n",
       " '비용',\n",
       " '발생',\n",
       " '여부',\n",
       " '하자',\n",
       " '모델',\n",
       " '사',\n",
       " '용',\n",
       " '변수',\n",
       " '다음',\n",
       " '정의',\n",
       " '발생',\n",
       " '비용',\n",
       " '육아휴직',\n",
       " '액',\n",
       " '육아휴직',\n",
       " '대상자',\n",
       " '수',\n",
       " '육아휴직',\n",
       " '대상자',\n",
       " '월급',\n",
       " '액',\n",
       " '육아휴직',\n",
       " '발생',\n",
       " '경우',\n",
       " '대체',\n",
       " '고용',\n",
       " '확률',\n",
       " '대체',\n",
       " '고용',\n",
       " '인력',\n",
       " '지급',\n",
       " '월급',\n",
       " '액',\n",
       " '위',\n",
       " '수식',\n",
       " '육아휴직',\n",
       " '액',\n",
       " '육아휴직',\n",
       " '월급',\n",
       " '액',\n",
       " '예정',\n",
       " '므',\n",
       " '육아휴직',\n",
       " '액',\n",
       " '육아휴직',\n",
       " '발생',\n",
       " '경우',\n",
       " '대체',\n",
       " '고용',\n",
       " '확률',\n",
       " '고용노동부',\n",
       " '육아휴직',\n",
       " '관련',\n",
       " '자료',\n",
       " '이용',\n",
       " '고용노동부',\n",
       " '경우',\n",
       " '육아휴직',\n",
       " '급여',\n",
       " '대상자',\n",
       " '명',\n",
       " '육아휴직',\n",
       " '체인',\n",
       " '고용',\n",
       " '상인',\n",
       " '명',\n",
       " '현황',\n",
       " '정리',\n",
       " '다음',\n",
       " '표',\n",
       " '표',\n",
       " '육아휴직',\n",
       " '급여',\n",
       " '수급',\n",
       " '수',\n",
       " '및',\n",
       " '체인',\n",
       " '고용',\n",
       " '현황',\n",
       " '단위',\n",
       " '명',\n",
       " '평균',\n",
       " '육아휴직',\n",
       " '급여',\n",
       " '수급',\n",
       " '체인',\n",
       " '채용',\n",
       " '비',\n",
       " '율',\n",
       " '자료',\n",
       " '고용노동부',\n",
       " '자료',\n",
       " '바탕',\n",
       " '국회예산정책처',\n",
       " '작성',\n",
       " '위',\n",
       " '표',\n",
       " '의',\n",
       " '자료',\n",
       " '육아휴직',\n",
       " '발생',\n",
       " '경우',\n",
       " '대체',\n",
       " '고용',\n",
       " '확률',\n",
       " '의',\n",
       " '값',\n",
       " '가정',\n",
       " '비용',\n",
       " '발생',\n",
       " '가정',\n",
       " '위',\n",
       " '의',\n",
       " '수식',\n",
       " '다시',\n",
       " '작성',\n",
       " '다음',\n",
       " '수식',\n",
       " '육아휴직',\n",
       " '액',\n",
       " '위',\n",
       " '수식',\n",
       " '육아휴직',\n",
       " '월',\n",
       " '급여',\n",
       " '액',\n",
       " '대입',\n",
       " '대체',\n",
       " '고용',\n",
       " '인력',\n",
       " '자',\n",
       " '지급',\n",
       " '월',\n",
       " '급여',\n",
       " '액',\n",
       " '추정',\n",
       " '육아휴직',\n",
       " '월',\n",
       " '원',\n",
       " '가정',\n",
       " '대체',\n",
       " '고용',\n",
       " '인력',\n",
       " '육아휴직',\n",
       " '월',\n",
       " '급여',\n",
       " '액',\n",
       " '배',\n",
       " '달',\n",
       " '월',\n",
       " '이상',\n",
       " '지급',\n",
       " '추가',\n",
       " '비용',\n",
       " '이',\n",
       " '발생',\n",
       " '대체',\n",
       " '고용',\n",
       " '인력',\n",
       " '육아휴직',\n",
       " '더',\n",
       " '월급',\n",
       " '액',\n",
       " '주지',\n",
       " '것',\n",
       " '배',\n",
       " '이상',\n",
       " '월급',\n",
       " '주지',\n",
       " '것',\n",
       " '이기',\n",
       " '때문',\n",
       " '추가',\n",
       " '비용',\n",
       " '발생',\n",
       " '보기',\n",
       " '위',\n",
       " '수식',\n",
       " '체인',\n",
       " '고용',\n",
       " '확률',\n",
       " '를',\n",
       " '로',\n",
       " '가정',\n",
       " '이',\n",
       " '경우',\n",
       " '육아휴직',\n",
       " '체인',\n",
       " '월',\n",
       " '이상',\n",
       " '지급',\n",
       " '추가',\n",
       " '비용',\n",
       " '발생',\n",
       " '행정안전부',\n",
       " '통계',\n",
       " '자료',\n",
       " '행정안전부',\n",
       " '통계',\n",
       " '연감',\n",
       " '지방',\n",
       " '공무원',\n",
       " '육',\n",
       " '휴직',\n",
       " '현황',\n",
       " '자료',\n",
       " '여기',\n",
       " '육아휴직',\n",
       " '발생',\n",
       " '경우',\n",
       " '체인',\n",
       " '주로',\n",
       " '임용',\n",
       " '기자',\n",
       " '일용직',\n",
       " '활용',\n",
       " '것',\n",
       " '따라서',\n",
       " '공무원',\n",
       " '경우',\n",
       " '표',\n",
       " '기업체',\n",
       " '체인',\n",
       " '고용',\n",
       " '확률',\n",
       " '것',\n",
       " '이상',\n",
       " '논의',\n",
       " '바탕',\n",
       " '육아휴직',\n",
       " '기간',\n",
       " '만',\n",
       " '만',\n",
       " '세로',\n",
       " '연장',\n",
       " '도',\n",
       " '법률',\n",
       " '개정',\n",
       " '추가',\n",
       " '비용',\n",
       " '발생',\n",
       " '것',\n",
       " '예상',\n",
       " '작성자',\n",
       " '국회예산정책처',\n",
       " '법안',\n",
       " '비용',\n",
       " '추계',\n",
       " '팀',\n",
       " '팀',\n",
       " '장',\n",
       " '정',\n",
       " '문',\n",
       " '종',\n",
       " '예산',\n",
       " '분석관',\n",
       " '김',\n",
       " '태',\n",
       " '완']"
      ]
     },
     "execution_count": 5,
     "metadata": {},
     "output_type": "execute_result"
    }
   ],
   "source": [
    "from konlpy.corpus import kobill  # 법률안 읽어오는 함수\n",
    "\n",
    "files_ko=kobill.fileids()\n",
    "\n",
    "files_ko\n",
    "\n",
    "doc_ko=kobill.open('1809890.txt').read()\n",
    "doc_ko\n",
    "\n",
    "okt=Okt()\n",
    "nouns=okt.nouns(doc_ko)\n",
    "nouns"
   ]
  },
  {
   "cell_type": "code",
   "execution_count": 10,
   "metadata": {},
   "outputs": [
    {
     "data": {
      "image/png": "[encoded data removed]",
      "text/plain": [
       "<Figure size 864x432 with 1 Axes>"
      ]
     },
     "metadata": {
      "needs_background": "light"
     },
     "output_type": "display_data"
    }
   ],
   "source": [
    "ko=nltk.Text(nouns,name='의안 제1809890호')\n",
    "import matplotlib.pyplot as plt\n",
    "import platform\n",
    "path='C:\\Windows\\Fonts\\H2GSRB.ttf'\n",
    "from matplotlib import font_manager,rc\n",
    "\n",
    "font_name=font_manager.FontProperties(fname=path).get_name()\n",
    "rc('font',family=font_name)\n",
    "\n",
    "plt.figure(figsize=(12,6))\n",
    "ko.plot(50)\n",
    "plt.show()"
   ]
  },
  {
   "cell_type": "code",
   "execution_count": null,
   "metadata": {},
   "outputs": [],
   "source": []
  },
  {
   "cell_type": "code",
   "execution_count": null,
   "metadata": {},
   "outputs": [],
   "source": []
  },
  {
   "cell_type": "code",
   "execution_count": 38,
   "metadata": {},
   "outputs": [
    {
     "data": {
      "text/plain": [
       "<_sre.SRE_Match object; span=(10, 11), match='0'>"
      ]
     },
     "execution_count": 38,
     "metadata": {},
     "output_type": "execute_result"
    }
   ],
   "source": [
    "import re\n",
    "text=\"제 휴대폰 번호는 010-1234-5678이고 전화 번호는 02011335577입니다\"\n",
    "\n",
    "\n",
    "r=re.compile(\"\\d\")\n",
    "r.search(text)"
   ]
  },
  {
   "cell_type": "code",
   "execution_count": 39,
   "metadata": {},
   "outputs": [],
   "source": [
    "reg=re.compile('\\d{2,3}-?\\d{4}-?\\d{4}')"
   ]
  },
  {
   "cell_type": "code",
   "execution_count": 40,
   "metadata": {},
   "outputs": [
    {
     "data": {
      "text/plain": [
       "['010-1234-5678', '02011335577']"
      ]
     },
     "execution_count": 40,
     "metadata": {},
     "output_type": "execute_result"
    }
   ],
   "source": [
    "reg.findall(text)"
   ]
  },
  {
   "cell_type": "code",
   "execution_count": 18,
   "metadata": {},
   "outputs": [
    {
     "data": {
      "text/plain": [
       "['010-1234-5678', '02011335577']"
      ]
     },
     "execution_count": 18,
     "metadata": {},
     "output_type": "execute_result"
    }
   ],
   "source": [
    "re.findall('\\d+\\-\\d+\\-\\d+|\\d+',text)"
   ]
  },
  {
   "cell_type": "code",
   "execution_count": 16,
   "metadata": {},
   "outputs": [
    {
     "data": {
      "text/plain": [
       "['01012345678', '02011335577']"
      ]
     },
     "execution_count": 16,
     "metadata": {},
     "output_type": "execute_result"
    }
   ],
   "source": [
    "re.findall('\\d+',r.sub('',text))"
   ]
  },
  {
   "cell_type": "code",
   "execution_count": null,
   "metadata": {},
   "outputs": [],
   "source": []
  },
  {
   "cell_type": "code",
   "execution_count": null,
   "metadata": {},
   "outputs": [],
   "source": []
  },
  {
   "cell_type": "code",
   "execution_count": 43,
   "metadata": {},
   "outputs": [],
   "source": [
    "text='제휴대폰 번호는 010-1234-5678이고 전화번호는 0211335577rhk 02.1133.5599입니다'"
   ]
  },
  {
   "cell_type": "code",
   "execution_count": 22,
   "metadata": {},
   "outputs": [
    {
     "data": {
      "text/plain": [
       "['010-1234-5678', '0211335577', '02', '1133', '5599']"
      ]
     },
     "execution_count": 22,
     "metadata": {},
     "output_type": "execute_result"
    }
   ],
   "source": [
    "re.findall('\\d+\\-\\d+\\-\\d+|\\d+|\\d+[.]\\d+[.]\\d+',text)"
   ]
  },
  {
   "cell_type": "code",
   "execution_count": 36,
   "metadata": {},
   "outputs": [],
   "source": [
    "r=re.compile('\\-|[.]')"
   ]
  },
  {
   "cell_type": "code",
   "execution_count": 37,
   "metadata": {},
   "outputs": [
    {
     "data": {
      "text/plain": [
       "['01012345678', '0211335577', '0211335599']"
      ]
     },
     "execution_count": 37,
     "metadata": {},
     "output_type": "execute_result"
    }
   ],
   "source": [
    "re.findall('\\d+',r.sub('',text))"
   ]
  },
  {
   "cell_type": "code",
   "execution_count": 48,
   "metadata": {},
   "outputs": [],
   "source": [
    "reg=re.compile(\"\\d{2,3}\\W?\\d{4}\\W?\\d{4}\")"
   ]
  },
  {
   "cell_type": "code",
   "execution_count": 49,
   "metadata": {},
   "outputs": [
    {
     "data": {
      "text/plain": [
       "['010-1234-5678', '0211335577', '02.1133.5599']"
      ]
     },
     "execution_count": 49,
     "metadata": {},
     "output_type": "execute_result"
    }
   ],
   "source": [
    "reg.findall(text)"
   ]
  },
  {
   "cell_type": "code",
   "execution_count": 50,
   "metadata": {},
   "outputs": [],
   "source": [
    "r=re.compile('\\d+')"
   ]
  },
  {
   "cell_type": "code",
   "execution_count": 53,
   "metadata": {},
   "outputs": [
    {
     "data": {
      "text/plain": [
       "'제휴대폰 번호는 ****-****-****이고 전화번호는 ****rhk ****.****.****입니다'"
      ]
     },
     "execution_count": 53,
     "metadata": {},
     "output_type": "execute_result"
    }
   ],
   "source": [
    "r.sub('****',text)"
   ]
  },
  {
   "cell_type": "code",
   "execution_count": 56,
   "metadata": {},
   "outputs": [
    {
     "data": {
      "text/plain": [
       "'제휴대폰 번호는 ***-****-****이고 전화번호는 **********rhk **.****.****입니다'"
      ]
     },
     "execution_count": 56,
     "metadata": {},
     "output_type": "execute_result"
    }
   ],
   "source": [
    "re.sub('\\d','*',text)"
   ]
  },
  {
   "cell_type": "code",
   "execution_count": null,
   "metadata": {},
   "outputs": [],
   "source": []
  }
 ],
 "metadata": {
  "kernelspec": {
   "display_name": "keras",
   "language": "python",
   "name": "mypython"
  },
  "language_info": {
   "codemirror_mode": {
    "name": "ipython",
    "version": 3
   },
   "file_extension": ".py",
   "mimetype": "text/x-python",
   "name": "python",
   "nbconvert_exporter": "python",
   "pygments_lexer": "ipython3",
   "version": "3.6.8"
  }
 },
 "nbformat": 4,
 "nbformat_minor": 2
}
