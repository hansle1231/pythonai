{
 "cells": [
  {
   "cell_type": "code",
   "execution_count": 1,
   "metadata": {},
   "outputs": [],
   "source": [
    "import numpy as np\n"
   ]
  },
  {
   "cell_type": "code",
   "execution_count": 7,
   "metadata": {},
   "outputs": [],
   "source": [
    "import pandas as pd"
   ]
  },
  {
   "cell_type": "code",
   "execution_count": 11,
   "metadata": {},
   "outputs": [],
   "source": [
    "a=np.random.randn(3,2)"
   ]
  },
  {
   "cell_type": "code",
   "execution_count": 12,
   "metadata": {},
   "outputs": [
    {
     "data": {
      "text/plain": [
       "((3, 2), dtype('float64'))"
      ]
     },
     "execution_count": 12,
     "metadata": {},
     "output_type": "execute_result"
    }
   ],
   "source": [
    "a.shape, a.dtype"
   ]
  },
  {
   "cell_type": "code",
   "execution_count": 16,
   "metadata": {},
   "outputs": [
    {
     "ename": "AttributeError",
     "evalue": "'numpy.ndarray' object has no attribute 'np'",
     "output_type": "error",
     "traceback": [
      "\u001b[1;31m---------------------------------------------------------------------------\u001b[0m",
      "\u001b[1;31mAttributeError\u001b[0m                            Traceback (most recent call last)",
      "\u001b[1;32m<ipython-input-16-a8590be30a86>\u001b[0m in \u001b[0;36m<module>\u001b[1;34m\u001b[0m\n\u001b[1;32m----> 1\u001b[1;33m \u001b[0ma\u001b[0m\u001b[1;33m.\u001b[0m\u001b[0mnp\u001b[0m\u001b[1;33m.\u001b[0m\u001b[0mones\u001b[0m\u001b[1;33m(\u001b[0m\u001b[1;33m)\u001b[0m\u001b[1;33m\u001b[0m\u001b[1;33m\u001b[0m\u001b[0m\n\u001b[0m",
      "\u001b[1;31mAttributeError\u001b[0m: 'numpy.ndarray' object has no attribute 'np'"
     ]
    }
   ],
   "source": []
  },
  {
   "cell_type": "code",
   "execution_count": 17,
   "metadata": {},
   "outputs": [
    {
     "data": {
      "text/plain": [
       "array([1, 2, 3, 4])"
      ]
     },
     "execution_count": 17,
     "metadata": {},
     "output_type": "execute_result"
    }
   ],
   "source": [
    "s1=[1,2,3,4]\n",
    "s2=[33,25,74,78]\n",
    "np.array(s1)"
   ]
  },
  {
   "cell_type": "code",
   "execution_count": 18,
   "metadata": {},
   "outputs": [
    {
     "data": {
      "text/plain": [
       "array([1, 2, 3, 4])"
      ]
     },
     "execution_count": 18,
     "metadata": {},
     "output_type": "execute_result"
    }
   ],
   "source": [
    "np.array([1,2,3,4])"
   ]
  },
  {
   "cell_type": "code",
   "execution_count": 37,
   "metadata": {},
   "outputs": [],
   "source": [
    "vec_x=np.array(s1) #벡터\n",
    "mat_A=np.array([s1,s2]) #행렬\n",
    "\n",
    "mat_c=np.asarray(mat_A)"
   ]
  },
  {
   "cell_type": "code",
   "execution_count": 26,
   "metadata": {},
   "outputs": [
    {
     "data": {
      "text/plain": [
       "((4,), dtype('int32'))"
      ]
     },
     "execution_count": 26,
     "metadata": {},
     "output_type": "execute_result"
    }
   ],
   "source": [
    "vec_x.shape , vec_x.dtype"
   ]
  },
  {
   "cell_type": "code",
   "execution_count": 28,
   "metadata": {},
   "outputs": [
    {
     "data": {
      "text/plain": [
       "array([1, 2, 3, 4])"
      ]
     },
     "execution_count": 28,
     "metadata": {},
     "output_type": "execute_result"
    }
   ],
   "source": [
    "np.asarray(s1)   #s1을 어레이로 바꿈"
   ]
  },
  {
   "cell_type": "code",
   "execution_count": null,
   "metadata": {},
   "outputs": [],
   "source": []
  },
  {
   "cell_type": "code",
   "execution_count": 34,
   "metadata": {},
   "outputs": [],
   "source": [
    "vec_y=np.asarray(s2)    #s1, s2를 그대로 어레이로 바꿈\n",
    "mat_b=np.asarray(s1)"
   ]
  },
  {
   "cell_type": "code",
   "execution_count": 39,
   "metadata": {},
   "outputs": [
    {
     "name": "stdout",
     "output_type": "stream",
     "text": [
      "2498163608672 2498161094944 2498163608672\n"
     ]
    }
   ],
   "source": [
    "print(id(mat_A),id(mat_b),id(mat_c))   #a,b 아이디값이 다르다, 이미 어레이인걸 에스어레이하면 같은객체로취급(id(mat_A)=id(mat_c))"
   ]
  },
  {
   "cell_type": "code",
   "execution_count": 42,
   "metadata": {},
   "outputs": [],
   "source": [
    "vx=np.arange(1,10,2)"
   ]
  },
  {
   "cell_type": "code",
   "execution_count": 43,
   "metadata": {},
   "outputs": [
    {
     "data": {
      "text/plain": [
       "array([1, 3, 5, 7, 9])"
      ]
     },
     "execution_count": 43,
     "metadata": {},
     "output_type": "execute_result"
    }
   ],
   "source": [
    "vx"
   ]
  },
  {
   "cell_type": "code",
   "execution_count": 48,
   "metadata": {},
   "outputs": [
    {
     "data": {
      "text/plain": [
       "array([0., 0., 0., 0.])"
      ]
     },
     "execution_count": 48,
     "metadata": {},
     "output_type": "execute_result"
    }
   ],
   "source": [
    "np.zeros(4)   #원소들이 0이고 크기가4인 벡터"
   ]
  },
  {
   "cell_type": "code",
   "execution_count": 49,
   "metadata": {},
   "outputs": [
    {
     "data": {
      "text/plain": [
       "array([[0., 0., 0., 0., 0.],\n",
       "       [0., 0., 0., 0., 0.],\n",
       "       [0., 0., 0., 0., 0.],\n",
       "       [0., 0., 0., 0., 0.]])"
      ]
     },
     "execution_count": 49,
     "metadata": {},
     "output_type": "execute_result"
    }
   ],
   "source": [
    "np.zeros((4,5))  #원소가0이고 4x5인 행렬"
   ]
  },
  {
   "cell_type": "code",
   "execution_count": 51,
   "metadata": {},
   "outputs": [
    {
     "data": {
      "text/plain": [
       "array([[0, 0, 0, 0],\n",
       "       [0, 0, 0, 0]])"
      ]
     },
     "execution_count": 51,
     "metadata": {},
     "output_type": "execute_result"
    }
   ],
   "source": [
    "np.zeros_like(mat_A)   #mat_A랑 크기가같은 0로 행렬 생성"
   ]
  },
  {
   "cell_type": "code",
   "execution_count": 54,
   "metadata": {},
   "outputs": [
    {
     "data": {
      "text/plain": [
       "array([[1., 0., 0., 0., 0.],\n",
       "       [0., 1., 0., 0., 0.],\n",
       "       [0., 0., 1., 0., 0.],\n",
       "       [0., 0., 0., 1., 0.],\n",
       "       [0., 0., 0., 0., 1.]])"
      ]
     },
     "execution_count": 54,
     "metadata": {},
     "output_type": "execute_result"
    }
   ],
   "source": [
    "np.eye(5)   #5x5 항등행렬"
   ]
  },
  {
   "cell_type": "code",
   "execution_count": 56,
   "metadata": {},
   "outputs": [
    {
     "name": "stdout",
     "output_type": "stream",
     "text": [
      "[b'1' b'2' b'3' b'4'] |S1\n"
     ]
    }
   ],
   "source": [
    "s1=[1,2,3,4]\n",
    "s2=[33.4,25.2,74.1,78.4]\n",
    "np.array(s1)\n",
    "vecx=np.array(s1,dtype=np.string_)  #강제로 문자열로 바꿈, 디폴트는 정수형\n",
    "print(vecx,vecx.dtype)"
   ]
  },
  {
   "cell_type": "code",
   "execution_count": 57,
   "metadata": {},
   "outputs": [
    {
     "name": "stdout",
     "output_type": "stream",
     "text": [
      "[1 2 3 4] int32\n"
     ]
    }
   ],
   "source": [
    "vecx=np.array(s1)  #강제로 문자열로 바꿈, 디폴트는 정수형\n",
    "print(vecx,vecx.dtype)"
   ]
  },
  {
   "cell_type": "code",
   "execution_count": 59,
   "metadata": {},
   "outputs": [
    {
     "data": {
      "text/plain": [
       "array([1., 2., 3., 4.])"
      ]
     },
     "execution_count": 59,
     "metadata": {},
     "output_type": "execute_result"
    }
   ],
   "source": [
    "vecx.astype(np.float64)"
   ]
  },
  {
   "cell_type": "code",
   "execution_count": 64,
   "metadata": {},
   "outputs": [
    {
     "name": "stdout",
     "output_type": "stream",
     "text": [
      "[[ 1.   2.   3.   4. ]\n",
      " [33.4 25.2 74.1 78.4]] float64\n",
      "[[ 1  2  3  4]\n",
      " [33 25 74 78]] int16\n"
     ]
    }
   ],
   "source": [
    "mat=np.array([s1,s2])\n",
    "print(mat,mat.dtype)\n",
    "mat=mat.astype(np.int16)\n",
    "print(mat,mat.dtype)"
   ]
  },
  {
   "cell_type": "markdown",
   "metadata": {},
   "source": [
    "* 배열과 스칼라 연산"
   ]
  },
  {
   "cell_type": "code",
   "execution_count": 70,
   "metadata": {},
   "outputs": [
    {
     "name": "stdout",
     "output_type": "stream",
     "text": [
      "[1 2 3 4] [2 4 6 8] [0.25 0.5  0.75 1.  ]\n",
      "[[ 1.   2.   3.   4. ]\n",
      " [33.4 25.2 74.1 78.4]]\n",
      "[[  2.    4.    6.    8. ]\n",
      " [ 66.8  50.4 148.2 156.8]] [[11.  12.  13.  14. ]\n",
      " [43.4 35.2 84.1 88.4]]\n"
     ]
    }
   ],
   "source": [
    "vec=np.array(s1)\n",
    "print(vec,2*vec,vec/4)    #각각 원소에 동일한 연산을해줌\n",
    "mat=np.array([s1,s2])\n",
    "\n",
    "\n",
    "print(mat)\n",
    "print(2*mat,mat+10)"
   ]
  },
  {
   "cell_type": "code",
   "execution_count": 73,
   "metadata": {},
   "outputs": [
    {
     "name": "stdout",
     "output_type": "stream",
     "text": [
      "[ 33  50 222 312]\n"
     ]
    }
   ],
   "source": [
    "s1=[1,2,3,4]\n",
    "s2=[33,25,74,78]\n",
    "\n",
    "vec1=np.array(s1)\n",
    "vec2=np.array(s2)\n",
    "print(vec1*vec2)  #벡터곱이 아니라 같은위치원소끼리 곱해버림\n"
   ]
  },
  {
   "cell_type": "code",
   "execution_count": 77,
   "metadata": {},
   "outputs": [
    {
     "data": {
      "text/plain": [
       "array([[  2,  10,   3,   8],\n",
       "       [132,  50, 222,  78]])"
      ]
     },
     "execution_count": 77,
     "metadata": {},
     "output_type": "execute_result"
    }
   ],
   "source": [
    "mat1=np.array([s1,s2])\n",
    "mat2=np.array([[2,5,1,2],[4,2,3,1]])    \n",
    "mat1*mat2    #우리가 아는 행렬곱이 아니라 같은위치 원ㅅ끼리 곱"
   ]
  },
  {
   "cell_type": "code",
   "execution_count": 78,
   "metadata": {},
   "outputs": [
    {
     "data": {
      "text/plain": [
       "array([], shape=(0, 4), dtype=int32)"
      ]
     },
     "execution_count": 78,
     "metadata": {},
     "output_type": "execute_result"
    }
   ],
   "source": [
    "mat1[2:4]"
   ]
  },
  {
   "cell_type": "code",
   "execution_count": null,
   "metadata": {},
   "outputs": [],
   "source": []
  },
  {
   "cell_type": "code",
   "execution_count": 107,
   "metadata": {},
   "outputs": [
    {
     "name": "stdout",
     "output_type": "stream",
     "text": [
      "2 2\n",
      "[1, 100, 4, 2, 44, 12, 43] [  1 100 100   4   2  44  12  43]\n"
     ]
    }
   ],
   "source": [
    "s1=[1,2,3,4,2,44,12,43]\n",
    "s2=[33,25,74,78,1,3,4,5]\n",
    "\n",
    "vec=np.array(s1)\n",
    "\n",
    "sub_vec1=vec[1:5]   #서브벡터(벡터일부만 가져온거) 원소를바꾸면 원래벡터도 수정됌\n",
    "sub_vec2=vec[1:5].copy\n",
    "print(s1[4],vec[4])   #인덱싱\n",
    "s1[1:3], vec[1:3]    #슬라이싱\n",
    "\n",
    "#s1[4]=999 ; vec[4]=999\n",
    "\n",
    "s1,vec\n",
    "\n",
    "s1[1:3]=[100] \n",
    "vec[1:3]=100\n",
    "\n",
    "print(s1,vec)   #차이확인"
   ]
  },
  {
   "cell_type": "code",
   "execution_count": 100,
   "metadata": {},
   "outputs": [
    {
     "ename": "TypeError",
     "evalue": "can only assign an iterable",
     "output_type": "error",
     "traceback": [
      "\u001b[1;31m---------------------------------------------------------------------------\u001b[0m",
      "\u001b[1;31mTypeError\u001b[0m                                 Traceback (most recent call last)",
      "\u001b[1;32m<ipython-input-100-1d743362091e>\u001b[0m in \u001b[0;36m<module>\u001b[1;34m\u001b[0m\n\u001b[1;32m----> 1\u001b[1;33m \u001b[0ms1\u001b[0m\u001b[1;33m[\u001b[0m\u001b[1;36m1\u001b[0m\u001b[1;33m:\u001b[0m\u001b[1;36m10\u001b[0m\u001b[1;33m]\u001b[0m\u001b[1;33m=\u001b[0m\u001b[1;36m10\u001b[0m\u001b[1;33m\u001b[0m\u001b[1;33m\u001b[0m\u001b[0m\n\u001b[0m",
      "\u001b[1;31mTypeError\u001b[0m: can only assign an iterable"
     ]
    }
   ],
   "source": [
    "s1[1:10]=1"
   ]
  },
  {
   "cell_type": "code",
   "execution_count": 109,
   "metadata": {},
   "outputs": [],
   "source": [
    "s1=[1,2,3,4,2,44,12,43,1]\n",
    "s2=[78,1,3,4,5,2,121,32,45]\n",
    "s3=[10,20,30,40,50,60,70,80,90]\n",
    "vec=np.array(s1)\n",
    "\n",
    "sub_vec1=vec[1:5]   #서브벡터(벡터일부만 가져온거) 원소를바꾸면 원래벡터도 수정됌\n",
    "sub_vec2=vec[1:5].copy()   # 얘는원본에 영향안미침"
   ]
  },
  {
   "cell_type": "code",
   "execution_count": 110,
   "metadata": {},
   "outputs": [],
   "source": [
    "sub_vec1[0]=928"
   ]
  },
  {
   "cell_type": "code",
   "execution_count": 112,
   "metadata": {},
   "outputs": [
    {
     "data": {
      "text/plain": [
       "array([  1, 928,   3,   4,   2,  44,  12,  43])"
      ]
     },
     "execution_count": 112,
     "metadata": {},
     "output_type": "execute_result"
    }
   ],
   "source": [
    "vec   #원본도 바뀜"
   ]
  },
  {
   "cell_type": "code",
   "execution_count": 114,
   "metadata": {},
   "outputs": [],
   "source": [
    "#3차원행렬\n",
    "\n",
    "s1=[1,2,3,4,2,44,12,43,1]\n",
    "s2=[78,1,3,4,5,2,121,32,45]\n",
    "s3=[10,20,30,40,50,60,70,80,90]\n",
    "\n",
    "A=np.array([s1,s2,s3])"
   ]
  },
  {
   "cell_type": "code",
   "execution_count": 124,
   "metadata": {},
   "outputs": [
    {
     "name": "stdout",
     "output_type": "stream",
     "text": [
      "[ 78   1   3   4   5   2 121  32  45]\n",
      "2\n",
      "2\n",
      "[[3 4 2]\n",
      " [3 4 5]]\n",
      "[]\n",
      "[[3 4 2]\n",
      " [3 4 5]]\n"
     ]
    }
   ],
   "source": [
    "print(A[1])   #1행추출\n",
    "print(A[1,5]) #1행 5열 추출\n",
    "print(A[1][5]) #1행 5열 추출\n",
    "print(A[:2,2:5])  # (0~1행),(2~4열)  추출\n",
    "print(A[:2][2:5]) #슬라이싱할때는 이게안됌\n",
    "print(A[:2][:,2:5])  #이런식으로 해줘야됌(앞에서뽑힌 모든행을 선언해줘야됌)"
   ]
  },
  {
   "cell_type": "code",
   "execution_count": 130,
   "metadata": {},
   "outputs": [],
   "source": [
    "s11=[1,2,3,4] ; s12=[10,20,30,40]; s13=[100,200,300,400]\n",
    "s21=[11,22,33,44]; s22=[12,22,32,42]; s23=[31,32,33,34]"
   ]
  },
  {
   "cell_type": "code",
   "execution_count": 139,
   "metadata": {},
   "outputs": [],
   "source": [
    "L=np.array([[s11,s12,s13],[s21,s22,s23]])"
   ]
  },
  {
   "cell_type": "code",
   "execution_count": 141,
   "metadata": {},
   "outputs": [
    {
     "data": {
      "text/plain": [
       "array([[[  1,   2,   3,   4],\n",
       "        [ 10,  20,  30,  40],\n",
       "        [100, 200, 300, 400]],\n",
       "\n",
       "       [[ 11,  22,  33,  44],\n",
       "        [ 12,  22,  32,  42],\n",
       "        [ 31,  32,  33,  34]]])"
      ]
     },
     "execution_count": 141,
     "metadata": {},
     "output_type": "execute_result"
    }
   ],
   "source": [
    "L"
   ]
  },
  {
   "cell_type": "code",
   "execution_count": 142,
   "metadata": {},
   "outputs": [
    {
     "data": {
      "text/plain": [
       "(2, 3, 4)"
      ]
     },
     "execution_count": 142,
     "metadata": {},
     "output_type": "execute_result"
    }
   ],
   "source": [
    "L.shape"
   ]
  },
  {
   "cell_type": "code",
   "execution_count": 145,
   "metadata": {},
   "outputs": [
    {
     "name": "stdout",
     "output_type": "stream",
     "text": [
      "30\n",
      "30\n"
     ]
    }
   ],
   "source": [
    "print(L[0,1,2])\n",
    "print(L[0][1,2])\n"
   ]
  },
  {
   "cell_type": "code",
   "execution_count": 147,
   "metadata": {},
   "outputs": [
    {
     "name": "stdout",
     "output_type": "stream",
     "text": [
      "[[[ 1  2]\n",
      "  [10 20]]\n",
      "\n",
      " [[11 22]\n",
      "  [12 22]]]\n",
      "[[10 20 30 40]\n",
      " [12 22 32 42]]\n"
     ]
    }
   ],
   "source": [
    "print(L[:,:2,:2])\n",
    "print(L[:2,1])"
   ]
  },
  {
   "cell_type": "code",
   "execution_count": 148,
   "metadata": {},
   "outputs": [],
   "source": [
    "sub_L1=L[:2,1]     #뷰 \n",
    "sub_L2=L[:2,1].copy()   #카피"
   ]
  },
  {
   "cell_type": "code",
   "execution_count": 150,
   "metadata": {},
   "outputs": [
    {
     "name": "stdout",
     "output_type": "stream",
     "text": [
      "[[10 20 30 40]\n",
      " [12 22 32 42]] [[10 20 30 40]\n",
      " [12 22 32 42]]\n"
     ]
    }
   ],
   "source": [
    "print(sub_L1, sub_L2)"
   ]
  },
  {
   "cell_type": "code",
   "execution_count": 151,
   "metadata": {},
   "outputs": [
    {
     "data": {
      "text/plain": [
       "(2, 3, 4)"
      ]
     },
     "execution_count": 151,
     "metadata": {},
     "output_type": "execute_result"
    }
   ],
   "source": [
    "L.shape"
   ]
  },
  {
   "cell_type": "code",
   "execution_count": 156,
   "metadata": {},
   "outputs": [
    {
     "data": {
      "text/plain": [
       "array([[  1,   2,   3,   4],\n",
       "       [ 10,  20,  30,  40],\n",
       "       [100, 200, 300, 400]])"
      ]
     },
     "execution_count": 156,
     "metadata": {},
     "output_type": "execute_result"
    }
   ],
   "source": [
    "mat1=np.array([s11,s12,s13])\n",
    "mat1"
   ]
  },
  {
   "cell_type": "code",
   "execution_count": 160,
   "metadata": {},
   "outputs": [
    {
     "name": "stdout",
     "output_type": "stream",
     "text": [
      "[10 20 30 40] \n",
      " [[10 20 30 40]]\n",
      "[ 20  30  40 100 200 300 400]\n"
     ]
    }
   ],
   "source": [
    "print(mat1[1],'\\n',mat1[[False,True,False]])   #논리값으로 인덱싱하기\n",
    "print(mat1[mat1>10])   # 10넘는값만 추출"
   ]
  },
  {
   "cell_type": "code",
   "execution_count": 171,
   "metadata": {},
   "outputs": [
    {
     "name": "stdout",
     "output_type": "stream",
     "text": [
      "['남' '남' '여' '여' '남' '여'] mat: [[  1   2   3   4]\n",
      " [ 10  40  20  60]\n",
      " [  4   2   5   4]\n",
      " [  1   2   3   4]\n",
      " [110 140 120 160]\n",
      " [224 322 125  34]]\n",
      "result: [ True  True False False  True False]\n",
      "male: [[  1   2   3   4]\n",
      " [ 10  40  20  60]\n",
      " [110 140 120 160]]\n"
     ]
    }
   ],
   "source": [
    "gender=np.array(['남','남','여','여','남','여'])\n",
    "s11=[1,2,3,4];s12=[10,40,20,60];s13=[4,2,5,4]\n",
    "s21=[1,2,3,4];s22=[110,140,120,160];s23=[224,322,125,34]\n",
    "\n",
    "\n",
    "mat=np.array([s11,s12,s13,s21,s22,s23])\n",
    "print(gender,'mat:',mat)\n",
    "result=gender=='남'\n",
    "print('result:',result)\n",
    "male=mat[result]\n",
    "\n",
    "female=mat[~result]\n",
    "print('male:',male)"
   ]
  },
  {
   "cell_type": "code",
   "execution_count": 166,
   "metadata": {},
   "outputs": [
    {
     "data": {
      "text/plain": [
       "array([10, 20, 30, 40, 40, 20, 50, 40, 10, 20, 30, 40])"
      ]
     },
     "execution_count": 166,
     "metadata": {},
     "output_type": "execute_result"
    }
   ],
   "source": [
    "mat[mat<10]*10"
   ]
  },
  {
   "cell_type": "markdown",
   "metadata": {},
   "source": [
    "* 펜시 인덱싱"
   ]
  },
  {
   "cell_type": "code",
   "execution_count": 200,
   "metadata": {},
   "outputs": [
    {
     "name": "stdout",
     "output_type": "stream",
     "text": [
      "ex: [[ 0.66533532 -1.6451255   0.37073953 -0.67334694  0.46945794 -2.88112451\n",
      "  -0.51205161]\n",
      " [-1.31187668  0.65118594 -0.87425186 -2.15543204  1.77050233  1.26316461\n",
      "   0.01741022]\n",
      " [ 1.09750137 -0.97796097  0.50654288 -0.8861273  -1.06199846  0.25365003\n",
      "   1.39377241]\n",
      " [ 1.80450761  0.83500925 -0.18447119  1.15054775  1.33147526 -0.50039992\n",
      "   0.71685746]\n",
      " [ 0.9197221  -0.75026886 -0.62315306 -0.78326145 -0.42824067  0.71592013\n",
      "   0.72927134]\n",
      " [ 0.54787469 -0.85025229  1.22511636 -0.56988924  0.09936441  1.08816098\n",
      "   1.16072242]]\n",
      "fency [-0.56988924 -1.6451255  -1.06199846]\n",
      "fency2 [[-0.56988924 -0.85025229  0.09936441]\n",
      " [-0.67334694 -1.6451255   0.46945794]\n",
      " [-0.8861273  -0.97796097 -1.06199846]]\n"
     ]
    }
   ],
   "source": [
    "ex=np.random.randn(6,7)\n",
    "\n",
    "print('ex:',ex)\n",
    "\n",
    "print('fency',ex[[5,0,2],[3,1,4]])  # 5행 3열, 0행1열, 2행 4열  추출\n",
    "print('fency2',ex[[5,0,2]][:,[3,1,4]])  #앞에뽑힌전체 라는걸 선언해줘야함 (5,0,2열 전체중에 3열,1열, 4열)\n"
   ]
  },
  {
   "cell_type": "markdown",
   "metadata": {},
   "source": [
    "* 전치/축바꾸기"
   ]
  },
  {
   "cell_type": "code",
   "execution_count": 205,
   "metadata": {},
   "outputs": [],
   "source": [
    "ex=np.arange(24).reshape(2,4,3)"
   ]
  },
  {
   "cell_type": "code",
   "execution_count": 209,
   "metadata": {},
   "outputs": [
    {
     "name": "stdout",
     "output_type": "stream",
     "text": [
      "[[[ 0  1  2]\n",
      "  [ 3  4  5]\n",
      "  [ 6  7  8]\n",
      "  [ 9 10 11]]\n",
      "\n",
      " [[12 13 14]\n",
      "  [15 16 17]\n",
      "  [18 19 20]\n",
      "  [21 22 23]]]\n"
     ]
    },
    {
     "data": {
      "text/plain": [
       "array([[[ 0, 12],\n",
       "        [ 3, 15],\n",
       "        [ 6, 18],\n",
       "        [ 9, 21]],\n",
       "\n",
       "       [[ 1, 13],\n",
       "        [ 4, 16],\n",
       "        [ 7, 19],\n",
       "        [10, 22]],\n",
       "\n",
       "       [[ 2, 14],\n",
       "        [ 5, 17],\n",
       "        [ 8, 20],\n",
       "        [11, 23]]])"
      ]
     },
     "execution_count": 209,
     "metadata": {},
     "output_type": "execute_result"
    }
   ],
   "source": [
    "print(ex) #(2,4,3) =전치=>  (3,4,2)\n",
    "ex.T"
   ]
  },
  {
   "cell_type": "code",
   "execution_count": 213,
   "metadata": {},
   "outputs": [
    {
     "name": "stdout",
     "output_type": "stream",
     "text": [
      "[[[ 0  1  2]\n",
      "  [ 3  4  5]\n",
      "  [ 6  7  8]\n",
      "  [ 9 10 11]]\n",
      "\n",
      " [[12 13 14]\n",
      "  [15 16 17]\n",
      "  [18 19 20]\n",
      "  [21 22 23]]] \n",
      "\n",
      "\n",
      "\n",
      "\n",
      " [[[ 0  3  6  9]\n",
      "  [12 15 18 21]]\n",
      "\n",
      " [[ 1  4  7 10]\n",
      "  [13 16 19 22]]\n",
      "\n",
      " [[ 2  5  8 11]\n",
      "  [14 17 20 23]]]\n"
     ]
    }
   ],
   "source": [
    "print(ex,'\\n\\n\\n\\n\\n',ex.transpose(2,0,1))  #열을층 층을행 행을열로 변경 2,4,3 -> 3,2,4\n",
    "\n",
    "#층헹열"
   ]
  },
  {
   "cell_type": "code",
   "execution_count": 215,
   "metadata": {},
   "outputs": [],
   "source": [
    "arr2=arr.T\n"
   ]
  },
  {
   "cell_type": "code",
   "execution_count": 217,
   "metadata": {},
   "outputs": [
    {
     "data": {
      "text/plain": [
       "array([[[ 0, 12],\n",
       "        [ 3, 15],\n",
       "        [ 6, 18],\n",
       "        [ 9, 21]],\n",
       "\n",
       "       [[ 1, 13],\n",
       "        [ 4, 16],\n",
       "        [ 7, 19],\n",
       "        [10, 22]],\n",
       "\n",
       "       [[ 2, 14],\n",
       "        [ 5, 17],\n",
       "        [ 8, 20],\n",
       "        [11, 23]]])"
      ]
     },
     "execution_count": 217,
     "metadata": {},
     "output_type": "execute_result"
    }
   ],
   "source": [
    "arr4=arr.swapaxes(2,0)  #2(열)과 0(층)을 바꾼다\n",
    "\n",
    "arr4\n"
   ]
  },
  {
   "cell_type": "markdown",
   "metadata": {},
   "source": [
    "* 범용 함수: 데이터 원소별로 연산수행\n",
    "\n",
    "NAN: 누락데이터,결측안된데이터"
   ]
  },
  {
   "cell_type": "code",
   "execution_count": 218,
   "metadata": {},
   "outputs": [
    {
     "data": {
      "text/plain": [
       "array([ 1.,  2.,  3., inf, nan])"
      ]
     },
     "execution_count": 218,
     "metadata": {},
     "output_type": "execute_result"
    }
   ],
   "source": [
    "np.array([1,2,3,np.inf,np.nan])"
   ]
  },
  {
   "cell_type": "code",
   "execution_count": 229,
   "metadata": {},
   "outputs": [
    {
     "name": "stdout",
     "output_type": "stream",
     "text": [
      "[[ 0  1  2  3  4  5]\n",
      " [ 6  7  8  9 10 11]\n",
      " [12 13 14 15 16 17]] \n",
      " [[ 0.51255324  0.24637472 -0.59074617  1.40264838 -1.02438185 -0.36826071]\n",
      " [ 1.78068282 -0.46254835 -0.14420814 -0.33269734  1.47994367 -0.14355034]\n",
      " [ 0.51934966 -0.69067522  2.13457244 -1.65582886 -1.07465757 -0.7857012 ]]\n"
     ]
    }
   ],
   "source": [
    "A=np.arange(18).reshape(3,6)\n",
    "B=np.random.randn(3,6)\n",
    "print(A,'\\n',B)"
   ]
  },
  {
   "cell_type": "code",
   "execution_count": 225,
   "metadata": {},
   "outputs": [
    {
     "name": "stdout",
     "output_type": "stream",
     "text": [
      "[[0.44501549 0.26324325 0.13639905 0.98214911 0.9503875  1.58463866\n",
      "  0.00278118]\n",
      " [0.11798275 1.30134617 0.34808006 0.01556604 1.44120764 0.15791479\n",
      "  2.08687425]\n",
      " [1.33928248 1.71725014 1.65154642 0.11493376 0.81198077 0.7701558\n",
      "  0.63340294]]\n"
     ]
    }
   ],
   "source": [
    "print(np.abs(B))  #각원소를 절대값으로 돌려줌"
   ]
  },
  {
   "cell_type": "code",
   "execution_count": 227,
   "metadata": {},
   "outputs": [
    {
     "name": "stdout",
     "output_type": "stream",
     "text": [
      "[[ True  True  True  True  True  True  True]\n",
      " [ True  True  True  True  True  True  True]\n",
      " [ True  True  True  True  True  True  True]]\n"
     ]
    }
   ],
   "source": [
    "print(np.isfinite(B))   #요소가 유한하냐\n"
   ]
  },
  {
   "cell_type": "code",
   "execution_count": 231,
   "metadata": {},
   "outputs": [
    {
     "name": "stdout",
     "output_type": "stream",
     "text": [
      "[[  0.           0.24637472  -1.18149233   4.20794514  -4.09752739\n",
      "   -1.84130356]\n",
      " [ 10.6840969   -3.23783842  -1.15366513  -2.99427606  14.79943668\n",
      "   -1.57905379]\n",
      " [  6.23219594  -8.97877792  29.88401409 -24.83743297 -17.1945212\n",
      "  -13.35692033]]\n",
      "[[0.00000000e+00 1.00000000e+00 6.63999396e-01 4.66910194e+00\n",
      "  2.41691108e-01 5.52836627e-01]\n",
      " [2.43019185e+01 4.06538143e-01 7.40912756e-01 4.81422136e-01\n",
      "  3.01956003e+01 7.08773907e-01]\n",
      " [3.63473217e+00 1.70069692e-01 2.79571768e+02 1.12874060e-02\n",
      "  5.08139949e-02 1.07953024e-01]]\n"
     ]
    }
   ],
   "source": [
    "print(np.multiply(A,B))\n",
    "print(np.power(A,B))"
   ]
  },
  {
   "cell_type": "code",
   "execution_count": 237,
   "metadata": {},
   "outputs": [
    {
     "ename": "SyntaxError",
     "evalue": "unexpected EOF while parsing (<ipython-input-237-70d12ce1ae17>, line 3)",
     "output_type": "error",
     "traceback": [
      "\u001b[1;36m  File \u001b[1;32m\"<ipython-input-237-70d12ce1ae17>\"\u001b[1;36m, line \u001b[1;32m3\u001b[0m\n\u001b[1;33m    \u001b[0m\n\u001b[1;37m    ^\u001b[0m\n\u001b[1;31mSyntaxError\u001b[0m\u001b[1;31m:\u001b[0m unexpected EOF while parsing\n"
     ]
    }
   ],
   "source": [
    "print(np.greater(A,B)\n",
    "      \n",
    "      "
   ]
  },
  {
   "cell_type": "code",
   "execution_count": 238,
   "metadata": {},
   "outputs": [
    {
     "ename": "SyntaxError",
     "evalue": "invalid syntax (<ipython-input-238-c6e18e29f378>, line 1)",
     "output_type": "error",
     "traceback": [
      "\u001b[1;36m  File \u001b[1;32m\"<ipython-input-238-c6e18e29f378>\"\u001b[1;36m, line \u001b[1;32m1\u001b[0m\n\u001b[1;33m    B[B>=0] & B(b<10)) ]\u001b[0m\n\u001b[1;37m                     ^\u001b[0m\n\u001b[1;31mSyntaxError\u001b[0m\u001b[1;31m:\u001b[0m invalid syntax\n"
     ]
    }
   ],
   "source": [
    "B[B>=0] & B[b<10]}\n",
    "np.logical_and((B>=0))"
   ]
  },
  {
   "cell_type": "code",
   "execution_count": 245,
   "metadata": {},
   "outputs": [],
   "source": [
    "xarr=np.array([1,2,3,4,5,7])\n",
    "yarr=np.array([1,2,3,4,5,6])\n",
    "zarr=np.array(['서울','경기','서울','인천','경기','울산'])\n",
    "result=[(x if z=='서울' else y) for x,y,z in zip(xarr,yarr,zarr)]"
   ]
  },
  {
   "cell_type": "raw",
   "metadata": {},
   "source": [
    "result"
   ]
  },
  {
   "cell_type": "code",
   "execution_count": 241,
   "metadata": {},
   "outputs": [
    {
     "data": {
      "text/plain": [
       "[2.5, 2, 8.1, 4, 5]"
      ]
     },
     "execution_count": 241,
     "metadata": {},
     "output_type": "execute_result"
    }
   ],
   "source": [
    "result"
   ]
  },
  {
   "cell_type": "code",
   "execution_count": 248,
   "metadata": {},
   "outputs": [],
   "source": [
    "result2=np.where(zarr=='서울',xarr,yarr)   #위에거편하게하기 np.where(논리식,참일때값,거짓일때값)"
   ]
  },
  {
   "cell_type": "code",
   "execution_count": 247,
   "metadata": {},
   "outputs": [
    {
     "data": {
      "text/plain": [
       "array([1, 2, 3, 4, 5, 6])"
      ]
     },
     "execution_count": 247,
     "metadata": {},
     "output_type": "execute_result"
    }
   ],
   "source": [
    "result2"
   ]
  },
  {
   "cell_type": "code",
   "execution_count": 249,
   "metadata": {},
   "outputs": [
    {
     "data": {
      "text/plain": [
       "array([ 1, 92,  3])"
      ]
     },
     "execution_count": 249,
     "metadata": {},
     "output_type": "execute_result"
    }
   ],
   "source": [
    "np.where([True,False,True],[1,2,3],[99,92,91])"
   ]
  },
  {
   "cell_type": "code",
   "execution_count": 251,
   "metadata": {},
   "outputs": [
    {
     "data": {
      "text/plain": [
       "array([[  1, 322],\n",
       "       [  2, 132]])"
      ]
     },
     "execution_count": 251,
     "metadata": {},
     "output_type": "execute_result"
    }
   ],
   "source": [
    "#2차원 배열일때\n",
    "\n",
    "np.where([[True,False],[True,False]],[[1,2],[2,3]],[[333,322],[222,132]])"
   ]
  },
  {
   "cell_type": "markdown",
   "metadata": {},
   "source": [
    "where(조건, 참 ,where(조건,참,where(조건,참,거짓))"
   ]
  },
  {
   "cell_type": "code",
   "execution_count": 254,
   "metadata": {},
   "outputs": [
    {
     "data": {
      "text/plain": [
       "array([[ 0.        ,  0.        , 19.39642653],\n",
       "       [15.03225222, 11.54046946,  0.        ],\n",
       "       [11.88894191,  0.        , 13.72815192],\n",
       "       [13.43862236,  0.        , 13.25223707]])"
      ]
     },
     "execution_count": 254,
     "metadata": {},
     "output_type": "execute_result"
    }
   ],
   "source": [
    "arr1=(10+5*np.random.randn(12)).reshape(4,3)\n",
    "arr2=(10+5*np.random.randn(12)).reshape(4,3)\n",
    "result=np.where(arr1>=10,arr1,np.where(arr2>10,arr2,0))\n",
    "result\n"
   ]
  },
  {
   "cell_type": "code",
   "execution_count": null,
   "metadata": {},
   "outputs": [],
   "source": []
  },
  {
   "cell_type": "code",
   "execution_count": null,
   "metadata": {},
   "outputs": [],
   "source": []
  },
  {
   "cell_type": "code",
   "execution_count": 258,
   "metadata": {},
   "outputs": [
    {
     "name": "stdout",
     "output_type": "stream",
     "text": [
      "4.833333333333333 4.6\n",
      "4.833333333333333 4.6\n"
     ]
    }
   ],
   "source": [
    "A=np.array([2,5,3,5,3,11])\n",
    "B=np.array([3,4,5,6,5])\n",
    "print(A.mean(),B.mean())   #골라서쓰면됌\n",
    "print(np.mean(A),np.mean(B))\n"
   ]
  },
  {
   "cell_type": "code",
   "execution_count": 262,
   "metadata": {},
   "outputs": [
    {
     "name": "stdout",
     "output_type": "stream",
     "text": [
      "0.5573399098172015 2.9674156357941426\n"
     ]
    }
   ],
   "source": [
    "print(a.std(ddof=0),np.std(A,ddof=0))   #ddof = degree of freedom, ddof=0 이면 분산분모가 n, ddof=1이면 n-1로 나눔"
   ]
  },
  {
   "cell_type": "code",
   "execution_count": 264,
   "metadata": {},
   "outputs": [
    {
     "ename": "TypeError",
     "evalue": "unsupported operand type(s) for /: 'list' and 'int'",
     "output_type": "error",
     "traceback": [
      "\u001b[1;31m---------------------------------------------------------------------------\u001b[0m",
      "\u001b[1;31mTypeError\u001b[0m                                 Traceback (most recent call last)",
      "\u001b[1;32m<ipython-input-264-666fbc1ddc78>\u001b[0m in \u001b[0;36m<module>\u001b[1;34m\u001b[0m\n\u001b[0;32m      1\u001b[0m \u001b[0mA\u001b[0m\u001b[1;33m=\u001b[0m\u001b[0mnp\u001b[0m\u001b[1;33m.\u001b[0m\u001b[0marray\u001b[0m\u001b[1;33m(\u001b[0m\u001b[1;33m[\u001b[0m\u001b[1;33m[\u001b[0m\u001b[1;36m2\u001b[0m\u001b[1;33m,\u001b[0m\u001b[1;36m5\u001b[0m\u001b[1;33m,\u001b[0m\u001b[1;36m3\u001b[0m\u001b[1;33m]\u001b[0m\u001b[1;33m,\u001b[0m\u001b[1;33m[\u001b[0m\u001b[1;36m5\u001b[0m\u001b[1;33m,\u001b[0m\u001b[1;36m3\u001b[0m\u001b[1;33m,\u001b[0m\u001b[1;36m11\u001b[0m\u001b[1;33m]\u001b[0m\u001b[1;33m,\u001b[0m\u001b[1;33m[\u001b[0m\u001b[1;36m4\u001b[0m\u001b[1;33m,\u001b[0m\u001b[1;36m2\u001b[0m\u001b[1;33m,\u001b[0m\u001b[1;36m5\u001b[0m\u001b[1;33m]\u001b[0m\u001b[1;33m,\u001b[0m\u001b[1;33m[\u001b[0m\u001b[1;36m3\u001b[0m\u001b[1;33m,\u001b[0m\u001b[1;36m4\u001b[0m\u001b[1;33m,\u001b[0m\u001b[1;36m2\u001b[0m\u001b[1;33m]\u001b[0m\u001b[1;33m]\u001b[0m\u001b[1;33m)\u001b[0m\u001b[1;33m\u001b[0m\u001b[1;33m\u001b[0m\u001b[0m\n\u001b[0;32m      2\u001b[0m \u001b[0mB\u001b[0m\u001b[1;33m=\u001b[0m\u001b[0mnp\u001b[0m\u001b[1;33m.\u001b[0m\u001b[0marray\u001b[0m\u001b[1;33m(\u001b[0m\u001b[1;33m[\u001b[0m\u001b[1;33m[\u001b[0m\u001b[1;36m3\u001b[0m\u001b[1;33m,\u001b[0m\u001b[1;36m4\u001b[0m\u001b[1;33m,\u001b[0m\u001b[1;36m5\u001b[0m\u001b[1;33m]\u001b[0m\u001b[1;33m,\u001b[0m\u001b[1;33m[\u001b[0m\u001b[1;36m6\u001b[0m\u001b[1;33m,\u001b[0m\u001b[1;36m5\u001b[0m\u001b[1;33m]\u001b[0m\u001b[1;33m]\u001b[0m\u001b[1;33m)\u001b[0m\u001b[1;33m\u001b[0m\u001b[1;33m\u001b[0m\u001b[0m\n\u001b[1;32m----> 3\u001b[1;33m \u001b[0mprint\u001b[0m\u001b[1;33m(\u001b[0m\u001b[0mA\u001b[0m\u001b[1;33m.\u001b[0m\u001b[0mmean\u001b[0m\u001b[1;33m(\u001b[0m\u001b[1;33m)\u001b[0m\u001b[1;33m,\u001b[0m\u001b[0mB\u001b[0m\u001b[1;33m.\u001b[0m\u001b[0mmean\u001b[0m\u001b[1;33m(\u001b[0m\u001b[1;33m)\u001b[0m\u001b[1;33m)\u001b[0m   \u001b[1;31m#골라서쓰면됌\u001b[0m\u001b[1;33m\u001b[0m\u001b[1;33m\u001b[0m\u001b[0m\n\u001b[0m\u001b[0;32m      4\u001b[0m \u001b[0mprint\u001b[0m\u001b[1;33m(\u001b[0m\u001b[0mnp\u001b[0m\u001b[1;33m.\u001b[0m\u001b[0mmean\u001b[0m\u001b[1;33m(\u001b[0m\u001b[0mA\u001b[0m\u001b[1;33m)\u001b[0m\u001b[1;33m,\u001b[0m\u001b[0mnp\u001b[0m\u001b[1;33m.\u001b[0m\u001b[0mmean\u001b[0m\u001b[1;33m(\u001b[0m\u001b[0mB\u001b[0m\u001b[1;33m)\u001b[0m\u001b[1;33m)\u001b[0m\u001b[1;33m\u001b[0m\u001b[1;33m\u001b[0m\u001b[0m\n",
      "\u001b[1;32mC:\\ProgramData\\Anaconda3\\envs\\mp\\lib\\site-packages\\numpy\\core\\_methods.py\u001b[0m in \u001b[0;36m_mean\u001b[1;34m(a, axis, dtype, out, keepdims)\u001b[0m\n\u001b[0;32m     85\u001b[0m             \u001b[0mret\u001b[0m \u001b[1;33m=\u001b[0m \u001b[0mret\u001b[0m\u001b[1;33m.\u001b[0m\u001b[0mdtype\u001b[0m\u001b[1;33m.\u001b[0m\u001b[0mtype\u001b[0m\u001b[1;33m(\u001b[0m\u001b[0mret\u001b[0m \u001b[1;33m/\u001b[0m \u001b[0mrcount\u001b[0m\u001b[1;33m)\u001b[0m\u001b[1;33m\u001b[0m\u001b[1;33m\u001b[0m\u001b[0m\n\u001b[0;32m     86\u001b[0m     \u001b[1;32melse\u001b[0m\u001b[1;33m:\u001b[0m\u001b[1;33m\u001b[0m\u001b[1;33m\u001b[0m\u001b[0m\n\u001b[1;32m---> 87\u001b[1;33m         \u001b[0mret\u001b[0m \u001b[1;33m=\u001b[0m \u001b[0mret\u001b[0m \u001b[1;33m/\u001b[0m \u001b[0mrcount\u001b[0m\u001b[1;33m\u001b[0m\u001b[1;33m\u001b[0m\u001b[0m\n\u001b[0m\u001b[0;32m     88\u001b[0m \u001b[1;33m\u001b[0m\u001b[0m\n\u001b[0;32m     89\u001b[0m     \u001b[1;32mreturn\u001b[0m \u001b[0mret\u001b[0m\u001b[1;33m\u001b[0m\u001b[1;33m\u001b[0m\u001b[0m\n",
      "\u001b[1;31mTypeError\u001b[0m: unsupported operand type(s) for /: 'list' and 'int'"
     ]
    }
   ],
   "source": [
    "A=np.array([[2,5,3],[5,3,11],[4,2,5],[3,4,2]])\n",
    "B=np.array([[3,4,5],[6,5]])\n",
    "print(A.mean(),B.mean())   #골라서쓰면됌\n",
    "print(np.mean(A),np.mean(B))\n"
   ]
  },
  {
   "cell_type": "code",
   "execution_count": 285,
   "metadata": {},
   "outputs": [
    {
     "name": "stdout",
     "output_type": "stream",
     "text": [
      "[[3.  3.5 4. ]\n",
      " [4.  3.5 6.5]]\n"
     ]
    }
   ],
   "source": [
    "A=np.array([[[2,5,3],[5,3,11]],[[4,2,5],[3,4,2]]])\n",
    "A.mean(),np.mean(A)\n",
    "print(A.mean(axis=0))   #(층=0, 행=1, 열=2)"
   ]
  },
  {
   "cell_type": "code",
   "execution_count": 274,
   "metadata": {},
   "outputs": [
    {
     "name": "stdout",
     "output_type": "stream",
     "text": [
      "[False False False False False False False  True  True]\n"
     ]
    },
    {
     "data": {
      "text/plain": [
       "2"
      ]
     },
     "execution_count": 274,
     "metadata": {},
     "output_type": "execute_result"
    }
   ],
   "source": [
    "B=np.array([2,3,4,5,2,3,2,11,231])\n",
    "print(B>10)\n",
    "(B>10).sum()    #True=1, False=0"
   ]
  },
  {
   "cell_type": "code",
   "execution_count": 278,
   "metadata": {},
   "outputs": [
    {
     "name": "stdout",
     "output_type": "stream",
     "text": [
      "False True\n"
     ]
    }
   ],
   "source": [
    "print((B>10).all(),(B>=10).any())"
   ]
  },
  {
   "cell_type": "code",
   "execution_count": 279,
   "metadata": {},
   "outputs": [
    {
     "data": {
      "text/plain": [
       "array([  2,   2,   2,   3,   3,   4,   5,  11, 231])"
      ]
     },
     "execution_count": 279,
     "metadata": {},
     "output_type": "execute_result"
    }
   ],
   "source": [
    "np.sort(B)"
   ]
  },
  {
   "cell_type": "code",
   "execution_count": 286,
   "metadata": {},
   "outputs": [
    {
     "name": "stdout",
     "output_type": "stream",
     "text": [
      "[[[ 2  5  3]\n",
      "  [ 5  3 11]]\n",
      "\n",
      " [[ 4  2  5]\n",
      "  [ 3  4  2]]] \n",
      "\n",
      "\n",
      "\n",
      "\n",
      "\n",
      "[[[ 2  2  3]\n",
      "  [ 3  3  2]]\n",
      "\n",
      " [[ 4  5  5]\n",
      "  [ 5  4 11]]]\n"
     ]
    }
   ],
   "source": [
    "print(A,'\\n\\n\\n\\n\\n')\n",
    "A.sort(axis=0)\n",
    "print(A)"
   ]
  },
  {
   "cell_type": "code",
   "execution_count": 289,
   "metadata": {},
   "outputs": [],
   "source": [
    "np.save('qweqwe.npy',A)  #npy 파일로 저장"
   ]
  },
  {
   "cell_type": "code",
   "execution_count": 290,
   "metadata": {},
   "outputs": [],
   "source": [
    "q=np.load('qweqwe.npy')  #저장한파일 불러오기"
   ]
  },
  {
   "cell_type": "code",
   "execution_count": 291,
   "metadata": {},
   "outputs": [
    {
     "data": {
      "text/plain": [
       "array([[[ 2,  2,  3],\n",
       "        [ 3,  3,  2]],\n",
       "\n",
       "       [[ 4,  5,  5],\n",
       "        [ 5,  4, 11]]])"
      ]
     },
     "execution_count": 291,
     "metadata": {},
     "output_type": "execute_result"
    }
   ],
   "source": [
    "q"
   ]
  },
  {
   "cell_type": "code",
   "execution_count": 295,
   "metadata": {},
   "outputs": [],
   "source": [
    "np.savez('qqqq.npz',A2d=A,B1d=B)   #압축해서 키워드로 저장"
   ]
  },
  {
   "cell_type": "code",
   "execution_count": 296,
   "metadata": {},
   "outputs": [],
   "source": [
    "load_A=np.load('qqqq.npz')"
   ]
  },
  {
   "cell_type": "code",
   "execution_count": 298,
   "metadata": {},
   "outputs": [
    {
     "data": {
      "text/plain": [
       "<numpy.lib.npyio.NpzFile at 0x245a5ac2b38>"
      ]
     },
     "execution_count": 298,
     "metadata": {},
     "output_type": "execute_result"
    }
   ],
   "source": [
    "load_A #압축해서 저장한거라 이렇게나옴=키워드 입력해줘야한다"
   ]
  },
  {
   "cell_type": "code",
   "execution_count": 300,
   "metadata": {},
   "outputs": [
    {
     "data": {
      "text/plain": [
       "array([[[ 2,  2,  3],\n",
       "        [ 3,  3,  2]],\n",
       "\n",
       "       [[ 4,  5,  5],\n",
       "        [ 5,  4, 11]]])"
      ]
     },
     "execution_count": 300,
     "metadata": {},
     "output_type": "execute_result"
    }
   ],
   "source": [
    "load_A['A2d']"
   ]
  },
  {
   "cell_type": "code",
   "execution_count": 2,
   "metadata": {},
   "outputs": [],
   "source": [
    "a=np.loadtxt('steel.txt',skiprows=5,delimiter='\\t',usecols=(0,2))   #usecols=해당열만 가져오겠다"
   ]
  },
  {
   "cell_type": "code",
   "execution_count": 305,
   "metadata": {},
   "outputs": [
    {
     "data": {
      "text/plain": [
       "array([[ 81.4,  57. ],\n",
       "       [122.2,  61. ],\n",
       "       [101.7,  60. ],\n",
       "       [175.6,  62. ],\n",
       "       [150.3,  61. ],\n",
       "       [ 64.8,  54. ],\n",
       "       [ 92.1,  58. ],\n",
       "       [113.8,  61. ]])"
      ]
     },
     "execution_count": 305,
     "metadata": {},
     "output_type": "execute_result"
    }
   ],
   "source": [
    "a"
   ]
  },
  {
   "cell_type": "code",
   "execution_count": 308,
   "metadata": {},
   "outputs": [],
   "source": [
    "A=np.arange(8).reshape(4,2)\n",
    "B=np.array([[3,5,7,2],[4,3,6,2]])\n",
    "C=np.array([[2,3,4,5],[1,12,32,65],[23,4,2,1],[2,2,3,1]])"
   ]
  },
  {
   "cell_type": "code",
   "execution_count": 309,
   "metadata": {},
   "outputs": [
    {
     "name": "stdout",
     "output_type": "stream",
     "text": [
      "[[50 67]\n",
      " [42 57]]\n"
     ]
    }
   ],
   "source": [
    "print(np.dot(B,A))  # 행렬곱"
   ]
  },
  {
   "cell_type": "code",
   "execution_count": 312,
   "metadata": {},
   "outputs": [
    {
     "data": {
      "text/plain": [
       "array([ 2, 12,  2,  1])"
      ]
     },
     "execution_count": 312,
     "metadata": {},
     "output_type": "execute_result"
    }
   ],
   "source": [
    "np.diag(C)  #대각성분, 대각성분합=trace"
   ]
  },
  {
   "cell_type": "code",
   "execution_count": 316,
   "metadata": {},
   "outputs": [
    {
     "ename": "AttributeError",
     "evalue": "'numpy.ndarray' object has no attribute 'np'",
     "output_type": "error",
     "traceback": [
      "\u001b[1;31m---------------------------------------------------------------------------\u001b[0m",
      "\u001b[1;31mAttributeError\u001b[0m                            Traceback (most recent call last)",
      "\u001b[1;32m<ipython-input-316-db651e6c397c>\u001b[0m in \u001b[0;36m<module>\u001b[1;34m\u001b[0m\n\u001b[1;32m----> 1\u001b[1;33m \u001b[0mnp\u001b[0m\u001b[1;33m.\u001b[0m\u001b[0mrint\u001b[0m\u001b[1;33m(\u001b[0m\u001b[0mnp\u001b[0m\u001b[1;33m.\u001b[0m\u001b[0mdot\u001b[0m\u001b[1;33m(\u001b[0m\u001b[0mC\u001b[0m\u001b[1;33m.\u001b[0m\u001b[0mnp\u001b[0m\u001b[1;33m.\u001b[0m\u001b[0mlialg\u001b[0m\u001b[1;33m.\u001b[0m\u001b[0minv\u001b[0m\u001b[1;33m(\u001b[0m\u001b[0mC\u001b[0m\u001b[1;33m)\u001b[0m\u001b[1;33m)\u001b[0m\u001b[1;33m)\u001b[0m\u001b[1;33m\u001b[0m\u001b[1;33m\u001b[0m\u001b[0m\n\u001b[0m",
      "\u001b[1;31mAttributeError\u001b[0m: 'numpy.ndarray' object has no attribute 'np'"
     ]
    }
   ],
   "source": [
    "np.rint(np.dot(C.np.lialg.inv(C)))"
   ]
  },
  {
   "cell_type": "code",
   "execution_count": 4,
   "metadata": {},
   "outputs": [],
   "source": [
    "steel=np.loadtxt('steel.txt',skiprows=5,delimiter='\\t')"
   ]
  },
  {
   "cell_type": "code",
   "execution_count": 5,
   "metadata": {},
   "outputs": [
    {
     "data": {
      "text/plain": [
       "array([[ 81.4, 195. ,  57. ],\n",
       "       [122.2, 179. ,  61. ],\n",
       "       [101.7, 205. ,  60. ],\n",
       "       [175.6, 204. ,  62. ],\n",
       "       [150.3, 201. ,  61. ],\n",
       "       [ 64.8, 184. ,  54. ],\n",
       "       [ 92.1, 210. ,  58. ],\n",
       "       [113.8, 209. ,  61. ]])"
      ]
     },
     "execution_count": 5,
     "metadata": {},
     "output_type": "execute_result"
    }
   ],
   "source": [
    "steel  # 종속변수(Y) 독립변수1(X1) 독립변수2(X2)"
   ]
  },
  {
   "cell_type": "code",
   "execution_count": 12,
   "metadata": {},
   "outputs": [
    {
     "name": "stdout",
     "output_type": "stream",
     "text": [
      "[[ 81.4 195.   57. ]\n",
      " [122.2 179.   61. ]\n",
      " [101.7 205.   60. ]\n",
      " [175.6 204.   62. ]\n",
      " [150.3 201.   61. ]\n",
      " [ 64.8 184.   54. ]\n",
      " [ 92.1 210.   58. ]\n",
      " [113.8 209.   61. ]] \n",
      "\n",
      "\n",
      " [[  1. 195.  57.]\n",
      " [  1. 179.  61.]\n",
      " [  1. 205.  60.]\n",
      " [  1. 204.  62.]\n",
      " [  1. 201.  61.]\n",
      " [  1. 184.  54.]\n",
      " [  1. 210.  58.]\n",
      " [  1. 209.  61.]] \n",
      "\n",
      "\n",
      "\n",
      " [ 81.4 122.2 101.7 175.6 150.3  64.8  92.1 113.8]\n"
     ]
    },
    {
     "name": "stderr",
     "output_type": "stream",
     "text": [
      "C:\\ProgramData\\Anaconda3\\envs\\mp\\lib\\site-packages\\ipykernel_launcher.py:4: FutureWarning: `rcond` parameter will change to the default of machine precision times ``max(M, N)`` where M and N are the input matrix dimensions.\n",
      "To use the future default and silence this warning we advise to pass `rcond=None`, to keep using the old, explicitly pass `rcond=-1`.\n",
      "  after removing the cwd from sys.path.\n"
     ]
    }
   ],
   "source": [
    "Y=steel[:,0].copy()\n",
    "X=steel.copy()\n",
    "X[:,0]=1\n",
    "b=np.linalg.lstsq(X,Y)[0]\n",
    "print(steel,'\\n\\n\\n',X,'\\n\\n\\n\\n',Y)\n",
    "\n"
   ]
  },
  {
   "cell_type": "code",
   "execution_count": 13,
   "metadata": {},
   "outputs": [
    {
     "name": "stdout",
     "output_type": "stream",
     "text": [
      "[-554.31122321  -35.94792132  711.59956219]\n"
     ]
    }
   ],
   "source": [
    "print(b*new_x)\n",
    "\n"
   ]
  },
  {
   "cell_type": "code",
   "execution_count": 326,
   "metadata": {},
   "outputs": [
    {
     "data": {
      "text/plain": [
       "array([ 81.4, 122.2, 101.7, 175.6, 150.3,  64.8,  92.1, 113.8])"
      ]
     },
     "execution_count": 326,
     "metadata": {},
     "output_type": "execute_result"
    }
   ],
   "source": [
    "Y"
   ]
  },
  {
   "cell_type": "code",
   "execution_count": 334,
   "metadata": {},
   "outputs": [
    {
     "name": "stderr",
     "output_type": "stream",
     "text": [
      "C:\\ProgramData\\Anaconda3\\envs\\mp\\lib\\site-packages\\ipykernel_launcher.py:1: FutureWarning: `rcond` parameter will change to the default of machine precision times ``max(M, N)`` where M and N are the input matrix dimensions.\n",
      "To use the future default and silence this warning we advise to pass `rcond=None`, to keep using the old, explicitly pass `rcond=-1`.\n",
      "  \"\"\"Entry point for launching an IPython kernel.\n"
     ]
    },
    {
     "data": {
      "text/plain": [
       "(array([-5.54311223e+02, -1.79739607e-01,  1.18599927e+01]),\n",
       " array([2340.88393765]),\n",
       " 3,\n",
       " array([5.86352311e+02, 8.94176555e+00, 1.09839713e-01]))"
      ]
     },
     "execution_count": 334,
     "metadata": {},
     "output_type": "execute_result"
    }
   ],
   "source": [
    "np.linalg.lstsq(X,Y)  #회귀변수 추정량"
   ]
  },
  {
   "cell_type": "code",
   "execution_count": 8,
   "metadata": {},
   "outputs": [
    {
     "name": "stdout",
     "output_type": "stream",
     "text": [
      "(array([-5.54311223e+02, -1.79739607e-01,  1.18599927e+01]), array([2340.88393765]), 3, array([5.86352311e+02, 8.94176555e+00, 1.09839713e-01]))\n"
     ]
    },
    {
     "name": "stderr",
     "output_type": "stream",
     "text": [
      "C:\\ProgramData\\Anaconda3\\envs\\mp\\lib\\site-packages\\ipykernel_launcher.py:1: FutureWarning: `rcond` parameter will change to the default of machine precision times ``max(M, N)`` where M and N are the input matrix dimensions.\n",
      "To use the future default and silence this warning we advise to pass `rcond=None`, to keep using the old, explicitly pass `rcond=-1`.\n",
      "  \"\"\"Entry point for launching an IPython kernel.\n"
     ]
    }
   ],
   "source": [
    "print(np.linalg.lstsq(X,Y))   #회귀계수 , 오차제곱합, 고유값"
   ]
  },
  {
   "cell_type": "code",
   "execution_count": 10,
   "metadata": {},
   "outputs": [],
   "source": [
    "new_x=np.array([1,200,60])  #온도가 200이고 압력이 60일때"
   ]
  },
  {
   "cell_type": "code",
   "execution_count": 11,
   "metadata": {},
   "outputs": [
    {
     "ename": "NameError",
     "evalue": "name 'b' is not defined",
     "output_type": "error",
     "traceback": [
      "\u001b[1;31m---------------------------------------------------------------------------\u001b[0m",
      "\u001b[1;31mNameError\u001b[0m                                 Traceback (most recent call last)",
      "\u001b[1;32m<ipython-input-11-99de49f64c0c>\u001b[0m in \u001b[0;36m<module>\u001b[1;34m\u001b[0m\n\u001b[1;32m----> 1\u001b[1;33m \u001b[0mprint\u001b[0m\u001b[1;33m(\u001b[0m\u001b[0mb\u001b[0m\u001b[1;33m,\u001b[0m\u001b[0mnew_x\u001b[0m\u001b[1;33m)\u001b[0m\u001b[1;33m\u001b[0m\u001b[1;33m\u001b[0m\u001b[0m\n\u001b[0m",
      "\u001b[1;31mNameError\u001b[0m: name 'b' is not defined"
     ]
    }
   ],
   "source": [
    "print(b,new_x)"
   ]
  },
  {
   "cell_type": "code",
   "execution_count": null,
   "metadata": {},
   "outputs": [],
   "source": []
  },
  {
   "cell_type": "code",
   "execution_count": null,
   "metadata": {},
   "outputs": [],
   "source": []
  },
  {
   "cell_type": "code",
   "execution_count": null,
   "metadata": {},
   "outputs": [],
   "source": []
  },
  {
   "cell_type": "code",
   "execution_count": null,
   "metadata": {},
   "outputs": [],
   "source": []
  },
  {
   "cell_type": "markdown",
   "metadata": {},
   "source": [
    "* 난수"
   ]
  },
  {
   "cell_type": "code",
   "execution_count": 15,
   "metadata": {},
   "outputs": [],
   "source": [
    "norm_sample1=np.random.randn(20)\n",
    "norm_sample2=np.random.normal(size=20)"
   ]
  },
  {
   "cell_type": "code",
   "execution_count": null,
   "metadata": {},
   "outputs": [],
   "source": []
  },
  {
   "cell_type": "code",
   "execution_count": null,
   "metadata": {},
   "outputs": [],
   "source": []
  },
  {
   "cell_type": "code",
   "execution_count": null,
   "metadata": {},
   "outputs": [],
   "source": []
  },
  {
   "cell_type": "markdown",
   "metadata": {},
   "source": [
    "넘파이 어레이는 같은자료만저장가능 "
   ]
  },
  {
   "cell_type": "code",
   "execution_count": 38,
   "metadata": {},
   "outputs": [
    {
     "data": {
      "text/plain": [
       "array(['3', '2', '11'], dtype='<U11')"
      ]
     },
     "execution_count": 38,
     "metadata": {},
     "output_type": "execute_result"
    }
   ],
   "source": [
    "np.array([3,2,'11'])   # 다른형태로저장해도 같은형태로 바꿔서 뱉어냄  ==> 판다스로 자료다룸"
   ]
  },
  {
   "cell_type": "code",
   "execution_count": null,
   "metadata": {},
   "outputs": [],
   "source": []
  }
 ],
 "metadata": {
  "kernelspec": {
   "display_name": "MP",
   "language": "python",
   "name": "mp"
  },
  "language_info": {
   "codemirror_mode": {
    "name": "ipython",
    "version": 3
   },
   "file_extension": ".py",
   "mimetype": "text/x-python",
   "name": "python",
   "nbconvert_exporter": "python",
   "pygments_lexer": "ipython3",
   "version": "3.6.8"
  },
  "widgets": {
   "state": {},
   "version": "1.1.2"
  }
 },
 "nbformat": 4,
 "nbformat_minor": 2
}
