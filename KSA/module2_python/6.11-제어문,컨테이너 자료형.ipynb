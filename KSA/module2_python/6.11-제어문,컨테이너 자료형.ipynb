{
 "cells": [
  {
   "cell_type": "code",
   "execution_count": 2,
   "metadata": {},
   "outputs": [
    {
     "name": "stdout",
     "output_type": "stream",
     "text": [
      "감사합니다\n"
     ]
    }
   ],
   "source": [
    "a=75\n",
    "if(a>=80):\n",
    "    print('합격')\n",
    "print('감사합니다')"
   ]
  },
  {
   "cell_type": "code",
   "execution_count": 5,
   "metadata": {},
   "outputs": [
    {
     "name": "stdout",
     "output_type": "stream",
     "text": [
      "합격\n",
      "점쉬85\n",
      "감사합니다\n"
     ]
    }
   ],
   "source": [
    "a=85\n",
    "if(a>=80):\n",
    "    print('합격')\n",
    "    print('점쉬{0}'.format(a))\n",
    "print('감사합니다')"
   ]
  },
  {
   "cell_type": "code",
   "execution_count": 7,
   "metadata": {},
   "outputs": [
    {
     "name": "stdout",
     "output_type": "stream",
     "text": [
      "불합격\n",
      "점수:55\n",
      "감사합니다\n"
     ]
    }
   ],
   "source": [
    "a=55\n",
    "\n",
    "\n",
    "if(a>=80):\n",
    "    print('합격')\n",
    "    print('점쉬{0}'.format(a))\n",
    "else:\n",
    "    print('불합격')\n",
    "    print('점수:{}'.format(a))\n",
    "print('감사합니다')"
   ]
  },
  {
   "cell_type": "code",
   "execution_count": 10,
   "metadata": {},
   "outputs": [
    {
     "name": "stdout",
     "output_type": "stream",
     "text": [
      "점쉬65\n",
      "재시험\n",
      "감사합니다\n"
     ]
    }
   ],
   "source": [
    "a=65\n",
    "\n",
    "\n",
    "if(a>=80):\n",
    "    print('합격')\n",
    "    print('점쉬{0}'.format(a))\n",
    "\n",
    "elif(a>=60):\n",
    "    print('점쉬{0}'.format(a))\n",
    "    print('재시험')\n",
    "    \n",
    "else:\n",
    "    print('불합격')\n",
    "    print('점수:{}'.format(a))\n",
    "print('감사합니다')"
   ]
  },
  {
   "cell_type": "markdown",
   "metadata": {},
   "source": [
    "-a: 단항연산자\n",
    "\n",
    "b+a;  이항연산자\n",
    "\n",
    "\n",
    "res='합격' if(a>80) else '재시험' if (a>60) else '불합격'  : 삼항연산자"
   ]
  },
  {
   "cell_type": "code",
   "execution_count": 11,
   "metadata": {},
   "outputs": [],
   "source": [
    "res='합격' if(a>80) else ('재시험' if (a>60) else '불합격')\n"
   ]
  },
  {
   "cell_type": "code",
   "execution_count": 12,
   "metadata": {},
   "outputs": [
    {
     "data": {
      "text/plain": [
       "'재시험'"
      ]
     },
     "execution_count": 12,
     "metadata": {},
     "output_type": "execute_result"
    }
   ],
   "source": [
    "res\n"
   ]
  },
  {
   "cell_type": "code",
   "execution_count": null,
   "metadata": {},
   "outputs": [],
   "source": []
  },
  {
   "cell_type": "code",
   "execution_count": null,
   "metadata": {},
   "outputs": [],
   "source": []
  },
  {
   "cell_type": "code",
   "execution_count": null,
   "metadata": {},
   "outputs": [],
   "source": []
  },
  {
   "cell_type": "code",
   "execution_count": null,
   "metadata": {},
   "outputs": [],
   "source": []
  },
  {
   "cell_type": "code",
   "execution_count": null,
   "metadata": {},
   "outputs": [],
   "source": []
  },
  {
   "cell_type": "code",
   "execution_count": 14,
   "metadata": {},
   "outputs": [
    {
     "data": {
      "text/plain": [
       "'재시험'"
      ]
     },
     "execution_count": 14,
     "metadata": {},
     "output_type": "execute_result"
    }
   ],
   "source": [
    "res"
   ]
  },
  {
   "cell_type": "code",
   "execution_count": 15,
   "metadata": {},
   "outputs": [
    {
     "name": "stdout",
     "output_type": "stream",
     "text": [
      "0\n",
      "1\n",
      "2\n",
      "3\n"
     ]
    }
   ],
   "source": [
    "for i in range(4):\n",
    "    print(i)"
   ]
  },
  {
   "cell_type": "code",
   "execution_count": 17,
   "metadata": {},
   "outputs": [
    {
     "data": {
      "text/plain": [
       "[0, 1, 2, 3, 4, 5, 6, 7, 8, 9]"
      ]
     },
     "execution_count": 17,
     "metadata": {},
     "output_type": "execute_result"
    }
   ],
   "source": [
    "list(range(10))"
   ]
  },
  {
   "cell_type": "code",
   "execution_count": 20,
   "metadata": {},
   "outputs": [
    {
     "name": "stdout",
     "output_type": "stream",
     "text": [
      "34\n"
     ]
    }
   ],
   "source": [
    "k=0\n",
    "for i in [3,2,5,3,7,6,7,1]:\n",
    "    k+=i\n",
    "\n",
    "print(k)"
   ]
  },
  {
   "cell_type": "code",
   "execution_count": 25,
   "metadata": {},
   "outputs": [
    {
     "name": "stdout",
     "output_type": "stream",
     "text": [
      "5050\n"
     ]
    }
   ],
   "source": [
    "csum=0\n",
    "i=1\n",
    "while(i<101):\n",
    "    csum+=i\n",
    "    i+=1\n",
    "print(csum)"
   ]
  },
  {
   "cell_type": "code",
   "execution_count": 28,
   "metadata": {},
   "outputs": [
    {
     "name": "stdout",
     "output_type": "stream",
     "text": [
      "첫번쨰숫자:1\n",
      "두번쨰숫자:2\n",
      "1+2=3\n",
      "첫번쨰숫자:0\n",
      "두번쨰숫자:0\n",
      "종료\n"
     ]
    }
   ],
   "source": [
    "for i in range(3):\n",
    "    a=int(input(\"첫번쨰숫자:\"))\n",
    "    b=int(input(\"두번쨰숫자:\"))\n",
    "\n",
    "    if a==0 and b==0:\n",
    "        break\n",
    "    print(\"{0}+{1}={2}\".format(a,b,a+b))\n",
    "print('종료')"
   ]
  },
  {
   "cell_type": "code",
   "execution_count": 29,
   "metadata": {},
   "outputs": [
    {
     "name": "stdout",
     "output_type": "stream",
     "text": [
      "첫번쨰숫자:0\n",
      "두번쨰숫자:0\n",
      "첫번쨰숫자:2\n",
      "두번쨰숫자:2\n",
      "2+2=4\n",
      "첫번쨰숫자:2\n",
      "두번쨰숫자:2\n",
      "2+2=4\n",
      "종료\n"
     ]
    }
   ],
   "source": [
    "for i in range(3):\n",
    "    a=int(input(\"첫번쨰숫자:\"))\n",
    "    b=int(input(\"두번쨰숫자:\"))\n",
    "\n",
    "    if a==0 and b==0:\n",
    "        continue\n",
    "    print(\"{0}+{1}={2}\".format(a,b,a+b))\n",
    "print('종료')"
   ]
  },
  {
   "cell_type": "code",
   "execution_count": 1,
   "metadata": {},
   "outputs": [
    {
     "name": "stdout",
     "output_type": "stream",
     "text": [
      "첫번쨰숫자:1\n",
      "두번쨰숫자:2\n",
      "1+2=3\n",
      "두번쨰숫자:3\n",
      "1+3=4\n",
      "첫번쨰숫자:0\n",
      "두번쨰숫자:0\n",
      "두번쨰숫자:0\n",
      "첫번쨰숫자:0\n",
      "두번쨰숫자:0\n",
      "두번쨰숫자:0\n",
      "종료\n"
     ]
    }
   ],
   "source": [
    "for i in range(3):\n",
    "    a=int(input(\"첫번쨰숫자:\"))\n",
    "    for j in range(2):\n",
    "        b=int(input(\"두번쨰숫자:\"))\n",
    "        if a==0 and b==0:\n",
    "            continue\n",
    "        print(\"{0}+{1}={2}\".format(a,b,a+b))\n",
    "print('종료')"
   ]
  },
  {
   "cell_type": "code",
   "execution_count": null,
   "metadata": {},
   "outputs": [],
   "source": [
    "for i in range(3):\n",
    "    a=int(input(\"첫번쨰숫자:\"))\n",
    "    for j in range(2):\n",
    "        b=int(input(\"두번쨰숫자:\"))\n",
    "        if a==0 and b==0:              #자기가속한 루프문만 break한다.\n",
    "            break\n",
    "        print(\"{0}+{1}={2}\".format(a,b,a+b))\n",
    "print('종료')"
   ]
  },
  {
   "cell_type": "markdown",
   "metadata": {},
   "source": [
    "# 컨테이너 자료형"
   ]
  },
  {
   "cell_type": "code",
   "execution_count": 2,
   "metadata": {},
   "outputs": [],
   "source": [
    "aa=(1,2,3,4)"
   ]
  },
  {
   "cell_type": "code",
   "execution_count": 3,
   "metadata": {},
   "outputs": [],
   "source": [
    "bb=list(aa)"
   ]
  },
  {
   "cell_type": "code",
   "execution_count": 4,
   "metadata": {},
   "outputs": [
    {
     "data": {
      "text/plain": [
       "[1, 2, 3, 4]"
      ]
     },
     "execution_count": 4,
     "metadata": {},
     "output_type": "execute_result"
    }
   ],
   "source": [
    "bb"
   ]
  },
  {
   "cell_type": "code",
   "execution_count": 8,
   "metadata": {},
   "outputs": [],
   "source": [
    "ww={2,3,4,5} #집합(set)도 이터러블 자료형"
   ]
  },
  {
   "cell_type": "code",
   "execution_count": 6,
   "metadata": {},
   "outputs": [],
   "source": [
    "bb=list(ww)"
   ]
  },
  {
   "cell_type": "code",
   "execution_count": 7,
   "metadata": {},
   "outputs": [
    {
     "data": {
      "text/plain": [
       "[2, 3, 4, 5]"
      ]
     },
     "execution_count": 7,
     "metadata": {},
     "output_type": "execute_result"
    }
   ],
   "source": [
    "bb"
   ]
  },
  {
   "cell_type": "code",
   "execution_count": 19,
   "metadata": {},
   "outputs": [],
   "source": [
    "aa=reversed(['q','e','r',',w'])"
   ]
  },
  {
   "cell_type": "code",
   "execution_count": 13,
   "metadata": {},
   "outputs": [
    {
     "data": {
      "text/plain": [
       "<list_reverseiterator at 0x16f35e1ac88>"
      ]
     },
     "execution_count": 13,
     "metadata": {},
     "output_type": "execute_result"
    }
   ],
   "source": [
    "aa   #이터레이터 자료형은 넥스트로 하나씩뽑아줄수있다\n"
   ]
  },
  {
   "cell_type": "code",
   "execution_count": 18,
   "metadata": {},
   "outputs": [
    {
     "ename": "StopIteration",
     "evalue": "",
     "output_type": "error",
     "traceback": [
      "\u001b[1;31m---------------------------------------------------------------------------\u001b[0m",
      "\u001b[1;31mStopIteration\u001b[0m                             Traceback (most recent call last)",
      "\u001b[1;32m<ipython-input-18-4e14a8ea1ec1>\u001b[0m in \u001b[0;36m<module>\u001b[1;34m\u001b[0m\n\u001b[1;32m----> 1\u001b[1;33m \u001b[0mnext\u001b[0m\u001b[1;33m(\u001b[0m\u001b[0maa\u001b[0m\u001b[1;33m)\u001b[0m\u001b[1;33m\u001b[0m\u001b[1;33m\u001b[0m\u001b[0m\n\u001b[0m",
      "\u001b[1;31mStopIteration\u001b[0m: "
     ]
    }
   ],
   "source": [
    "next(aa)  #전부 뽑아쓰면 에러남"
   ]
  },
  {
   "cell_type": "code",
   "execution_count": 31,
   "metadata": {},
   "outputs": [],
   "source": [
    "w=iter(bb)"
   ]
  },
  {
   "cell_type": "code",
   "execution_count": 36,
   "metadata": {},
   "outputs": [
    {
     "ename": "StopIteration",
     "evalue": "",
     "output_type": "error",
     "traceback": [
      "\u001b[1;31m---------------------------------------------------------------------------\u001b[0m",
      "\u001b[1;31mStopIteration\u001b[0m                             Traceback (most recent call last)",
      "\u001b[1;32m<ipython-input-36-1417836c9f84>\u001b[0m in \u001b[0;36m<module>\u001b[1;34m\u001b[0m\n\u001b[1;32m----> 1\u001b[1;33m \u001b[0mnext\u001b[0m\u001b[1;33m(\u001b[0m\u001b[0mw\u001b[0m\u001b[1;33m)\u001b[0m\u001b[1;33m\u001b[0m\u001b[1;33m\u001b[0m\u001b[0m\n\u001b[0m",
      "\u001b[1;31mStopIteration\u001b[0m: "
     ]
    }
   ],
   "source": [
    "next(w)"
   ]
  },
  {
   "cell_type": "markdown",
   "metadata": {},
   "source": [
    "* mutable"
   ]
  },
  {
   "cell_type": "code",
   "execution_count": 43,
   "metadata": {},
   "outputs": [
    {
     "name": "stdout",
     "output_type": "stream",
     "text": [
      "1577157992624\n",
      "1577157993136\n"
     ]
    }
   ],
   "source": [
    "a=24123\n",
    "print(id(a))\n",
    "a=1231\n",
    "print(id(a))   #아이디값이바뀐다- 똑같이생겼지만 다른객체"
   ]
  },
  {
   "cell_type": "code",
   "execution_count": 49,
   "metadata": {},
   "outputs": [
    {
     "name": "stdout",
     "output_type": "stream",
     "text": [
      "1577157992720\n",
      "1577157993072 1577157993104\n",
      "id(a)=1577156547528,lsobj=[3, 2, 5, 6, 4]\n"
     ]
    }
   ],
   "source": [
    "a=12313\n",
    "print(id(a))\n",
    "a=22222\n",
    "b=a\n",
    "a=21312313\n",
    "print(id(a),id(b))\n",
    "\n",
    "lsobj=[3,2,5,6,4]\n",
    "print('id(a)={},lsobj={}'.format(id(lsobj),lsobj))"
   ]
  },
  {
   "cell_type": "code",
   "execution_count": 57,
   "metadata": {},
   "outputs": [
    {
     "name": "stdout",
     "output_type": "stream",
     "text": [
      "id(a)=1577158026440,lsobj=[3, 2, 5, 6, 4]\n",
      "id(a)=1577158026440,lsobj=[3, 2, 5, 32222, 4]\n",
      "id(a)=1577158026440,lsobj=[3, 31222, 3221, 32222, 4]\n",
      "id(a)=1577158026440,lsobj=[3, 3221, 32222, 4]\n"
     ]
    },
    {
     "ename": "TypeError",
     "evalue": "can only assign an iterable",
     "output_type": "error",
     "traceback": [
      "\u001b[1;31m---------------------------------------------------------------------------\u001b[0m",
      "\u001b[1;31mTypeError\u001b[0m                                 Traceback (most recent call last)",
      "\u001b[1;32m<ipython-input-57-c5e5c8a171a0>\u001b[0m in \u001b[0;36m<module>\u001b[1;34m\u001b[0m\n\u001b[0;32m     11\u001b[0m \u001b[0mprint\u001b[0m\u001b[1;33m(\u001b[0m\u001b[1;34m'id(a)={},lsobj={}'\u001b[0m\u001b[1;33m.\u001b[0m\u001b[0mformat\u001b[0m\u001b[1;33m(\u001b[0m\u001b[0mid\u001b[0m\u001b[1;33m(\u001b[0m\u001b[0mlsobj\u001b[0m\u001b[1;33m)\u001b[0m\u001b[1;33m,\u001b[0m\u001b[0mlsobj\u001b[0m\u001b[1;33m)\u001b[0m\u001b[1;33m)\u001b[0m\u001b[1;33m\u001b[0m\u001b[1;33m\u001b[0m\u001b[0m\n\u001b[0;32m     12\u001b[0m \u001b[1;33m\u001b[0m\u001b[0m\n\u001b[1;32m---> 13\u001b[1;33m \u001b[0mlsobj\u001b[0m\u001b[1;33m[\u001b[0m\u001b[1;36m1\u001b[0m\u001b[1;33m:\u001b[0m\u001b[1;36m3\u001b[0m\u001b[1;33m]\u001b[0m\u001b[1;33m=\u001b[0m\u001b[1;36m31222\u001b[0m  \u001b[1;31m#이터러블한자료로 덮어써야하는데 아니라서 오류남. 리스트형태로 넣어줘야됌\u001b[0m\u001b[1;33m\u001b[0m\u001b[1;33m\u001b[0m\u001b[0m\n\u001b[0m\u001b[0;32m     14\u001b[0m \u001b[0mprint\u001b[0m\u001b[1;33m(\u001b[0m\u001b[1;34m'id(a)={},lsobj={}'\u001b[0m\u001b[1;33m.\u001b[0m\u001b[0mformat\u001b[0m\u001b[1;33m(\u001b[0m\u001b[0mid\u001b[0m\u001b[1;33m(\u001b[0m\u001b[0mlsobj\u001b[0m\u001b[1;33m)\u001b[0m\u001b[1;33m,\u001b[0m\u001b[0mlsobj\u001b[0m\u001b[1;33m)\u001b[0m\u001b[1;33m)\u001b[0m\u001b[1;33m\u001b[0m\u001b[1;33m\u001b[0m\u001b[0m\n\u001b[0;32m     15\u001b[0m \u001b[1;33m\u001b[0m\u001b[0m\n",
      "\u001b[1;31mTypeError\u001b[0m: can only assign an iterable"
     ]
    }
   ],
   "source": [
    "\n",
    "lsobj=[3,2,5,6,4]\n",
    "print('id(a)={},lsobj={}'.format(id(lsobj),lsobj))\n",
    "lsobj[3]=32222\n",
    "print('id(a)={},lsobj={}'.format(id(lsobj),lsobj))  #값은바뀌었지만 아이디는안바뀜\n",
    "lsobj[1:3]=31222,3221\n",
    "print('id(a)={},lsobj={}'.format(id(lsobj),lsobj))\n",
    "\n",
    "\n",
    "lsobj[1:3]=[3221] # 1~3까지가 3221하나로 통합됌\n",
    "print('id(a)={},lsobj={}'.format(id(lsobj),lsobj))\n",
    "\n",
    "lsobj[1:3]=31222  #이터러블한자료로 덮어써야하는데 아니라서 오류남. 리스트형태로 넣어줘야됌\n",
    "print('id(a)={},lsobj={}'.format(id(lsobj),lsobj))\n",
    "\n"
   ]
  },
  {
   "cell_type": "code",
   "execution_count": 60,
   "metadata": {},
   "outputs": [
    {
     "data": {
      "text/plain": [
       "[3, 't', 'e', 4]"
      ]
     },
     "execution_count": 60,
     "metadata": {},
     "output_type": "execute_result"
    }
   ],
   "source": [
    "lsobj[1:3]='te'\n",
    "lsobj  #문자열넣으면 한글자씩 쪼개서 대체해줌"
   ]
  },
  {
   "cell_type": "code",
   "execution_count": 61,
   "metadata": {},
   "outputs": [
    {
     "data": {
      "text/plain": [
       "[3, 'k', 'i', 'm', 4]"
      ]
     },
     "execution_count": 61,
     "metadata": {},
     "output_type": "execute_result"
    }
   ],
   "source": [
    "lsobj[1:3]='kim'\n",
    "lsobj  #2자리에 3개넣을라하면 2개자리에 3개넣어줌"
   ]
  },
  {
   "cell_type": "code",
   "execution_count": 62,
   "metadata": {},
   "outputs": [
    {
     "data": {
      "text/plain": [
       "1577158026440"
      ]
     },
     "execution_count": 62,
     "metadata": {},
     "output_type": "execute_result"
    }
   ],
   "source": [
    "id(lsobj)"
   ]
  },
  {
   "cell_type": "code",
   "execution_count": 79,
   "metadata": {},
   "outputs": [
    {
     "data": {
      "text/plain": [
       "[1, 2, 3, 9, 8, 1]"
      ]
     },
     "execution_count": 79,
     "metadata": {},
     "output_type": "execute_result"
    }
   ],
   "source": [
    "lso1=[1,2,3]\n",
    "lso2=[9,8,1]\n",
    "\n",
    "lso1+lso2 #더하기는 리스트연결해줌\n"
   ]
  },
  {
   "cell_type": "code",
   "execution_count": 73,
   "metadata": {},
   "outputs": [
    {
     "data": {
      "text/plain": [
       "[9, 8, 1, 9, 8, 1]"
      ]
     },
     "execution_count": 73,
     "metadata": {},
     "output_type": "execute_result"
    }
   ],
   "source": [
    "lso2*2  #곱하기는 반복"
   ]
  },
  {
   "cell_type": "code",
   "execution_count": 80,
   "metadata": {},
   "outputs": [
    {
     "data": {
      "text/plain": [
       "[1, 2, 3, 9, 8, 1]"
      ]
     },
     "execution_count": 80,
     "metadata": {},
     "output_type": "execute_result"
    }
   ],
   "source": [
    "lso1+=lso2\n",
    "lso1"
   ]
  },
  {
   "cell_type": "code",
   "execution_count": 78,
   "metadata": {},
   "outputs": [
    {
     "data": {
      "text/plain": [
       "[8, 1]"
      ]
     },
     "execution_count": 78,
     "metadata": {},
     "output_type": "execute_result"
    }
   ],
   "source": [
    "del lso1[0]\n",
    "lso1"
   ]
  },
  {
   "cell_type": "code",
   "execution_count": null,
   "metadata": {},
   "outputs": [],
   "source": []
  },
  {
   "cell_type": "code",
   "execution_count": 83,
   "metadata": {},
   "outputs": [
    {
     "data": {
      "text/plain": [
       "[1, 8, 9, 3, 2, 1]"
      ]
     },
     "execution_count": 83,
     "metadata": {},
     "output_type": "execute_result"
    }
   ],
   "source": [
    "lso1[::-1] #순서뒤집기"
   ]
  },
  {
   "cell_type": "code",
   "execution_count": 84,
   "metadata": {},
   "outputs": [
    {
     "data": {
      "text/plain": [
       "['__add__',\n",
       " '__class__',\n",
       " '__contains__',\n",
       " '__delattr__',\n",
       " '__delitem__',\n",
       " '__dir__',\n",
       " '__doc__',\n",
       " '__eq__',\n",
       " '__format__',\n",
       " '__ge__',\n",
       " '__getattribute__',\n",
       " '__getitem__',\n",
       " '__gt__',\n",
       " '__hash__',\n",
       " '__iadd__',\n",
       " '__imul__',\n",
       " '__init__',\n",
       " '__init_subclass__',\n",
       " '__iter__',\n",
       " '__le__',\n",
       " '__len__',\n",
       " '__lt__',\n",
       " '__mul__',\n",
       " '__ne__',\n",
       " '__new__',\n",
       " '__reduce__',\n",
       " '__reduce_ex__',\n",
       " '__repr__',\n",
       " '__reversed__',\n",
       " '__rmul__',\n",
       " '__setattr__',\n",
       " '__setitem__',\n",
       " '__sizeof__',\n",
       " '__str__',\n",
       " '__subclasshook__',\n",
       " 'append',\n",
       " 'clear',\n",
       " 'copy',\n",
       " 'count',\n",
       " 'extend',\n",
       " 'index',\n",
       " 'insert',\n",
       " 'pop',\n",
       " 'remove',\n",
       " 'reverse',\n",
       " 'sort']"
      ]
     },
     "execution_count": 84,
     "metadata": {},
     "output_type": "execute_result"
    }
   ],
   "source": [
    "dir(list)"
   ]
  },
  {
   "cell_type": "code",
   "execution_count": 85,
   "metadata": {},
   "outputs": [
    {
     "data": {
      "text/plain": [
       "1"
      ]
     },
     "execution_count": 85,
     "metadata": {},
     "output_type": "execute_result"
    }
   ],
   "source": [
    "lso1.pop()"
   ]
  },
  {
   "cell_type": "code",
   "execution_count": 94,
   "metadata": {},
   "outputs": [],
   "source": [
    "lso1.extend([123])  #이터러블만넣을수있음\n",
    "lso1.append(1)      #그냥숫자써도됌\n",
    "         \n",
    "         \n",
    "         \n",
    "         \n",
    "\n"
   ]
  },
  {
   "cell_type": "code",
   "execution_count": 95,
   "metadata": {},
   "outputs": [
    {
     "data": {
      "text/plain": [
       "[1, 2, 3, 9, 8, 123, 123, 1, 123, 1]"
      ]
     },
     "execution_count": 95,
     "metadata": {},
     "output_type": "execute_result"
    }
   ],
   "source": [
    "lso1"
   ]
  },
  {
   "cell_type": "code",
   "execution_count": 98,
   "metadata": {},
   "outputs": [
    {
     "data": {
      "text/plain": [
       "123"
      ]
     },
     "execution_count": 98,
     "metadata": {},
     "output_type": "execute_result"
    }
   ],
   "source": [
    "lso1.pop()  #맨마지막원소 삭제하고 반환함"
   ]
  },
  {
   "cell_type": "code",
   "execution_count": 97,
   "metadata": {},
   "outputs": [
    {
     "data": {
      "text/plain": [
       "[1, 2, 3, 9, 8, 123, 123, 1, 123]"
      ]
     },
     "execution_count": 97,
     "metadata": {},
     "output_type": "execute_result"
    }
   ],
   "source": [
    "lso1"
   ]
  },
  {
   "cell_type": "code",
   "execution_count": 101,
   "metadata": {},
   "outputs": [],
   "source": [
    "lso2.clear()"
   ]
  },
  {
   "cell_type": "code",
   "execution_count": 102,
   "metadata": {},
   "outputs": [
    {
     "data": {
      "text/plain": [
       "[]"
      ]
     },
     "execution_count": 102,
     "metadata": {},
     "output_type": "execute_result"
    }
   ],
   "source": [
    "lso2"
   ]
  },
  {
   "cell_type": "code",
   "execution_count": 107,
   "metadata": {},
   "outputs": [
    {
     "name": "stdout",
     "output_type": "stream",
     "text": [
      "id(a)=1577156548104, id(b)=\n",
      "a=[4, 6, 7, 5, 8],b=[4, 6, 7, 5, 8]\n",
      "id(a)=1577156548104, id(b)=1577156548104\n",
      "a=[4, 6, 10000, 5, 8],b=[4, 6, 10000, 5, 8]\n"
     ]
    }
   ],
   "source": [
    "a=[4,6,7,5,8]\n",
    "b=a    #아예같은객체 (뷰)\n",
    "c=a.copy() # 값은 같지만 다른객체(카피)\n",
    "d=a[:]    #값은같지만 다른객체(카피)\n",
    "print('id(a)={}, id(b)='.format(id(a),id(b)))\n",
    "print('a={},b={}'.format(a,b))\n",
    "\n",
    "a[2]=10000\n",
    "print('id(a)={}, id(b)={}'.format(id(a),id(b)))\n",
    "print('a={},b={}'.format(a,b))\n",
    "\n",
    "\n"
   ]
  },
  {
   "cell_type": "code",
   "execution_count": 108,
   "metadata": {},
   "outputs": [
    {
     "name": "stdout",
     "output_type": "stream",
     "text": [
      "id(c)=1577157958408, id(d)=1577157959240\n"
     ]
    }
   ],
   "source": [
    "print('id(c)={}, id(d)={}'.format(id(c),id(d)))"
   ]
  },
  {
   "cell_type": "code",
   "execution_count": 110,
   "metadata": {},
   "outputs": [
    {
     "data": {
      "text/plain": [
       "[5, 4, 3, 2, 1]"
      ]
     },
     "execution_count": 110,
     "metadata": {},
     "output_type": "execute_result"
    }
   ],
   "source": [
    "A=[1,2,3,4,5]\n",
    "A.reverse()\n",
    "A"
   ]
  },
  {
   "cell_type": "code",
   "execution_count": 115,
   "metadata": {},
   "outputs": [],
   "source": [
    "A.sort(reverse=True) #내림차순 정렬"
   ]
  },
  {
   "cell_type": "code",
   "execution_count": 122,
   "metadata": {},
   "outputs": [],
   "source": [
    "B=[-10,-5,1,5,4]\n",
    "B.sort(key=abs)  #절대값으로 오름차순정렬"
   ]
  },
  {
   "cell_type": "code",
   "execution_count": 121,
   "metadata": {},
   "outputs": [
    {
     "data": {
      "text/plain": [
       "[1, 4, -5, 5, -10]"
      ]
     },
     "execution_count": 121,
     "metadata": {},
     "output_type": "execute_result"
    }
   ],
   "source": [
    "B"
   ]
  },
  {
   "cell_type": "code",
   "execution_count": 125,
   "metadata": {},
   "outputs": [],
   "source": [
    "q=['java','python','key','aaaaaaaaaaaa']\n",
    "q.sort(key=len)"
   ]
  },
  {
   "cell_type": "code",
   "execution_count": 126,
   "metadata": {},
   "outputs": [
    {
     "data": {
      "text/plain": [
       "['key', 'java', 'python', 'aaaaaaaaaaaa']"
      ]
     },
     "execution_count": 126,
     "metadata": {},
     "output_type": "execute_result"
    }
   ],
   "source": [
    "q"
   ]
  },
  {
   "cell_type": "code",
   "execution_count": 131,
   "metadata": {},
   "outputs": [],
   "source": [
    "a=([1,2,3,4],) #튜플안 리스트의 원소는 변경가능하다"
   ]
  },
  {
   "cell_type": "code",
   "execution_count": 132,
   "metadata": {},
   "outputs": [
    {
     "data": {
      "text/plain": [
       "tuple"
      ]
     },
     "execution_count": 132,
     "metadata": {},
     "output_type": "execute_result"
    }
   ],
   "source": [
    "type(a)"
   ]
  },
  {
   "cell_type": "code",
   "execution_count": 135,
   "metadata": {},
   "outputs": [
    {
     "data": {
      "text/plain": [
       "([123, 2, 3, 4],)"
      ]
     },
     "execution_count": 135,
     "metadata": {},
     "output_type": "execute_result"
    }
   ],
   "source": [
    "a[0][0]=123\n",
    "a"
   ]
  },
  {
   "cell_type": "code",
   "execution_count": 136,
   "metadata": {},
   "outputs": [
    {
     "data": {
      "text/plain": [
       "(1, 2, 3, 4, 5)"
      ]
     },
     "execution_count": 136,
     "metadata": {},
     "output_type": "execute_result"
    }
   ],
   "source": [
    "tuple(range(1,6))"
   ]
  },
  {
   "cell_type": "code",
   "execution_count": 141,
   "metadata": {},
   "outputs": [
    {
     "name": "stdout",
     "output_type": "stream",
     "text": [
      "list\n",
      "1577159602504 [3, 4, 5]\n",
      "1577159602504 [3, 4, 5, 4, 5, 5, 3, 22]\n",
      "tuple\n",
      "1577159913760 (3, 4, 5)\n",
      "1577186628888 (3, 4, 5, 4, 5, 5, 3, 22)\n"
     ]
    }
   ],
   "source": [
    "print('list')\n",
    "A=[3,4,5,]\n",
    "B=[4,5,5,3,22]\n",
    "print(id(A),A)\n",
    "A+=B               #리스트같은경우는 자기자신에 덮어쓴다(아이디그대로)\n",
    "print(id(A),A)    \n",
    "\n",
    "print('tuple')\n",
    "\n",
    "A=(3,4,5,)\n",
    "B=(4,5,5,3,22)\n",
    "print(id(A),A)\n",
    "A+=B             #튜플같은경우는 새로 A 를만든다(더하기 전과 후가 아이디값이 다르다.)\n",
    "print(id(A),A)\n"
   ]
  },
  {
   "cell_type": "code",
   "execution_count": 143,
   "metadata": {},
   "outputs": [
    {
     "data": {
      "text/plain": [
       "'a'"
      ]
     },
     "execution_count": 143,
     "metadata": {},
     "output_type": "execute_result"
    }
   ],
   "source": [
    "a='abcdefg'\n"
   ]
  },
  {
   "cell_type": "code",
   "execution_count": 145,
   "metadata": {},
   "outputs": [
    {
     "ename": "TypeError",
     "evalue": "unhashable type: 'list'",
     "output_type": "error",
     "traceback": [
      "\u001b[1;31m---------------------------------------------------------------------------\u001b[0m",
      "\u001b[1;31mTypeError\u001b[0m                                 Traceback (most recent call last)",
      "\u001b[1;32m<ipython-input-145-85c90e001dfa>\u001b[0m in \u001b[0;36m<module>\u001b[1;34m\u001b[0m\n\u001b[0;32m      1\u001b[0m \u001b[0ma\u001b[0m\u001b[1;33m=\u001b[0m\u001b[1;33m[\u001b[0m\u001b[1;36m1\u001b[0m\u001b[1;33m,\u001b[0m\u001b[1;36m2\u001b[0m\u001b[1;33m,\u001b[0m\u001b[1;36m3\u001b[0m\u001b[1;33m,\u001b[0m\u001b[1;36m4\u001b[0m\u001b[1;33m]\u001b[0m\u001b[1;33m\u001b[0m\u001b[1;33m\u001b[0m\u001b[0m\n\u001b[0;32m      2\u001b[0m \u001b[0mb\u001b[0m\u001b[1;33m=\u001b[0m\u001b[1;33m(\u001b[0m\u001b[1;36m1\u001b[0m\u001b[1;33m,\u001b[0m\u001b[1;36m2\u001b[0m\u001b[1;33m,\u001b[0m\u001b[1;36m3\u001b[0m\u001b[1;33m,\u001b[0m\u001b[1;36m4\u001b[0m\u001b[1;33m)\u001b[0m\u001b[1;33m\u001b[0m\u001b[1;33m\u001b[0m\u001b[0m\n\u001b[1;32m----> 3\u001b[1;33m \u001b[0mc\u001b[0m\u001b[1;33m=\u001b[0m\u001b[1;33m{\u001b[0m\u001b[0ma\u001b[0m\u001b[1;33m,\u001b[0m\u001b[0mb\u001b[0m\u001b[1;33m,\u001b[0m\u001b[1;36m34\u001b[0m\u001b[1;33m}\u001b[0m  \u001b[1;31m#뮤터블한자료(리스트 a)를 사용해서 에러남,, 이뮤터블만 원소로 넣어야한다.\u001b[0m\u001b[1;33m\u001b[0m\u001b[1;33m\u001b[0m\u001b[0m\n\u001b[0m",
      "\u001b[1;31mTypeError\u001b[0m: unhashable type: 'list'"
     ]
    }
   ],
   "source": [
    "a=[1,2,3,4]\n",
    "b=(1,2,3,4)\n",
    "c={a,b,34}  #뮤터블한자료(리스트 a)를 사용해서 에러남,, 이뮤터블만 원소로 넣어야한다.\n"
   ]
  },
  {
   "cell_type": "code",
   "execution_count": 154,
   "metadata": {},
   "outputs": [
    {
     "name": "stdout",
     "output_type": "stream",
     "text": [
      "id(A)=1577161431080, id(C)=1577161431080,A={1, 2, 3, 4, 5, 9999},C={1, 2, 3, 4, 5, 9999}\n",
      "\n",
      "\n",
      "id(B)=1577158772328, id(D)=1577162511080,B={6, 7, 8, 9, 10},D={9009, 6, 7, 8, 9, 10}\n"
     ]
    }
   ],
   "source": [
    "A={1,2,3,4,5}\n",
    "B={6,7,8,9,10}\n",
    "\n",
    "C=A\n",
    "D=B.copy()\n",
    "C.add(9999)\n",
    "D.add(9009)\n",
    "\n",
    "print('id(A)={}, id(C)={},A={},C={}'.format(id(A),id(C),A,C))   #C바꾸면 A도바뀜\n",
    "print('\\n')\n",
    "\n",
    "\n",
    "print('id(B)={}, id(D)={},B={},D={}'.format(id(B),id(D),B,D))   #D바꿔도 B안바뀜\n"
   ]
  },
  {
   "cell_type": "code",
   "execution_count": null,
   "metadata": {},
   "outputs": [],
   "source": []
  }
 ],
 "metadata": {
  "kernelspec": {
   "display_name": "MP",
   "language": "python",
   "name": "mp"
  },
  "language_info": {
   "codemirror_mode": {
    "name": "ipython",
    "version": 3
   },
   "file_extension": ".py",
   "mimetype": "text/x-python",
   "name": "python",
   "nbconvert_exporter": "python",
   "pygments_lexer": "ipython3",
   "version": "3.6.8"
  },
  "widgets": {
   "state": {},
   "version": "1.1.2"
  }
 },
 "nbformat": 4,
 "nbformat_minor": 2
}
