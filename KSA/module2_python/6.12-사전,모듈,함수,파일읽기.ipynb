{
 "cells": [
  {
   "cell_type": "markdown",
   "metadata": {},
   "source": [
    "### 사전(딕셔너리)"
   ]
  },
  {
   "cell_type": "code",
   "execution_count": 1,
   "metadata": {},
   "outputs": [],
   "source": [
    "aa={1:'A',10:'cc'}"
   ]
  },
  {
   "cell_type": "code",
   "execution_count": 2,
   "metadata": {},
   "outputs": [
    {
     "data": {
      "text/plain": [
       "'A'"
      ]
     },
     "execution_count": 2,
     "metadata": {},
     "output_type": "execute_result"
    }
   ],
   "source": [
    "aa[1]"
   ]
  },
  {
   "cell_type": "code",
   "execution_count": 3,
   "metadata": {},
   "outputs": [],
   "source": [
    "aa[13]=11"
   ]
  },
  {
   "cell_type": "code",
   "execution_count": 4,
   "metadata": {},
   "outputs": [
    {
     "data": {
      "text/plain": [
       "11"
      ]
     },
     "execution_count": 4,
     "metadata": {},
     "output_type": "execute_result"
    }
   ],
   "source": [
    "aa[13]"
   ]
  },
  {
   "cell_type": "code",
   "execution_count": 5,
   "metadata": {},
   "outputs": [
    {
     "data": {
      "text/plain": [
       "{1: 'A', 10: 'cc', 13: 11}"
      ]
     },
     "execution_count": 5,
     "metadata": {},
     "output_type": "execute_result"
    }
   ],
   "source": [
    "aa"
   ]
  },
  {
   "cell_type": "code",
   "execution_count": 7,
   "metadata": {},
   "outputs": [
    {
     "data": {
      "text/plain": [
       "('A', 11)"
      ]
     },
     "execution_count": 7,
     "metadata": {},
     "output_type": "execute_result"
    }
   ],
   "source": [
    "aa[1],aa[13]"
   ]
  },
  {
   "cell_type": "code",
   "execution_count": 8,
   "metadata": {},
   "outputs": [
    {
     "data": {
      "text/plain": [
       "dict"
      ]
     },
     "execution_count": 8,
     "metadata": {},
     "output_type": "execute_result"
    }
   ],
   "source": [
    "type(aa)"
   ]
  },
  {
   "cell_type": "code",
   "execution_count": 11,
   "metadata": {},
   "outputs": [],
   "source": [
    "aa=dict()   #빈사전 만들기"
   ]
  },
  {
   "cell_type": "code",
   "execution_count": 12,
   "metadata": {},
   "outputs": [],
   "source": [
    "aa=[(201975,45),(2021282,333),(201743,55)]  #[(키,값),(키:값)....]"
   ]
  },
  {
   "cell_type": "code",
   "execution_count": 13,
   "metadata": {},
   "outputs": [
    {
     "data": {
      "text/plain": [
       "list"
      ]
     },
     "execution_count": 13,
     "metadata": {},
     "output_type": "execute_result"
    }
   ],
   "source": [
    "type(aa)"
   ]
  },
  {
   "cell_type": "code",
   "execution_count": 16,
   "metadata": {},
   "outputs": [],
   "source": [
    "dic=dict(aa)  #원소가 2개인 튜플을 원소로갖는 리스트를 딕트로만들면 앞에거를 키, 뒤에거를 값으로쓴다."
   ]
  },
  {
   "cell_type": "code",
   "execution_count": 17,
   "metadata": {},
   "outputs": [
    {
     "data": {
      "text/plain": [
       "({201975: 45, 2021282: 333, 201743: 55}, 45)"
      ]
     },
     "execution_count": 17,
     "metadata": {},
     "output_type": "execute_result"
    }
   ],
   "source": [
    "dic,dic[201975]"
   ]
  },
  {
   "cell_type": "code",
   "execution_count": 18,
   "metadata": {},
   "outputs": [],
   "source": [
    "bb=((201975,45),(2021282,333),(201743,55))"
   ]
  },
  {
   "cell_type": "code",
   "execution_count": 20,
   "metadata": {},
   "outputs": [
    {
     "data": {
      "text/plain": [
       "{201975: 45, 2021282: 333, 201743: 55}"
      ]
     },
     "execution_count": 20,
     "metadata": {},
     "output_type": "execute_result"
    }
   ],
   "source": [
    "dict(bb)  #튜플도 가능"
   ]
  },
  {
   "cell_type": "code",
   "execution_count": 24,
   "metadata": {},
   "outputs": [
    {
     "data": {
      "text/plain": [
       "[('a', 15, 1), ('b', 20, 2), ('c', 30, 3), ('d', 40, 4), ('e', 50, 5)]"
      ]
     },
     "execution_count": 24,
     "metadata": {},
     "output_type": "execute_result"
    }
   ],
   "source": [
    "s1=['a','b','c','d','e'] #zip\n",
    "s2=[15,20,30,40,50]\n",
    "s3=[1,2,3,4,5]\n",
    "list(zip(s1,s2,s3))"
   ]
  },
  {
   "cell_type": "code",
   "execution_count": 26,
   "metadata": {},
   "outputs": [
    {
     "data": {
      "text/plain": [
       "{'a': 15, 'b': 20, 'c': 30, 'd': 40, 'e': 50}"
      ]
     },
     "execution_count": 26,
     "metadata": {},
     "output_type": "execute_result"
    }
   ],
   "source": [
    "dict(zip(s1,s2))  #zip이용해 두리스트로 딕셔너리 만들기\n",
    "\n"
   ]
  },
  {
   "cell_type": "code",
   "execution_count": 35,
   "metadata": {},
   "outputs": [],
   "source": [
    "aa={1:'one',10:'ten'}\n",
    "bb={1:'one',10:'ten',1:'one'} # 1:'one'이 중복되므로 한개로본다.(그래서 aa==bb)\n",
    "cc={1:'one',2:'two',10:'ten'} # 키가 같으면 덮어써진다. 키값은 중복되면안됌"
   ]
  },
  {
   "cell_type": "code",
   "execution_count": 36,
   "metadata": {},
   "outputs": [
    {
     "data": {
      "text/plain": [
       "(True, False)"
      ]
     },
     "execution_count": 36,
     "metadata": {},
     "output_type": "execute_result"
    }
   ],
   "source": [
    "aa==bb,aa==cc    "
   ]
  },
  {
   "cell_type": "markdown",
   "metadata": {},
   "source": [
    "\n",
    "\n",
    "사전은 뮤터블(키는 수정을 못하고 값만 수정가능하다)\n",
    "\n",
    "키는 이뮤터블\n",
    "\n",
    "값은 뮤터블"
   ]
  },
  {
   "cell_type": "code",
   "execution_count": 39,
   "metadata": {},
   "outputs": [],
   "source": [
    "aa={'c++':5,'r':15,'python':10}"
   ]
  },
  {
   "cell_type": "code",
   "execution_count": 43,
   "metadata": {},
   "outputs": [],
   "source": [
    "aa['python']=20"
   ]
  },
  {
   "cell_type": "code",
   "execution_count": 44,
   "metadata": {},
   "outputs": [
    {
     "data": {
      "text/plain": [
       "20"
      ]
     },
     "execution_count": 44,
     "metadata": {},
     "output_type": "execute_result"
    }
   ],
   "source": [
    "aa['python']"
   ]
  },
  {
   "cell_type": "markdown",
   "metadata": {},
   "source": [
    "*이뮤터블의 경우\n",
    "\n",
    "A=10\n",
    "\n",
    "A=15  이렇게하면 두 A는 아이디값이 다르다(다른객체임)\n",
    "\n",
    "\n",
    "뮤터블의경우 덮어씌워도 아이디값이 같게나옴"
   ]
  },
  {
   "cell_type": "code",
   "execution_count": 51,
   "metadata": {},
   "outputs": [],
   "source": [
    "aa={'c++':5,'r':15,'python':10}"
   ]
  },
  {
   "cell_type": "code",
   "execution_count": 52,
   "metadata": {},
   "outputs": [],
   "source": [
    "aa['python']=20"
   ]
  },
  {
   "cell_type": "code",
   "execution_count": 53,
   "metadata": {},
   "outputs": [],
   "source": [
    "aa['python']\n",
    "aa['java']=12  #없는걸로 입력하면 새로 원소추가"
   ]
  },
  {
   "cell_type": "code",
   "execution_count": 54,
   "metadata": {},
   "outputs": [
    {
     "data": {
      "text/plain": [
       "12"
      ]
     },
     "execution_count": 54,
     "metadata": {},
     "output_type": "execute_result"
    }
   ],
   "source": [
    "aa['java']"
   ]
  },
  {
   "cell_type": "code",
   "execution_count": 55,
   "metadata": {},
   "outputs": [],
   "source": [
    "del aa['c++']  #원소삭제\n"
   ]
  },
  {
   "cell_type": "code",
   "execution_count": 56,
   "metadata": {},
   "outputs": [
    {
     "data": {
      "text/plain": [
       "{'r': 15, 'python': 20, 'java': 12}"
      ]
     },
     "execution_count": 56,
     "metadata": {},
     "output_type": "execute_result"
    }
   ],
   "source": [
    "aa"
   ]
  },
  {
   "cell_type": "code",
   "execution_count": 60,
   "metadata": {},
   "outputs": [
    {
     "data": {
      "text/plain": [
       "True"
      ]
     },
     "execution_count": 60,
     "metadata": {},
     "output_type": "execute_result"
    }
   ],
   "source": [
    "'r' in aa   #'키'가있는지 판단"
   ]
  },
  {
   "cell_type": "code",
   "execution_count": 62,
   "metadata": {},
   "outputs": [
    {
     "data": {
      "text/plain": [
       "['java', 'python', 'r']"
      ]
     },
     "execution_count": 62,
     "metadata": {},
     "output_type": "execute_result"
    }
   ],
   "source": [
    "sorted(aa)"
   ]
  },
  {
   "cell_type": "code",
   "execution_count": 63,
   "metadata": {},
   "outputs": [],
   "source": [
    "aa.setdefault('sol')"
   ]
  },
  {
   "cell_type": "code",
   "execution_count": 64,
   "metadata": {},
   "outputs": [
    {
     "data": {
      "text/plain": [
       "{'r': 15, 'python': 20, 'java': 12, 'sol': None}"
      ]
     },
     "execution_count": 64,
     "metadata": {},
     "output_type": "execute_result"
    }
   ],
   "source": [
    "aa"
   ]
  },
  {
   "cell_type": "code",
   "execution_count": 66,
   "metadata": {},
   "outputs": [
    {
     "data": {
      "text/plain": [
       "dict_items([('r', 15), ('python', 20), ('java', 12), ('sol', None)])"
      ]
     },
     "execution_count": 66,
     "metadata": {},
     "output_type": "execute_result"
    }
   ],
   "source": [
    "aa.items()"
   ]
  },
  {
   "cell_type": "code",
   "execution_count": 68,
   "metadata": {},
   "outputs": [
    {
     "data": {
      "text/plain": [
       "dict_values([15, 20, 12, None])"
      ]
     },
     "execution_count": 68,
     "metadata": {},
     "output_type": "execute_result"
    }
   ],
   "source": [
    "aa.values()"
   ]
  },
  {
   "cell_type": "code",
   "execution_count": 69,
   "metadata": {
    "collapsed": true
   },
   "outputs": [
    {
     "data": {
      "text/plain": [
       "['__class__',\n",
       " '__contains__',\n",
       " '__delattr__',\n",
       " '__delitem__',\n",
       " '__dir__',\n",
       " '__doc__',\n",
       " '__eq__',\n",
       " '__format__',\n",
       " '__ge__',\n",
       " '__getattribute__',\n",
       " '__getitem__',\n",
       " '__gt__',\n",
       " '__hash__',\n",
       " '__init__',\n",
       " '__init_subclass__',\n",
       " '__iter__',\n",
       " '__le__',\n",
       " '__len__',\n",
       " '__lt__',\n",
       " '__ne__',\n",
       " '__new__',\n",
       " '__reduce__',\n",
       " '__reduce_ex__',\n",
       " '__repr__',\n",
       " '__setattr__',\n",
       " '__setitem__',\n",
       " '__sizeof__',\n",
       " '__str__',\n",
       " '__subclasshook__',\n",
       " 'clear',\n",
       " 'copy',\n",
       " 'fromkeys',\n",
       " 'get',\n",
       " 'items',\n",
       " 'keys',\n",
       " 'pop',\n",
       " 'popitem',\n",
       " 'setdefault',\n",
       " 'update',\n",
       " 'values']"
      ]
     },
     "execution_count": 69,
     "metadata": {},
     "output_type": "execute_result"
    }
   ],
   "source": [
    "\n",
    "dir(dict)\n"
   ]
  },
  {
   "cell_type": "code",
   "execution_count": 72,
   "metadata": {},
   "outputs": [],
   "source": [
    "bb=aa\n",
    "cc=aa.copy()\n",
    "print(id(aa),id(bb),id(cc))"
   ]
  },
  {
   "cell_type": "code",
   "execution_count": 78,
   "metadata": {},
   "outputs": [],
   "source": [
    "bb[20]='java123' #b를바꾸면 a도 수정된다"
   ]
  },
  {
   "cell_type": "code",
   "execution_count": 79,
   "metadata": {},
   "outputs": [
    {
     "data": {
      "text/plain": [
       "{'r': 15, 'python': 20, 'java': 12, 'sol': None, 20: 'java123'}"
      ]
     },
     "execution_count": 79,
     "metadata": {},
     "output_type": "execute_result"
    }
   ],
   "source": [
    "aa"
   ]
  },
  {
   "cell_type": "code",
   "execution_count": 86,
   "metadata": {},
   "outputs": [
    {
     "data": {
      "text/plain": [
       "{'p': None, 'y': None, 't': None, 'h': None, 'o': None, 'n': None}"
      ]
     },
     "execution_count": 86,
     "metadata": {},
     "output_type": "execute_result"
    }
   ],
   "source": [
    "qqq='python'\n",
    "dic1=dict.fromkeys(qqq)  #문자열의 한글자 한글자를 키로하는 사전생성(초기값은 none)\n",
    "dic1"
   ]
  },
  {
   "cell_type": "code",
   "execution_count": null,
   "metadata": {},
   "outputs": [],
   "source": []
  },
  {
   "cell_type": "code",
   "execution_count": 87,
   "metadata": {},
   "outputs": [
    {
     "data": {
      "text/plain": [
       "dict_values([None, None, None, None, None, None])"
      ]
     },
     "execution_count": 87,
     "metadata": {},
     "output_type": "execute_result"
    }
   ],
   "source": [
    "dic1.values()"
   ]
  },
  {
   "cell_type": "code",
   "execution_count": 89,
   "metadata": {},
   "outputs": [
    {
     "data": {
      "text/plain": [
       "{1: 10, 2: 10, 3: 10, 0: 10}"
      ]
     },
     "execution_count": 89,
     "metadata": {},
     "output_type": "execute_result"
    }
   ],
   "source": [
    "w=[1,2,3,0]\n",
    "dic1=dict.fromkeys(w,10)  #문자열의 한글자 한글자를 키로하는 사전생성(초기값은 none)\n",
    "dic1"
   ]
  },
  {
   "cell_type": "code",
   "execution_count": 91,
   "metadata": {},
   "outputs": [
    {
     "data": {
      "text/plain": [
       "[(0, 1), (1, 2), (2, 3), (3, 0)]"
      ]
     },
     "execution_count": 91,
     "metadata": {},
     "output_type": "execute_result"
    }
   ],
   "source": [
    "list(enumerate(w))"
   ]
  },
  {
   "cell_type": "code",
   "execution_count": 93,
   "metadata": {},
   "outputs": [
    {
     "data": {
      "text/plain": [
       "{'r': 15, 'python': 20, 'java': 12, 'sol': None, 20: 'java123'}"
      ]
     },
     "execution_count": 93,
     "metadata": {},
     "output_type": "execute_result"
    }
   ],
   "source": [
    "aa"
   ]
  },
  {
   "cell_type": "code",
   "execution_count": 95,
   "metadata": {},
   "outputs": [
    {
     "name": "stdout",
     "output_type": "stream",
     "text": [
      "15 15\n"
     ]
    }
   ],
   "source": [
    "print(aa.get('r'),aa['r'])"
   ]
  },
  {
   "cell_type": "code",
   "execution_count": 99,
   "metadata": {},
   "outputs": [
    {
     "data": {
      "text/plain": [
       "'없는키'"
      ]
     },
     "execution_count": 99,
     "metadata": {},
     "output_type": "execute_result"
    }
   ],
   "source": [
    "aa.get('q','없는키')  #없는키써도 오류x, 옆에 뭐써주면 그거 반환해줌"
   ]
  },
  {
   "cell_type": "code",
   "execution_count": 110,
   "metadata": {},
   "outputs": [
    {
     "data": {
      "text/plain": [
       "{'r': 15,\n",
       " 'python': 20,\n",
       " 'java': 12,\n",
       " 'sol': None,\n",
       " 20: 'java123',\n",
       " 33: None,\n",
       " 44: 11}"
      ]
     },
     "execution_count": 110,
     "metadata": {},
     "output_type": "execute_result"
    }
   ],
   "source": [
    "aa.setdefault(44,11) #키가있으면 값 반환, 없으면 키추가, 추가할값 넣어줄수도잇음\n",
    "aa"
   ]
  },
  {
   "cell_type": "code",
   "execution_count": 125,
   "metadata": {},
   "outputs": [
    {
     "data": {
      "text/plain": [
       "10"
      ]
     },
     "execution_count": 125,
     "metadata": {},
     "output_type": "execute_result"
    }
   ],
   "source": [
    "aa.setdefault(33,10)"
   ]
  },
  {
   "cell_type": "code",
   "execution_count": 126,
   "metadata": {},
   "outputs": [],
   "source": [
    "res=aa.pop(33 )  # 33을 aa에서 제거하고 키값을 res에 할당"
   ]
  },
  {
   "cell_type": "code",
   "execution_count": 123,
   "metadata": {},
   "outputs": [
    {
     "data": {
      "text/plain": [
       "10"
      ]
     },
     "execution_count": 123,
     "metadata": {},
     "output_type": "execute_result"
    }
   ],
   "source": [
    "res"
   ]
  },
  {
   "cell_type": "code",
   "execution_count": 136,
   "metadata": {},
   "outputs": [
    {
     "data": {
      "text/plain": [
       "21"
      ]
     },
     "execution_count": 136,
     "metadata": {},
     "output_type": "execute_result"
    }
   ],
   "source": [
    "aa.setdefault(12,21)"
   ]
  },
  {
   "cell_type": "code",
   "execution_count": 135,
   "metadata": {},
   "outputs": [
    {
     "data": {
      "text/plain": [
       "(44, 11)"
      ]
     },
     "execution_count": 135,
     "metadata": {},
     "output_type": "execute_result"
    }
   ],
   "source": []
  },
  {
   "cell_type": "code",
   "execution_count": 137,
   "metadata": {},
   "outputs": [],
   "source": [
    "aa.setdefault(111,123)  \n",
    "pit=aa.popitem()    #임의의 키,값 쌍을 튜플로 반환"
   ]
  },
  {
   "cell_type": "code",
   "execution_count": 133,
   "metadata": {},
   "outputs": [
    {
     "data": {
      "text/plain": [
       "(111, 123)"
      ]
     },
     "execution_count": 133,
     "metadata": {},
     "output_type": "execute_result"
    }
   ],
   "source": [
    "pit"
   ]
  },
  {
   "cell_type": "code",
   "execution_count": 138,
   "metadata": {},
   "outputs": [],
   "source": [
    "bb={33:'java',22:'c',99:'v8',1:'python'}"
   ]
  },
  {
   "cell_type": "code",
   "execution_count": 141,
   "metadata": {},
   "outputs": [],
   "source": [
    "aa.update(bb)  #aa에 bb를 추가함"
   ]
  },
  {
   "cell_type": "code",
   "execution_count": 140,
   "metadata": {},
   "outputs": [
    {
     "data": {
      "text/plain": [
       "{'r': 15,\n",
       " 'python': 20,\n",
       " 'java': 12,\n",
       " 'sol': None,\n",
       " 20: 'java123',\n",
       " 12: 21,\n",
       " 33: 'java',\n",
       " 22: 'c',\n",
       " 99: 'v8',\n",
       " 1: 'python'}"
      ]
     },
     "execution_count": 140,
     "metadata": {},
     "output_type": "execute_result"
    }
   ],
   "source": [
    "aa"
   ]
  },
  {
   "cell_type": "code",
   "execution_count": 143,
   "metadata": {},
   "outputs": [],
   "source": [
    "cc={'java':1,'python':7,'c#':2,'VB':10}"
   ]
  },
  {
   "cell_type": "code",
   "execution_count": 148,
   "metadata": {},
   "outputs": [],
   "source": [
    "cc.update(C=16,fortran=17)  #원소추가"
   ]
  },
  {
   "cell_type": "code",
   "execution_count": 154,
   "metadata": {},
   "outputs": [
    {
     "data": {
      "text/plain": [
       "dict_items([('java', 1), ('python', 7), ('c#', 2), ('VB', 10), ('C', 16), ('fortran', 17)])"
      ]
     },
     "execution_count": 154,
     "metadata": {},
     "output_type": "execute_result"
    }
   ],
   "source": [
    "cc.items()   #(키,값) 튜플 리스트 반환"
   ]
  },
  {
   "cell_type": "code",
   "execution_count": 156,
   "metadata": {},
   "outputs": [
    {
     "data": {
      "text/plain": [
       "dict_values([15, 20, 12, None, 'java123', 21, 'java', 'c', 'v8', 'python'])"
      ]
     },
     "execution_count": 156,
     "metadata": {},
     "output_type": "execute_result"
    }
   ],
   "source": [
    "aa.values()  #값만 리스트로 돌려줌"
   ]
  },
  {
   "cell_type": "code",
   "execution_count": 167,
   "metadata": {},
   "outputs": [],
   "source": [
    "a=['서울','경기','인천','세종']\n",
    "dic={x:a[x] for x in range(4)}\n",
    "bb=[22,53,1,49]\n",
    "dic2={bb[x]:a[x] for x in range(4)}\n",
    "dic1=dict(zip(bb,a))"
   ]
  },
  {
   "cell_type": "code",
   "execution_count": 163,
   "metadata": {},
   "outputs": [
    {
     "data": {
      "text/plain": [
       "['서울', '경기', '인천', '세종']"
      ]
     },
     "execution_count": 163,
     "metadata": {},
     "output_type": "execute_result"
    }
   ],
   "source": [
    "a"
   ]
  },
  {
   "cell_type": "markdown",
   "metadata": {},
   "source": [
    "##  함수"
   ]
  },
  {
   "cell_type": "code",
   "execution_count": 174,
   "metadata": {},
   "outputs": [
    {
     "name": "stdout",
     "output_type": "stream",
     "text": [
      "함수예제\n",
      "함수의 정의\n"
     ]
    }
   ],
   "source": [
    "def hello():\n",
    "    print('함수의 정의')\n",
    "print('함수예제')\n",
    "hello()"
   ]
  },
  {
   "cell_type": "code",
   "execution_count": 171,
   "metadata": {},
   "outputs": [
    {
     "name": "stdout",
     "output_type": "stream",
     "text": [
      "함수의 정의\n"
     ]
    }
   ],
   "source": [
    "hello()"
   ]
  },
  {
   "cell_type": "code",
   "execution_count": 178,
   "metadata": {},
   "outputs": [
    {
     "name": "stdout",
     "output_type": "stream",
     "text": [
      "함수의 정의\n",
      "전달받은 인수:qqq\n"
     ]
    }
   ],
   "source": [
    "def hello2(x):\n",
    "    print('함수의 정의')\n",
    "    print('전달받은 인수:{}'.format(x))\n",
    "    \n",
    "hello2('qqq')"
   ]
  },
  {
   "cell_type": "code",
   "execution_count": 180,
   "metadata": {},
   "outputs": [],
   "source": [
    "def hello3(x=100):    # x=100으로 디폴트설정\n",
    "    print('인자 디폴트={}'.format(x))"
   ]
  },
  {
   "cell_type": "code",
   "execution_count": 181,
   "metadata": {},
   "outputs": [
    {
     "name": "stdout",
     "output_type": "stream",
     "text": [
      "인자 디폴트=100\n"
     ]
    }
   ],
   "source": [
    "hello3()"
   ]
  },
  {
   "cell_type": "markdown",
   "metadata": {},
   "source": [
    "def hello(*args):    임의의 갯수의 인자를받음  (받은인자를 튜플로처리)\n",
    "\n",
    "def hello(**kwargs):  임의의 키워드 갯수 (a=10  이런식) 사전으로 묶어서 처리"
   ]
  },
  {
   "cell_type": "code",
   "execution_count": 182,
   "metadata": {},
   "outputs": [],
   "source": [
    "def print_character(ch='*',a=2,b=5):\n",
    "    for i in range(a):\n",
    "        print(ch*b)\n",
    "        "
   ]
  },
  {
   "cell_type": "code",
   "execution_count": 191,
   "metadata": {},
   "outputs": [
    {
     "name": "stdout",
     "output_type": "stream",
     "text": [
      "q1q1q1q1q1q1q1q1q1q1\n",
      "q1q1q1q1q1q1q1q1q1q1\n",
      "q1q1q1q1q1q1q1q1q1q1\n",
      "q1q1q1q1q1q1q1q1q1q1\n",
      "q1q1q1q1q1q1q1q1q1q1\n",
      "##########\n",
      "##########\n",
      "##########\n"
     ]
    }
   ],
   "source": [
    "print_character('q1',5,10)        #순서 정확해야됌\n",
    "print_character(ch='#',a=3,b=10)  #순서 바꿔도 상관없음"
   ]
  },
  {
   "cell_type": "code",
   "execution_count": null,
   "metadata": {},
   "outputs": [],
   "source": [
    "print_character(#,b=10)   #섞어써도상관없다. b는 중간에 건너뛰어서 순서가안맞으므로 키워드방식으로 써야함"
   ]
  },
  {
   "cell_type": "code",
   "execution_count": null,
   "metadata": {},
   "outputs": [],
   "source": [
    "\n",
    "\n"
   ]
  },
  {
   "cell_type": "code",
   "execution_count": 195,
   "metadata": {},
   "outputs": [],
   "source": [
    "def calc(a=2,b=10,op='+'):\n",
    "    if (op=='+'):\n",
    "        c=a+b\n",
    "    elif op == '-':\n",
    "        c=a-b\n",
    "    elif op=='*':\n",
    "        c=a*b\n",
    "    elif op=='/':\n",
    "        c=a/b if b!=0 else 0\n",
    "    \n",
    "    else:\n",
    "        print('연산기호 오류')\n",
    "        \n",
    "    return c"
   ]
  },
  {
   "cell_type": "code",
   "execution_count": 201,
   "metadata": {},
   "outputs": [],
   "source": [
    "def calc(a=2,b=10,op='+'):\n",
    "    if (op=='+'):\n",
    "        c=a+b\n",
    "    elif op == '-':\n",
    "        c=a-b\n",
    "    elif op=='*':\n",
    "        c=a*b\n",
    "    elif op=='/':\n",
    "        c=a/b if b!=0 else 0\n",
    "    \n",
    "    else:\n",
    "        print('연산기호 오류')\n",
    "        return     #리턴은 이런식으로써서 강제종료할때도 사용함\n",
    "        \n",
    "    return c"
   ]
  },
  {
   "cell_type": "code",
   "execution_count": 199,
   "metadata": {},
   "outputs": [
    {
     "name": "stdout",
     "output_type": "stream",
     "text": [
      "연산기호 오류\n"
     ]
    }
   ],
   "source": [
    "calc(op='@')"
   ]
  },
  {
   "cell_type": "code",
   "execution_count": null,
   "metadata": {},
   "outputs": [],
   "source": []
  },
  {
   "cell_type": "code",
   "execution_count": 211,
   "metadata": {},
   "outputs": [
    {
     "name": "stdout",
     "output_type": "stream",
     "text": [
      "- (1, 2, 4, 1, 2, 3, 4, 5, 6, 7, 5)\n"
     ]
    },
    {
     "data": {
      "text/plain": [
       "-40"
      ]
     },
     "execution_count": 211,
     "metadata": {},
     "output_type": "execute_result"
    }
   ],
   "source": [
    "def func(op,*args):\n",
    "    v=args    #튜플형태로 저장, 몇번째인수를 가져다 쓸거면 인덱싱으로 사용한다.\n",
    "    result=0\n",
    "    if op=='+':\n",
    "        for x in v:\n",
    "            result+=x\n",
    "    elif op=='-':\n",
    "        for x in v:\n",
    "            result-=x\n",
    "    print(op,v)\n",
    "    return result\n",
    "func('-',1,2,4,1,2,3,4,5,6,7,5)"
   ]
  },
  {
   "cell_type": "code",
   "execution_count": null,
   "metadata": {},
   "outputs": [],
   "source": [
    "calc(op,*args):\n",
    "    v=args\n"
   ]
  },
  {
   "cell_type": "code",
   "execution_count": null,
   "metadata": {},
   "outputs": [],
   "source": []
  },
  {
   "cell_type": "code",
   "execution_count": 213,
   "metadata": {},
   "outputs": [],
   "source": [
    "def f(n):  #펙토리얼\n",
    "    re=1\n",
    "    for x in range(n+1):\n",
    "        re*=x\n",
    "    return re\n",
    "\n",
    "def g(n,x):   #콤비네이션\n",
    "    nf=f(n)\n",
    "    xf=f(x)\n",
    "    nxf=f(n-x)\n",
    "    return nf/(xf*nfx)"
   ]
  },
  {
   "cell_type": "markdown",
   "metadata": {},
   "source": [
    "* 전역변수 / 지역변수"
   ]
  },
  {
   "cell_type": "code",
   "execution_count": 217,
   "metadata": {},
   "outputs": [
    {
     "name": "stdout",
     "output_type": "stream",
     "text": [
      "지역변수:10\n",
      "전역변수:100\n"
     ]
    }
   ],
   "source": [
    "a=100 #전역변수\n",
    "def calc(x):   \n",
    "    a=10  #지역변수\n",
    "    print('지역변수:{}'.format(a))\n",
    "calc(3)\n",
    "print('전역변수:{}'.format(a))"
   ]
  },
  {
   "cell_type": "code",
   "execution_count": 219,
   "metadata": {},
   "outputs": [
    {
     "name": "stdout",
     "output_type": "stream",
     "text": [
      "지역변수:100\n",
      "전역변수:100\n"
     ]
    }
   ],
   "source": [
    "a=100 #전역변수\n",
    "def calc(x):   \n",
    "    b=10  #지역변수\n",
    "    print('지역변수:{}'.format(a))   #지역변수에 a가없으면 알아서 전역변수읽어옴\n",
    "calc(3)\n",
    "print('전역변수:{}'.format(a))"
   ]
  },
  {
   "cell_type": "code",
   "execution_count": 221,
   "metadata": {},
   "outputs": [
    {
     "name": "stdout",
     "output_type": "stream",
     "text": [
      "지역변수:5000\n",
      "전역변수:5000\n"
     ]
    }
   ],
   "source": [
    "a=100 #전역변수\n",
    "def calc(x):   \n",
    "    global a    #전역변수 쓸거면 글로벌 선언해줘야함\n",
    "    a=5000\n",
    "    print('지역변수:{}'.format(a))\n",
    "calc(3)\n",
    "print('전역변수:{}'.format(a))"
   ]
  },
  {
   "cell_type": "markdown",
   "metadata": {},
   "source": [
    "* 람다함수"
   ]
  },
  {
   "cell_type": "code",
   "execution_count": 225,
   "metadata": {},
   "outputs": [],
   "source": [
    "q= lambda x,y: x+y    \n",
    "\n",
    "#함수의 인수로 함수넣어야하는경우에 유용"
   ]
  },
  {
   "cell_type": "code",
   "execution_count": 224,
   "metadata": {},
   "outputs": [
    {
     "data": {
      "text/plain": [
       "9"
      ]
     },
     "execution_count": 224,
     "metadata": {},
     "output_type": "execute_result"
    }
   ],
   "source": [
    "q(4,5)"
   ]
  },
  {
   "cell_type": "code",
   "execution_count": 231,
   "metadata": {},
   "outputs": [],
   "source": [
    "a=[1,2,3,4]\n",
    "b=[2,3,1,2]\n",
    "c=([1,2,3,4],[1,1,1,1])"
   ]
  },
  {
   "cell_type": "code",
   "execution_count": 233,
   "metadata": {},
   "outputs": [
    {
     "data": {
      "text/plain": [
       "([2, 3, 4, 5], [3, 5, 4, 6])"
      ]
     },
     "execution_count": 233,
     "metadata": {},
     "output_type": "execute_result"
    }
   ],
   "source": [
    "list(map(q,*c)),list(map(q,a,b))"
   ]
  },
  {
   "cell_type": "code",
   "execution_count": null,
   "metadata": {},
   "outputs": [],
   "source": []
  },
  {
   "cell_type": "code",
   "execution_count": null,
   "metadata": {},
   "outputs": [],
   "source": []
  },
  {
   "cell_type": "code",
   "execution_count": null,
   "metadata": {},
   "outputs": [],
   "source": []
  },
  {
   "cell_type": "code",
   "execution_count": 242,
   "metadata": {},
   "outputs": [
    {
     "data": {
      "text/plain": [
       "[15, 15, 20]"
      ]
     },
     "execution_count": 242,
     "metadata": {},
     "output_type": "execute_result"
    }
   ],
   "source": [
    "x=[[2,3,4,5,1],[1,2,3,4,5],[6,5,4,3,2]]   #코드길이가 길다\n",
    "\n",
    "n=len(x)                #4줄\n",
    "result=[]\n",
    "for i in range(n):\n",
    "    result.append(sum(x[i]))\n",
    "\n",
    "    \n",
    "result"
   ]
  },
  {
   "cell_type": "code",
   "execution_count": 244,
   "metadata": {},
   "outputs": [
    {
     "data": {
      "text/plain": [
       "[15, 15, 20]"
      ]
     },
     "execution_count": 244,
     "metadata": {},
     "output_type": "execute_result"
    }
   ],
   "source": [
    "list(map(sum,x))   #한줄로끝남 (속도도 빠르다)"
   ]
  },
  {
   "cell_type": "code",
   "execution_count": null,
   "metadata": {},
   "outputs": [],
   "source": []
  },
  {
   "cell_type": "code",
   "execution_count": null,
   "metadata": {},
   "outputs": [],
   "source": []
  },
  {
   "cell_type": "markdown",
   "metadata": {},
   "source": [
    "*docstring"
   ]
  },
  {
   "cell_type": "code",
   "execution_count": 245,
   "metadata": {},
   "outputs": [],
   "source": [
    "def f(n):\n",
    "    '''\n",
    "    n! 계산함수               \n",
    "    n은 0보다 큰 양의정수\n",
    "    '''\n",
    "    \n",
    "    \n",
    "    return n"
   ]
  },
  {
   "cell_type": "code",
   "execution_count": 247,
   "metadata": {},
   "outputs": [
    {
     "name": "stdout",
     "output_type": "stream",
     "text": [
      "Help on function f in module __main__:\n",
      "\n",
      "f(n)\n",
      "    n! 계산함수\n",
      "    n은 0보다 큰 양의정수\n",
      "\n"
     ]
    }
   ],
   "source": [
    "help(f)     # 헬프돌리면 나오는 설명"
   ]
  },
  {
   "cell_type": "markdown",
   "metadata": {},
   "source": [
    "## 모듈"
   ]
  },
  {
   "cell_type": "code",
   "execution_count": 248,
   "metadata": {},
   "outputs": [],
   "source": [
    "import math"
   ]
  },
  {
   "cell_type": "code",
   "execution_count": 250,
   "metadata": {},
   "outputs": [
    {
     "data": {
      "text/plain": [
       "['__doc__',\n",
       " '__loader__',\n",
       " '__name__',\n",
       " '__package__',\n",
       " '__spec__',\n",
       " 'acos',\n",
       " 'acosh',\n",
       " 'asin',\n",
       " 'asinh',\n",
       " 'atan',\n",
       " 'atan2',\n",
       " 'atanh',\n",
       " 'ceil',\n",
       " 'copysign',\n",
       " 'cos',\n",
       " 'cosh',\n",
       " 'degrees',\n",
       " 'e',\n",
       " 'erf',\n",
       " 'erfc',\n",
       " 'exp',\n",
       " 'expm1',\n",
       " 'fabs',\n",
       " 'factorial',\n",
       " 'floor',\n",
       " 'fmod',\n",
       " 'frexp',\n",
       " 'fsum',\n",
       " 'gamma',\n",
       " 'gcd',\n",
       " 'hypot',\n",
       " 'inf',\n",
       " 'isclose',\n",
       " 'isfinite',\n",
       " 'isinf',\n",
       " 'isnan',\n",
       " 'ldexp',\n",
       " 'lgamma',\n",
       " 'log',\n",
       " 'log10',\n",
       " 'log1p',\n",
       " 'log2',\n",
       " 'modf',\n",
       " 'nan',\n",
       " 'pi',\n",
       " 'pow',\n",
       " 'radians',\n",
       " 'sin',\n",
       " 'sinh',\n",
       " 'sqrt',\n",
       " 'tan',\n",
       " 'tanh',\n",
       " 'tau',\n",
       " 'trunc']"
      ]
     },
     "execution_count": 250,
     "metadata": {},
     "output_type": "execute_result"
    }
   ],
   "source": [
    "dir(math)"
   ]
  },
  {
   "cell_type": "code",
   "execution_count": 260,
   "metadata": {},
   "outputs": [
    {
     "data": {
      "text/plain": [
       "(1.7320508075688772, 120, 2.718281828459045)"
      ]
     },
     "execution_count": 260,
     "metadata": {},
     "output_type": "execute_result"
    }
   ],
   "source": [
    "math.sqrt(3),math.factorial(5)"
   ]
  },
  {
   "cell_type": "code",
   "execution_count": 271,
   "metadata": {},
   "outputs": [],
   "source": [
    "from math import e,pi,factorial\n",
    "\n",
    "\n",
    "del e,pi,factorial"
   ]
  },
  {
   "cell_type": "code",
   "execution_count": 272,
   "metadata": {},
   "outputs": [],
   "source": [
    "del math"
   ]
  },
  {
   "cell_type": "code",
   "execution_count": 273,
   "metadata": {},
   "outputs": [
    {
     "ename": "NameError",
     "evalue": "name 'pi' is not defined",
     "output_type": "error",
     "traceback": [
      "\u001b[1;31m---------------------------------------------------------------------------\u001b[0m",
      "\u001b[1;31mNameError\u001b[0m                                 Traceback (most recent call last)",
      "\u001b[1;32m<ipython-input-273-f340f837fd2b>\u001b[0m in \u001b[0;36m<module>\u001b[1;34m\u001b[0m\n\u001b[0;32m      1\u001b[0m \u001b[1;32mimport\u001b[0m \u001b[0mmath\u001b[0m  \u001b[1;31m# impor만 쓰는경우\u001b[0m\u001b[1;33m\u001b[0m\u001b[1;33m\u001b[0m\u001b[0m\n\u001b[0;32m      2\u001b[0m \u001b[1;33m\u001b[0m\u001b[0m\n\u001b[1;32m----> 3\u001b[1;33m \u001b[0mpi\u001b[0m\u001b[1;33m,\u001b[0m\u001b[0me\u001b[0m   \u001b[1;31m#이렇게하면안됨 math.pi , math.e  이런식으로 사용해야함\u001b[0m\u001b[1;33m\u001b[0m\u001b[1;33m\u001b[0m\u001b[0m\n\u001b[0m",
      "\u001b[1;31mNameError\u001b[0m: name 'pi' is not defined"
     ]
    }
   ],
   "source": [
    "import math  # impor만 쓰는경우\n",
    "\n",
    "pi,e   #이렇게하면안됨 math.pi , math.e  이런식으로 사용해야함"
   ]
  },
  {
   "cell_type": "code",
   "execution_count": 269,
   "metadata": {},
   "outputs": [
    {
     "data": {
      "text/plain": [
       "(3.141592653589793, 2.718281828459045)"
      ]
     },
     "execution_count": 269,
     "metadata": {},
     "output_type": "execute_result"
    }
   ],
   "source": [
    "from math import pi,e\n",
    "\n",
    "pi,e  #from _ import  형식으로쓰면 바로 사용가능"
   ]
  },
  {
   "cell_type": "code",
   "execution_count": 276,
   "metadata": {},
   "outputs": [
    {
     "data": {
      "text/plain": [
       "3.3166247903554"
      ]
     },
     "execution_count": 276,
     "metadata": {},
     "output_type": "execute_result"
    }
   ],
   "source": [
    "import math as mt\n",
    "\n",
    "mt.sqrt(11)  #이름 짧게쓰려고"
   ]
  },
  {
   "cell_type": "markdown",
   "metadata": {},
   "source": [
    "*모듈명 만들기\n"
   ]
  },
  {
   "cell_type": "code",
   "execution_count": 278,
   "metadata": {},
   "outputs": [],
   "source": [
    "'''\n",
    "\n",
    "모듈명 : 모듈만들기\n",
    "\n",
    "'''\n",
    "\n",
    "pi=3.141592653589793\n",
    "\n",
    "def cic_area(r):\n",
    "    return r**2"
   ]
  },
  {
   "cell_type": "code",
   "execution_count": 281,
   "metadata": {},
   "outputs": [],
   "source": [
    "from mdd import pi"
   ]
  },
  {
   "cell_type": "code",
   "execution_count": 296,
   "metadata": {},
   "outputs": [],
   "source": [
    "import mdd  #내가 만든 모듈"
   ]
  },
  {
   "cell_type": "code",
   "execution_count": 284,
   "metadata": {},
   "outputs": [
    {
     "data": {
      "text/plain": [
       "4"
      ]
     },
     "execution_count": 284,
     "metadata": {},
     "output_type": "execute_result"
    }
   ],
   "source": [
    "mdd.cic_area(2)"
   ]
  },
  {
   "cell_type": "code",
   "execution_count": 285,
   "metadata": {},
   "outputs": [
    {
     "data": {
      "text/plain": [
       "3.141592653589793"
      ]
     },
     "execution_count": 285,
     "metadata": {},
     "output_type": "execute_result"
    }
   ],
   "source": [
    "mdd.pi"
   ]
  },
  {
   "cell_type": "code",
   "execution_count": 288,
   "metadata": {},
   "outputs": [
    {
     "name": "stdout",
     "output_type": "stream",
     "text": [
      "C:\\ProgramData\\Anaconda3\\envs\\mp\\python36.zip\n",
      "C:\\ProgramData\\Anaconda3\\envs\\mp\\DLLs\n",
      "C:\\ProgramData\\Anaconda3\\envs\\mp\\lib\n",
      "C:\\ProgramData\\Anaconda3\\envs\\mp\n",
      "\n",
      "C:\\ProgramData\\Anaconda3\\envs\\mp\\lib\\site-packages\n",
      "C:\\ProgramData\\Anaconda3\\envs\\mp\\lib\\site-packages\\IPython\\extensions\n",
      "C:\\Users\\Affinity\\.ipython\n"
     ]
    }
   ],
   "source": [
    "import sys   #파이썬 위치확인하기\n",
    "\n",
    "for i in sys.path :\n",
    "    print(i)"
   ]
  },
  {
   "cell_type": "code",
   "execution_count": 291,
   "metadata": {},
   "outputs": [
    {
     "name": "stdout",
     "output_type": "stream",
     "text": [
      "('_ast', '_bisect', '_blake2', '_codecs', '_codecs_cn', '_codecs_hk', '_codecs_iso2022', '_codecs_jp', '_codecs_kr', '_codecs_tw', '_collections', '_csv', '_datetime', '_functools', '_heapq', '_imp', '_io', '_json', '_locale', '_lsprof', '_md5', '_multibytecodec', '_opcode', '_operator', '_pickle', '_random', '_sha1', '_sha256', '_sha3', '_sha512', '_signal', '_sre', '_stat', '_string', '_struct', '_symtable', '_thread', '_tracemalloc', '_warnings', '_weakref', '_winapi', 'array', 'atexit', 'audioop', 'binascii', 'builtins', 'cmath', 'errno', 'faulthandler', 'gc', 'itertools', 'marshal', 'math', 'mmap', 'msvcrt', 'nt', 'parser', 'sys', 'time', 'winreg', 'xxsubtype', 'zipimport', 'zlib')\n"
     ]
    }
   ],
   "source": [
    "print(sys.builtin_module_names)   #표준모듈 목록\n"
   ]
  },
  {
   "cell_type": "code",
   "execution_count": 294,
   "metadata": {},
   "outputs": [],
   "source": [
    "from keyword import kwlist"
   ]
  },
  {
   "cell_type": "code",
   "execution_count": 295,
   "metadata": {},
   "outputs": [
    {
     "data": {
      "text/plain": [
       "['False',\n",
       " 'None',\n",
       " 'True',\n",
       " 'and',\n",
       " 'as',\n",
       " 'assert',\n",
       " 'break',\n",
       " 'class',\n",
       " 'continue',\n",
       " 'def',\n",
       " 'del',\n",
       " 'elif',\n",
       " 'else',\n",
       " 'except',\n",
       " 'finally',\n",
       " 'for',\n",
       " 'from',\n",
       " 'global',\n",
       " 'if',\n",
       " 'import',\n",
       " 'in',\n",
       " 'is',\n",
       " 'lambda',\n",
       " 'nonlocal',\n",
       " 'not',\n",
       " 'or',\n",
       " 'pass',\n",
       " 'raise',\n",
       " 'return',\n",
       " 'try',\n",
       " 'while',\n",
       " 'with',\n",
       " 'yield']"
      ]
     },
     "execution_count": 295,
     "metadata": {},
     "output_type": "execute_result"
    }
   ],
   "source": [
    "kwlist"
   ]
  },
  {
   "cell_type": "code",
   "execution_count": 300,
   "metadata": {},
   "outputs": [
    {
     "data": {
      "text/plain": [
       "6"
      ]
     },
     "execution_count": 300,
     "metadata": {},
     "output_type": "execute_result"
    }
   ],
   "source": [
    "import random\n",
    "random.randint(0,10)  #0~10 사이에 랜덤한정수"
   ]
  },
  {
   "cell_type": "code",
   "execution_count": 312,
   "metadata": {},
   "outputs": [],
   "source": [
    "x=[]\n",
    "for i in range(6):\n",
    "    x.append(random.randint(1,45))"
   ]
  },
  {
   "cell_type": "code",
   "execution_count": 313,
   "metadata": {},
   "outputs": [
    {
     "data": {
      "text/plain": [
       "[45, 11, 36, 22, 36, 39]"
      ]
     },
     "execution_count": 313,
     "metadata": {},
     "output_type": "execute_result"
    }
   ],
   "source": [
    "x"
   ]
  },
  {
   "cell_type": "code",
   "execution_count": 314,
   "metadata": {},
   "outputs": [],
   "source": [
    "x=[]\n",
    "for i in range(6):\n",
    "    x.append(random.randrange(1,100,4))"
   ]
  },
  {
   "cell_type": "code",
   "execution_count": 316,
   "metadata": {},
   "outputs": [
    {
     "data": {
      "text/plain": [
       "[93, 73, 81, 53, 9, 21]"
      ]
     },
     "execution_count": 316,
     "metadata": {},
     "output_type": "execute_result"
    }
   ],
   "source": [
    "x"
   ]
  },
  {
   "cell_type": "code",
   "execution_count": 319,
   "metadata": {},
   "outputs": [],
   "source": [
    "x=[]\n",
    "for i in range(6):\n",
    "    x.append(random.uniform(-10,10))   #uniform=실수"
   ]
  },
  {
   "cell_type": "code",
   "execution_count": 318,
   "metadata": {},
   "outputs": [
    {
     "data": {
      "text/plain": [
       "[-2.5984854023162285,\n",
       " 1.1590615775406814,\n",
       " -8.688513029524243,\n",
       " 5.763008747267744,\n",
       " -1.9896311930360095,\n",
       " -4.5685704683685575]"
      ]
     },
     "execution_count": 318,
     "metadata": {},
     "output_type": "execute_result"
    }
   ],
   "source": [
    "x"
   ]
  },
  {
   "cell_type": "code",
   "execution_count": 323,
   "metadata": {},
   "outputs": [
    {
     "data": {
      "text/plain": [
       "'e'"
      ]
     },
     "execution_count": 323,
     "metadata": {},
     "output_type": "execute_result"
    }
   ],
   "source": [
    "str='abcdefghijklmn'\n",
    "random.choice(str)   #표본추출"
   ]
  },
  {
   "cell_type": "code",
   "execution_count": null,
   "metadata": {},
   "outputs": [],
   "source": []
  },
  {
   "cell_type": "code",
   "execution_count": null,
   "metadata": {},
   "outputs": [],
   "source": []
  },
  {
   "cell_type": "code",
   "execution_count": null,
   "metadata": {},
   "outputs": [],
   "source": []
  },
  {
   "cell_type": "code",
   "execution_count": 331,
   "metadata": {},
   "outputs": [
    {
     "name": "stdout",
     "output_type": "stream",
     "text": [
      "10\n",
      "13\n",
      "38\n",
      "1\n",
      "6\n",
      "36\n"
     ]
    }
   ],
   "source": [
    "x=list(range(1,46))\n",
    "\n",
    "for i in range(6):\n",
    "    \n",
    "    print(random.choice(x))  #복원추출(중복가능)"
   ]
  },
  {
   "cell_type": "code",
   "execution_count": 335,
   "metadata": {},
   "outputs": [
    {
     "name": "stdout",
     "output_type": "stream",
     "text": [
      "[8, 20, 13, 42, 2, 32]\n",
      "[26, 8, 32, 25, 6, 24]\n",
      "[28, 41, 27, 19, 34, 8]\n",
      "[16, 6, 3, 42, 20, 44]\n",
      "[17, 20, 39, 14, 41, 30]\n"
     ]
    }
   ],
   "source": [
    "x=list(range(1,46))\n",
    "\n",
    "for i in range(5):\n",
    "    \n",
    "    print(random.sample(x,6))  #비복원추출(중복 불가능)"
   ]
  },
  {
   "cell_type": "code",
   "execution_count": 337,
   "metadata": {},
   "outputs": [
    {
     "name": "stdout",
     "output_type": "stream",
     "text": [
      "[35, 15, 43, 20, 42, 31, 1, 21, 28, 44, 23, 41, 38, 4, 32, 18, 14, 13, 16, 33, 27, 6, 8, 39, 40, 5, 11, 10, 3, 30, 22, 19, 29, 12, 17, 9, 26, 37, 25, 45, 36, 7, 2, 34, 24]\n"
     ]
    }
   ],
   "source": [
    "random.shuffle(x)\n",
    "print(x)"
   ]
  },
  {
   "cell_type": "code",
   "execution_count": 343,
   "metadata": {},
   "outputs": [
    {
     "name": "stdout",
     "output_type": "stream",
     "text": [
      "50\n",
      "150\n",
      "250\n",
      "350\n",
      "450\n",
      "550\n",
      "650\n",
      "750\n",
      "850\n",
      "950\n",
      "1050\n"
     ]
    }
   ],
   "source": [
    "import itertools\n",
    "for x in itertools.count(50,100):    # 1부터 2씩증가하는 수를 무한히만듬(break 걸어줘야함)\n",
    "    print(x)\n",
    "    if x>1000:\n",
    "        break"
   ]
  },
  {
   "cell_type": "code",
   "execution_count": 347,
   "metadata": {},
   "outputs": [
    {
     "name": "stdout",
     "output_type": "stream",
     "text": [
      "7\t1\t6\t5\t7\t8\t9\t7\n",
      "1\n",
      "6\n",
      "5\n",
      "7\n",
      "8\n",
      "9\n"
     ]
    }
   ],
   "source": [
    "ls=[3,0,6,7,1,6,5,7,8,9]\n",
    "def f(x):\n",
    "    return x<7\n",
    "for x in itertools.dropwhile(f,ls):# 함수값이 처음 false인값부터 반환\n",
    "    print(x,end='\\t')\n",
    "\n",
    "    \n",
    "for x in itertools.dropwhile(lambda x: x<7,ls):\n",
    "    print(x)\n"
   ]
  },
  {
   "cell_type": "code",
   "execution_count": 349,
   "metadata": {},
   "outputs": [
    {
     "name": "stdout",
     "output_type": "stream",
     "text": [
      "3\n",
      "0\n",
      "6\n"
     ]
    }
   ],
   "source": [
    "\n",
    "for x in itertools.takewhile(lambda x: x<7,ls):  #트루인값만 리턴\n",
    "    print(x)"
   ]
  },
  {
   "cell_type": "code",
   "execution_count": 352,
   "metadata": {},
   "outputs": [
    {
     "name": "stdout",
     "output_type": "stream",
     "text": [
      "1 [1, 1]\n",
      "2 [2, 2, 2, 2]\n",
      "3 [3, 3, 3, 3]\n",
      "4 [4, 4, 4, 4]\n"
     ]
    }
   ],
   "source": [
    "ls=[1,1,2,2,2,2,3,3,3,3,4,4,4,4]\n",
    "x=itertools.groupby(ls)\n",
    "\n",
    "for v,k in x:\n",
    "    print(v, list(k))"
   ]
  },
  {
   "cell_type": "code",
   "execution_count": null,
   "metadata": {},
   "outputs": [],
   "source": [
    "\n"
   ]
  },
  {
   "cell_type": "code",
   "execution_count": 354,
   "metadata": {},
   "outputs": [
    {
     "name": "stdout",
     "output_type": "stream",
     "text": [
      "공 ['공기']\n",
      "배 ['배움']\n",
      "백 ['백상예술대상']\n",
      "책 ['책걸상', '책상', '책장']\n"
     ]
    }
   ],
   "source": [
    "ls={'공기','책상','책장','배움','백상예술대상','책걸상'}\n",
    "\n",
    "d={}\n",
    "\n",
    "for word in sorted(ls):   #문자열 첫글자기준 오름차순정렬\n",
    "    if word[0] in d:\n",
    "        d[word[0]].append(word)\n",
    "    else:\n",
    "        d[word[0]]=[]\n",
    "        d[word[0]].append(word)\n",
    "        \n",
    "        \n",
    "for k in d.keys():   \n",
    "    d[k].sort()\n",
    "\n",
    "for k,v in d.items():\n",
    "    print(k,v)"
   ]
  },
  {
   "cell_type": "code",
   "execution_count": 355,
   "metadata": {},
   "outputs": [],
   "source": [
    "import k"
   ]
  },
  {
   "cell_type": "code",
   "execution_count": 356,
   "metadata": {},
   "outputs": [],
   "source": [
    "import calendar\n"
   ]
  },
  {
   "cell_type": "code",
   "execution_count": 359,
   "metadata": {},
   "outputs": [
    {
     "name": "stdout",
     "output_type": "stream",
     "text": [
      "                                                                            2020\n",
      "\n",
      "                    January                                               February                                               March\n",
      " Mon    Tue    Wed    Thu    Fri    Sat    Sun         Mon    Tue    Wed    Thu    Fri    Sat    Sun         Mon    Tue    Wed    Thu    Fri    Sat    Sun\n",
      "                 1      2      3      4      5                                              1      2                                                     1\n",
      "   6      7      8      9     10     11     12           3      4      5      6      7      8      9           2      3      4      5      6      7      8\n",
      "  13     14     15     16     17     18     19          10     11     12     13     14     15     16           9     10     11     12     13     14     15\n",
      "  20     21     22     23     24     25     26          17     18     19     20     21     22     23          16     17     18     19     20     21     22\n",
      "  27     28     29     30     31                        24     25     26     27     28     29                 23     24     25     26     27     28     29\n",
      "                                                                                                              30     31\n",
      "\n",
      "                     April                                                  May                                                   June\n",
      " Mon    Tue    Wed    Thu    Fri    Sat    Sun         Mon    Tue    Wed    Thu    Fri    Sat    Sun         Mon    Tue    Wed    Thu    Fri    Sat    Sun\n",
      "                 1      2      3      4      5                                       1      2      3           1      2      3      4      5      6      7\n",
      "   6      7      8      9     10     11     12           4      5      6      7      8      9     10           8      9     10     11     12     13     14\n",
      "  13     14     15     16     17     18     19          11     12     13     14     15     16     17          15     16     17     18     19     20     21\n",
      "  20     21     22     23     24     25     26          18     19     20     21     22     23     24          22     23     24     25     26     27     28\n",
      "  27     28     29     30                               25     26     27     28     29     30     31          29     30\n",
      "\n",
      "                      July                                                 August                                              September\n",
      " Mon    Tue    Wed    Thu    Fri    Sat    Sun         Mon    Tue    Wed    Thu    Fri    Sat    Sun         Mon    Tue    Wed    Thu    Fri    Sat    Sun\n",
      "                 1      2      3      4      5                                              1      2                  1      2      3      4      5      6\n",
      "   6      7      8      9     10     11     12           3      4      5      6      7      8      9           7      8      9     10     11     12     13\n",
      "  13     14     15     16     17     18     19          10     11     12     13     14     15     16          14     15     16     17     18     19     20\n",
      "  20     21     22     23     24     25     26          17     18     19     20     21     22     23          21     22     23     24     25     26     27\n",
      "  27     28     29     30     31                        24     25     26     27     28     29     30          28     29     30\n",
      "                                                        31\n",
      "\n",
      "                    October                                               November                                              December\n",
      " Mon    Tue    Wed    Thu    Fri    Sat    Sun         Mon    Tue    Wed    Thu    Fri    Sat    Sun         Mon    Tue    Wed    Thu    Fri    Sat    Sun\n",
      "                        1      2      3      4                                                     1                  1      2      3      4      5      6\n",
      "   5      6      7      8      9     10     11           2      3      4      5      6      7      8           7      8      9     10     11     12     13\n",
      "  12     13     14     15     16     17     18           9     10     11     12     13     14     15          14     15     16     17     18     19     20\n",
      "  19     20     21     22     23     24     25          16     17     18     19     20     21     22          21     22     23     24     25     26     27\n",
      "  26     27     28     29     30     31                 23     24     25     26     27     28     29          28     29     30     31\n",
      "                                                        30\n",
      "\n"
     ]
    }
   ],
   "source": [
    "print(calendar.calendar(2020,6))"
   ]
  },
  {
   "cell_type": "code",
   "execution_count": 360,
   "metadata": {},
   "outputs": [],
   "source": [
    "data=open('data_space.txt')"
   ]
  },
  {
   "cell_type": "code",
   "execution_count": 363,
   "metadata": {},
   "outputs": [
    {
     "name": "stdout",
     "output_type": "stream",
     "text": [
      "\n"
     ]
    }
   ],
   "source": [
    "data.read()"
   ]
  },
  {
   "cell_type": "markdown",
   "metadata": {},
   "source": [
    "      필드    이름   성별   나이  \n",
    "  \n",
    " 레코드      이진호  남자    30\n",
    "(케이스)"
   ]
  },
  {
   "cell_type": "code",
   "execution_count": 431,
   "metadata": {},
   "outputs": [
    {
     "name": "stdout",
     "output_type": "stream",
     "text": [
      "height weight\n",
      "\n"
     ]
    }
   ],
   "source": [
    "fobj=open('data_space.txt')\n",
    "robj=fobj.readline()\n",
    "print(robj)"
   ]
  },
  {
   "cell_type": "code",
   "execution_count": 419,
   "metadata": {},
   "outputs": [],
   "source": [
    "data=robj.split()   #공백기준으로 잘라서 리스트로 저장"
   ]
  },
  {
   "cell_type": "code",
   "execution_count": 420,
   "metadata": {},
   "outputs": [
    {
     "name": "stdout",
     "output_type": "stream",
     "text": [
      "['height', 'weight', '174.10', '71.85', '171.17', '65.46', '175.73', '72.29', '178.83', '72.49', '178.60', '73.38', '180.20', '75.40', '168.45', '66.62', '174.30', '70.84', '178.29', '72.12', '171.74', '69.66']\n"
     ]
    }
   ],
   "source": [
    "print(data)"
   ]
  },
  {
   "cell_type": "raw",
   "metadata": {},
   "source": []
  },
  {
   "cell_type": "code",
   "execution_count": 378,
   "metadata": {},
   "outputs": [
    {
     "data": {
      "text/plain": [
       "['weight', '174.10', '71.85']"
      ]
     },
     "execution_count": 378,
     "metadata": {},
     "output_type": "execute_result"
    }
   ],
   "source": [
    "robj.split()[1:4]"
   ]
  },
  {
   "cell_type": "code",
   "execution_count": 411,
   "metadata": {},
   "outputs": [],
   "source": [
    "Height=[]\n",
    "weight=[]\n",
    "for i in range(2,len(robj.split()),2):\n",
    "    Height.append(float(robj.split()[i]))\n",
    "    weight.append(float(robj.split()[i+1]))"
   ]
  },
  {
   "cell_type": "code",
   "execution_count": 412,
   "metadata": {},
   "outputs": [
    {
     "data": {
      "text/plain": [
       "[174.1, 171.17, 175.73, 178.83, 178.6, 180.2, 168.45, 174.3, 178.29, 171.74]"
      ]
     },
     "execution_count": 412,
     "metadata": {},
     "output_type": "execute_result"
    }
   ],
   "source": [
    "Height\n",
    "\n"
   ]
  },
  {
   "cell_type": "code",
   "execution_count": 413,
   "metadata": {},
   "outputs": [
    {
     "data": {
      "text/plain": [
       "[71.85, 65.46, 72.29, 72.49, 73.38, 75.4, 66.62, 70.84, 72.12, 69.66]"
      ]
     },
     "execution_count": 413,
     "metadata": {},
     "output_type": "execute_result"
    }
   ],
   "source": [
    "weight"
   ]
  },
  {
   "cell_type": "code",
   "execution_count": 414,
   "metadata": {},
   "outputs": [
    {
     "data": {
      "text/plain": [
       "175.14100000000002"
      ]
     },
     "execution_count": 414,
     "metadata": {},
     "output_type": "execute_result"
    }
   ],
   "source": [
    "sum(Height)/len(Height)"
   ]
  },
  {
   "cell_type": "code",
   "execution_count": 422,
   "metadata": {},
   "outputs": [
    {
     "name": "stdout",
     "output_type": "stream",
     "text": [
      "\n"
     ]
    }
   ],
   "source": [
    "print(fobj.readline())"
   ]
  },
  {
   "cell_type": "code",
   "execution_count": 423,
   "metadata": {},
   "outputs": [],
   "source": [
    "robj=fobj.readline()"
   ]
  },
  {
   "cell_type": "code",
   "execution_count": 433,
   "metadata": {},
   "outputs": [],
   "source": [
    "while robj:\n",
    "    print(robj,end='')\n",
    "    robj=fobj.readline()\n",
    "fobj.close()"
   ]
  },
  {
   "cell_type": "code",
   "execution_count": 443,
   "metadata": {},
   "outputs": [],
   "source": [
    "fobj=open('data_space.txt')"
   ]
  },
  {
   "cell_type": "code",
   "execution_count": 444,
   "metadata": {},
   "outputs": [],
   "source": [
    "robj2=fobj.readlines()   #한줄씩 리스트로 저장"
   ]
  },
  {
   "cell_type": "code",
   "execution_count": 445,
   "metadata": {},
   "outputs": [
    {
     "data": {
      "text/plain": [
       "['height weight\\n',\n",
       " '174.10 71.85\\n',\n",
       " '171.17 65.46\\n',\n",
       " '175.73 72.29\\n',\n",
       " '178.83 72.49\\n',\n",
       " '178.60 73.38\\n',\n",
       " '180.20 75.40\\n',\n",
       " '168.45 66.62\\n',\n",
       " '174.30 70.84\\n',\n",
       " '178.29 72.12\\n',\n",
       " '171.74 69.66\\n']"
      ]
     },
     "execution_count": 445,
     "metadata": {},
     "output_type": "execute_result"
    }
   ],
   "source": [
    "robj2"
   ]
  },
  {
   "cell_type": "code",
   "execution_count": 449,
   "metadata": {},
   "outputs": [],
   "source": [
    "#파일쓰기\n",
    "\n",
    "fobj=open('writefile.txt','w')\n",
    "fobj.write('안녕하세요 파이썬을 배워봐요\\n')\n",
    "fobj.close()\n"
   ]
  },
  {
   "cell_type": "code",
   "execution_count": 450,
   "metadata": {},
   "outputs": [],
   "source": [
    "qqq=open('data_space.txt','a')  #a 모드는 뒤에 이어서기록\n"
   ]
  },
  {
   "cell_type": "code",
   "execution_count": 453,
   "metadata": {},
   "outputs": [],
   "source": [
    "qqq=open('writefile.txt','a')\n",
    "qqq.write('새로추가가가가가')\n",
    "qqq.close()"
   ]
  },
  {
   "cell_type": "code",
   "execution_count": 456,
   "metadata": {},
   "outputs": [
    {
     "name": "stdout",
     "output_type": "stream",
     "text": [
      "점수입력하세요11\n",
      "점수입력하세요12\n",
      "점수입력하세요13\n",
      "점수입력하세요14\n",
      "점수입력하세요15\n"
     ]
    }
   ],
   "source": [
    "www=open('grade.txt','w')    #입력받아서 파일로\n",
    "for count in range(5):\n",
    "    point=input('점수입력하세요')\n",
    "    www.write(point)\n",
    "    www.write('\\n')\n",
    "www.close()"
   ]
  },
  {
   "cell_type": "code",
   "execution_count": null,
   "metadata": {},
   "outputs": [],
   "source": []
  }
 ],
 "metadata": {
  "kernelspec": {
   "display_name": "MP",
   "language": "python",
   "name": "mp"
  },
  "language_info": {
   "codemirror_mode": {
    "name": "ipython",
    "version": 3
   },
   "file_extension": ".py",
   "mimetype": "text/x-python",
   "name": "python",
   "nbconvert_exporter": "python",
   "pygments_lexer": "ipython3",
   "version": "3.6.8"
  },
  "widgets": {
   "state": {},
   "version": "1.1.2"
  }
 },
 "nbformat": 4,
 "nbformat_minor": 2
}
