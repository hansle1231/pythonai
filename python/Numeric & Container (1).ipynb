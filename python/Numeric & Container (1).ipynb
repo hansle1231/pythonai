{
 "cells": [
  {
   "cell_type": "markdown",
   "metadata": {},
   "source": [
    "# Numeric\n",
    "\n",
    "## non-sequence, immutable\n",
    "- int : immutable\n",
    "- float : immutable\n",
    "- complex : immutable\n",
    "- bool : immutable\n",
    "\n",
    "---\n",
    "\n",
    "# String\n",
    "## sequence\n",
    "- str : immutable\n",
    "- bytes : immutable\n",
    "- bytearrya : mutable\n",
    "\n",
    "---\n",
    "\n",
    "# Container\n",
    "### sequence\n",
    "- list : mutable\n",
    "- tuple : immutable\n",
    "- range : immutable\n",
    "- str : immutable\n",
    "- bytes : immutable\n",
    "- bytearray : mutable\n",
    "\n",
    "\n",
    "### non-sequence\n",
    "- set : mutable\n",
    "- frozenset : immutable\n",
    "- dict : mutable"
   ]
  },
  {
   "cell_type": "markdown",
   "metadata": {},
   "source": [
    "# Markdown을 이용해서 python type 특징 정리하기"
   ]
  },
  {
   "cell_type": "markdown",
   "metadata": {},
   "source": [
    "# 정리\n",
    "## https://docs.python.org/ko/3/library/stdtypes.html\n",
    "\n",
    "| type | literal | constructor | 특징 |\n",
    "|------|---------|-------------|------|\n",
    "|int   |0        |int()        |numeric, immutable|\n",
    "|float |0.       |float()      |numeric, immutable|\n",
    "|bool  |False    |bool()       |numeric, immutable|\n",
    "|complex|0j      |complex()    |numeric, immutable|\n",
    "|list  |[]       |list()       |container, mutable, sequence|\n",
    "|tuple |()       |tuple()      |container, immutable, sequence|\n",
    "|set   |{value,}     |set()        |container, mutable, hash/mapping|\n",
    "|frozenset|없음  |frozenset()  |container, immutable, hash/mapping|\n",
    "|dict  |{}       |dict()       |container, mutable, dict view, hash/mapping, key-value|\n",
    "|str   |\"\" 또는 '' (\"\"\"\"\"\" 또는 ''''''도 가능)|str()       |container, immutable, sequence|\n",
    "|bytes |b\"\" 또는 b''|bytes()   |container, immutable, sequence|\n",
    "|bytearray|없음  |bytearray()  |container, mutable, sequence|\n",
    "|range|없음      |range()      |container, immutable, sequence|"
   ]
  },
  {
   "cell_type": "code",
   "execution_count": null,
   "metadata": {},
   "outputs": [],
   "source": []
  }
 ],
 "metadata": {
  "kernelspec": {
   "display_name": "Python 3",
   "language": "python",
   "name": "python3"
  },
  "language_info": {
   "codemirror_mode": {
    "name": "ipython",
    "version": 3
   },
   "file_extension": ".py",
   "mimetype": "text/x-python",
   "name": "python",
   "nbconvert_exporter": "python",
   "pygments_lexer": "ipython3",
   "version": "3.7.1"
  },
  "varInspector": {
   "cols": {
    "lenName": 16,
    "lenType": 16,
    "lenVar": 40
   },
   "kernels_config": {
    "python": {
     "delete_cmd_postfix": "",
     "delete_cmd_prefix": "del ",
     "library": "var_list.py",
     "varRefreshCmd": "print(var_dic_list())"
    },
    "r": {
     "delete_cmd_postfix": ") ",
     "delete_cmd_prefix": "rm(",
     "library": "var_list.r",
     "varRefreshCmd": "cat(var_dic_list()) "
    }
   },
   "types_to_exclude": [
    "module",
    "function",
    "builtin_function_or_method",
    "instance",
    "_Feature"
   ],
   "window_display": false
  }
 },
 "nbformat": 4,
 "nbformat_minor": 2
}
