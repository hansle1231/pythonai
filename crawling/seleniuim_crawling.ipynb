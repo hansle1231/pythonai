{
 "cells": [
  {
   "cell_type": "markdown",
   "metadata": {},
   "source": [
    "# 이미지 크롤링"
    "# 구글에서 80개이상 크롤링"
   ]
  },
  {
   "cell_type": "code",
   "execution_count": null,
   "metadata": {},
   "outputs": [],
   "source": []
  },
  {
   "cell_type": "markdown",
   "metadata": {},
   "source": [
    "## 모듈 import "
   ]
  },
  {
   "cell_type": "code",
   "execution_count": 1,
   "metadata": {},
   "outputs": [],
   "source": [
    "import selenium\n",
    "from selenium import webdriver\n",
    "\n",
    "import bs4 \n",
    "from bs4 import BeautifulSoup\n",
    "import urllib.request"
   ]
  },
  {
   "cell_type": "markdown",
   "metadata": {},
   "source": [
    "## 드라이버 생성"
   ]
  },
  {
   "cell_type": "code",
   "execution_count": 6,
   "metadata": {},
   "outputs": [],
   "source": [
    "driver=webdriver.Chrome(r'C:\\Users\\han\\Downloads\\chromedriver_win32 (1)\\chromedriver')"
   ]
  },
  {
   "cell_type": "code",
   "execution_count": 7,
   "metadata": {},
   "outputs": [],
   "source": [
    "# 크롤링을 원하는 사이트주소를 get 해준다.\n",
    "driver.get('https://www.google.com/search?q=selenium&newwindow=1&source=lnms&tbm=isch&sa=X&ved=0ahUKEwjawK6t6JvkAhU2x4sBHWoHDakQ_AUIFigA&biw=1920&bih=937')\n",
    "\n"
   ]
  },
  {
   "cell_type": "code",
   "execution_count": 11,
   "metadata": {},
   "outputs": [],
   "source": [
    "#스크롤을 원하는 위치까지 내려준다.  (이경우는 0,30000)\n",
    "#스크롤은 한번에 많이내려놓고 사용하면 편하다.\n",
    "\n",
    "\n",
    "driver.execute_script('window.scrollTo(0,30000);')  "
   ]
  },
  {
   "cell_type": "markdown",
   "metadata": {},
   "source": [
    "## 크롤링"
   ]
  },
  {
   "cell_type": "code",
   "execution_count": 12,
   "metadata": {},
   "outputs": [
    {
     "name": "stdout",
     "output_type": "stream",
     "text": [
      "css에러\n",
      "css에러\n",
      "css에러\n",
      "css에러\n"
     ]
    }
   ],
   "source": [
    "for i in range(2,250):\n",
    "    css='#rg_s > div:nth-child({}) > a.rg_l>img'.format(i)    #css_selector의 패턴을 찾아서 넣어준다.\n",
    "    try :\n",
    "        w=driver.find_element_by_css_selector(css)  \n",
    "        #해당 셀렉터를 찾아감,(find_element)\n",
    "         # find_element 한내용을 w란 객체로 저장,여기에 이미지 주소가 저장되어있다.\n",
    "        #중간에 셀렉터가 비어있는경우는 오류가 발생하므로 try/except로 처리해준다\n",
    "        \n",
    "    except:\n",
    "        print('css에러')\n",
    "        continue  \n",
    "     \n",
    "    \n",
    "    \n",
    "    # w에서 이미지 주소만 뽑아내야한다. w는 src혹은 data-src란 요소에 저장돼있다.\n",
    "       \n",
    "    url=w.get_attribute('src')  #get_attribute로 src요소의 내용(이미지 주소)를 뽑아준다.\n",
    "    if url==None:     # data-src로 저장된경우는 data-src로 저장\n",
    "        \n",
    "        url=w.get_attribute('data-src')\n",
    "    \n",
    "    try:\n",
    "        name='E:/ai/셀레니움/셀레니움 자료/image{}.jpg'.format(i-1)\n",
    "        urllib.request.urlretrieve(url,name)   #urllib으로 저장해준다.\n",
    "       \n",
    "    except:\n",
    "        print('다운로드 에러')\n",
    "        continue"
   ]
  },
  {
   "cell_type": "markdown",
   "metadata": {},
   "source": [
    "### 그냥 bs4로만 크롤링하면 구글의경우 20개(헤더 조절하면 80개) 까지밖에 못뽑지만 \n",
    "### 이렇게 셀레늄으로 하면 무제한으로 뽑아줄수있다.\n",
    "### 테스트 해보니까 창을 최대화했을때랑 작게했을때랑 같은코드에서 읽히는 자료양이 다르다.\n",
    "### 작게해놓으면 똑같이 y좌표가 1000이라도 보이는 사진수가 적어서 그런거같음"
   ]
  },
  {
   "cell_type": "code",
   "execution_count": null,
   "metadata": {},
   "outputs": [],
   "source": []
  }
 ],
 "metadata": {
  "kernelspec": {
   "display_name": "Python 3",
   "language": "python",
   "name": "python3"
  },
  "language_info": {
   "codemirror_mode": {
    "name": "ipython",
    "version": 3
   },
   "file_extension": ".py",
   "mimetype": "text/x-python",
   "name": "python",
   "nbconvert_exporter": "python",
   "pygments_lexer": "ipython3",
   "version": "3.7.3"
  }
 },
 "nbformat": 4,
 "nbformat_minor": 2
}
